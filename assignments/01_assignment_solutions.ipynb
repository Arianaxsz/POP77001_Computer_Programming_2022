{
 "cells": [
  {
   "cell_type": "code",
   "execution_count": 1,
   "id": "0f90c9f4",
   "metadata": {
    "slideshow": {
     "slide_type": "skip"
    }
   },
   "outputs": [],
   "source": [
    "options(jupyter.rich_display = FALSE)"
   ]
  },
  {
   "cell_type": "markdown",
   "id": "31d2cf7f",
   "metadata": {
    "slideshow": {
     "slide_type": "slide"
    }
   },
   "source": [
    "# Assignment 1: R Basics and Control Flow\n",
    "\n",
    "## POP77001 Computer Programming for Social Scientists"
   ]
  },
  {
   "cell_type": "markdown",
   "id": "8c6e5f0b",
   "metadata": {
    "slideshow": {
     "slide_type": "slide"
    }
   },
   "source": [
    "## Before submission\n",
    "\n",
    "- Make sure that you can run all cells without errors\n",
    "- You can do it by clicking `Kernel`, `Restart & Run All` in the menu above\n",
    "- Make sure that you save the output by pressing Command+S / CTRL+S\n",
    "- Rename the file from `04_assignment.ipynb` to `04_assignment_studentnumber_firstname_lastname.ipynb`\n",
    "- Use Firefox browser for submitting your Jupyter notebook on Blackboard"
   ]
  },
  {
   "cell_type": "markdown",
   "id": "415b8791",
   "metadata": {
    "slideshow": {
     "slide_type": "slide"
    }
   },
   "source": [
    "## Exercise 1: Subsetting (20 points)\n",
    "\n",
    "Write 3 separate subsetting operations to extract the following elements from the list below:\n",
    "- All consonants from the first character vector\n",
    "- Second columns in all dimensions from the array A\n",
    "- Odd rows from the matrix M"
   ]
  },
  {
   "cell_type": "code",
   "execution_count": 2,
   "id": "ebd7be68",
   "metadata": {
    "slideshow": {
     "slide_type": "fragment"
    }
   },
   "outputs": [
    {
     "data": {
      "text/plain": [
       "[[1]]\n",
       " a  b  c  d  e  f  g  h  i  j  k  l  m  n  o  p  q  r  s  t  u  v  w  x  y  z \n",
       " 1  2  3  4  5  6  7  8  9 10 11 12 13 14 15 16 17 18 19 20 21 22 23 24 25 26 \n",
       "\n",
       "$A\n",
       ", , 1\n",
       "\n",
       "     [,1] [,2]\n",
       "[1,]    1    6\n",
       "[2,]    2    7\n",
       "[3,]    3    8\n",
       "[4,]    4    9\n",
       "[5,]    5   10\n",
       "\n",
       ", , 2\n",
       "\n",
       "     [,1] [,2]\n",
       "[1,]   11   16\n",
       "[2,]   12   17\n",
       "[3,]   13   18\n",
       "[4,]   14   19\n",
       "[5,]   15   20\n",
       "\n",
       ", , 3\n",
       "\n",
       "     [,1] [,2]\n",
       "[1,]   21   26\n",
       "[2,]   22   27\n",
       "[3,]   23   28\n",
       "[4,]   24   29\n",
       "[5,]   25   30\n",
       "\n",
       "\n",
       "$M\n",
       "      [,1] [,2] [,3] [,4] [,5]\n",
       " [1,]    1   11   21   31   41\n",
       " [2,]    2   12   22   32   42\n",
       " [3,]    3   13   23   33   43\n",
       " [4,]    4   14   24   34   44\n",
       " [5,]    5   15   25   35   45\n",
       " [6,]    6   16   26   36   46\n",
       " [7,]    7   17   27   37   47\n",
       " [8,]    8   18   28   38   48\n",
       " [9,]    9   19   29   39   49\n",
       "[10,]   10   20   30   40   50\n"
      ]
     },
     "metadata": {},
     "output_type": "display_data"
    }
   ],
   "source": [
    "l <- list(\n",
    "    mapply(assign, letters, 1:26),\n",
    "    A = array(1:60, c(5,2,3)),\n",
    "    M = matrix(1:50, c(10,5))\n",
    ")\n",
    "l"
   ]
  },
  {
   "cell_type": "code",
   "execution_count": 3,
   "id": "c1566443",
   "metadata": {
    "slideshow": {
     "slide_type": "fragment"
    }
   },
   "outputs": [
    {
     "data": {
      "text/plain": [
       " b  c  d  f  g  h  j  k  l  m  n  p  q  r  s  t  v  w  x  y  z \n",
       " 2  3  4  6  7  8 10 11 12 13 14 16 17 18 19 20 22 23 24 25 26 "
      ]
     },
     "metadata": {},
     "output_type": "display_data"
    }
   ],
   "source": [
    "# As there are considerably more consonants than vowels in the alphabet\n",
    "# we can select all of them by excluding vowels from the vector\n",
    "l[[1]][-which(names(l[[1]]) %in% c(\"a\", \"e\", \"i\", \"o\", \"u\"))]"
   ]
  },
  {
   "cell_type": "code",
   "execution_count": 4,
   "id": "604bb2d1",
   "metadata": {
    "slideshow": {
     "slide_type": "fragment"
    }
   },
   "outputs": [
    {
     "data": {
      "text/plain": [
       ", , 1\n",
       "\n",
       "     [,1]\n",
       "[1,]    6\n",
       "[2,]    7\n",
       "[3,]    8\n",
       "[4,]    9\n",
       "[5,]   10\n",
       "\n",
       ", , 2\n",
       "\n",
       "     [,1]\n",
       "[1,]   16\n",
       "[2,]   17\n",
       "[3,]   18\n",
       "[4,]   19\n",
       "[5,]   20\n",
       "\n",
       ", , 3\n",
       "\n",
       "     [,1]\n",
       "[1,]   26\n",
       "[2,]   27\n",
       "[3,]   28\n",
       "[4,]   29\n",
       "[5,]   30\n"
      ]
     },
     "metadata": {},
     "output_type": "display_data"
    }
   ],
   "source": [
    "# Specifying drop=FALSE keeps the original structure of the array intact\n",
    "# rather than collapsing it in a 2-dimensional matrix\n",
    "l$A[,2,,drop=FALSE]"
   ]
  },
  {
   "cell_type": "code",
   "execution_count": 5,
   "id": "2e749c9d",
   "metadata": {
    "slideshow": {
     "slide_type": "fragment"
    }
   },
   "outputs": [
    {
     "data": {
      "text/plain": [
       "     [,1] [,2] [,3] [,4] [,5]\n",
       "[1,] 1    11   21   31   41  \n",
       "[2,] 3    13   23   33   43  \n",
       "[3,] 5    15   25   35   45  \n",
       "[4,] 7    17   27   37   47  \n",
       "[5,] 9    19   29   39   49  "
      ]
     },
     "metadata": {},
     "output_type": "display_data"
    }
   ],
   "source": [
    "# We can subet odd rows by passing a 2-element logical vector with the first element being TRUE\n",
    "l$M[c(TRUE, FALSE),]"
   ]
  },
  {
   "cell_type": "markdown",
   "id": "83f1117f",
   "metadata": {
    "slideshow": {
     "slide_type": "slide"
    }
   },
   "source": [
    "## Exercise 2: Working with vectors  (20 points)\n",
    "\n",
    "Look at the vector below. What is its type? Convert it into numeric. Note that some values get missing due to letter `o` used instead of digit `0`. What proportion of the vector elements did we fail to convert correctly? Now let us fix this issue. Using either subsetting and assignment or `ifelse()` function replace all `NA`s in the converted numeric vector into `0` (zeros)."
   ]
  },
  {
   "cell_type": "code",
   "execution_count": 2,
   "id": "a623da72",
   "metadata": {
    "slideshow": {
     "slide_type": "fragment"
    }
   },
   "outputs": [
    {
     "data": {
      "text/html": [
       "<ol class=list-inline>\n",
       "\t<li>'o'</li>\n",
       "\t<li>'0'</li>\n",
       "\t<li>'o'</li>\n",
       "\t<li>'o'</li>\n",
       "\t<li>'0'</li>\n",
       "\t<li>'o'</li>\n",
       "\t<li>'0'</li>\n",
       "\t<li>'o'</li>\n",
       "\t<li>'1'</li>\n",
       "\t<li>'0'</li>\n",
       "\t<li>'o'</li>\n",
       "\t<li>'1'</li>\n",
       "\t<li>'0'</li>\n",
       "\t<li>'o'</li>\n",
       "\t<li>'0'</li>\n",
       "\t<li>'1'</li>\n",
       "\t<li>'1'</li>\n",
       "\t<li>'o'</li>\n",
       "\t<li>'1'</li>\n",
       "\t<li>'0'</li>\n",
       "\t<li>'0'</li>\n",
       "\t<li>'o'</li>\n",
       "\t<li>'1'</li>\n",
       "\t<li>'o'</li>\n",
       "\t<li>'0'</li>\n",
       "\t<li>'o'</li>\n",
       "\t<li>'o'</li>\n",
       "\t<li>'0'</li>\n",
       "\t<li>'1'</li>\n",
       "\t<li>'o'</li>\n",
       "\t<li>'o'</li>\n",
       "\t<li>'0'</li>\n",
       "\t<li>'o'</li>\n",
       "\t<li>'1'</li>\n",
       "\t<li>'0'</li>\n",
       "\t<li>'0'</li>\n",
       "\t<li>'1'</li>\n",
       "\t<li>'o'</li>\n",
       "\t<li>'o'</li>\n",
       "\t<li>'0'</li>\n",
       "\t<li>'o'</li>\n",
       "\t<li>'1'</li>\n",
       "\t<li>'o'</li>\n",
       "\t<li>'o'</li>\n",
       "\t<li>'1'</li>\n",
       "\t<li>'0'</li>\n",
       "\t<li>'o'</li>\n",
       "\t<li>'1'</li>\n",
       "\t<li>'0'</li>\n",
       "\t<li>'1'</li>\n",
       "\t<li>'1'</li>\n",
       "\t<li>'o'</li>\n",
       "\t<li>'o'</li>\n",
       "\t<li>'0'</li>\n",
       "\t<li>'1'</li>\n",
       "\t<li>'o'</li>\n",
       "\t<li>'0'</li>\n",
       "\t<li>'0'</li>\n",
       "\t<li>'o'</li>\n",
       "\t<li>'o'</li>\n",
       "\t<li>'o'</li>\n",
       "\t<li>'1'</li>\n",
       "\t<li>'0'</li>\n",
       "\t<li>'o'</li>\n",
       "\t<li>'0'</li>\n",
       "\t<li>'1'</li>\n",
       "\t<li>'o'</li>\n",
       "\t<li>'0'</li>\n",
       "\t<li>'0'</li>\n",
       "\t<li>'1'</li>\n",
       "\t<li>'1'</li>\n",
       "\t<li>'0'</li>\n",
       "\t<li>'0'</li>\n",
       "\t<li>'1'</li>\n",
       "\t<li>'0'</li>\n",
       "\t<li>'o'</li>\n",
       "\t<li>'o'</li>\n",
       "\t<li>'0'</li>\n",
       "\t<li>'1'</li>\n",
       "\t<li>'o'</li>\n",
       "\t<li>'1'</li>\n",
       "\t<li>'o'</li>\n",
       "\t<li>'0'</li>\n",
       "\t<li>'o'</li>\n",
       "\t<li>'1'</li>\n",
       "\t<li>'o'</li>\n",
       "\t<li>'1'</li>\n",
       "\t<li>'o'</li>\n",
       "\t<li>'o'</li>\n",
       "\t<li>'o'</li>\n",
       "\t<li>'o'</li>\n",
       "\t<li>'0'</li>\n",
       "\t<li>'0'</li>\n",
       "\t<li>'1'</li>\n",
       "\t<li>'o'</li>\n",
       "\t<li>'0'</li>\n",
       "\t<li>'1'</li>\n",
       "\t<li>'1'</li>\n",
       "\t<li>'0'</li>\n",
       "\t<li>'1'</li>\n",
       "</ol>\n"
      ],
      "text/latex": [
       "\\begin{enumerate*}\n",
       "\\item 'o'\n",
       "\\item '0'\n",
       "\\item 'o'\n",
       "\\item 'o'\n",
       "\\item '0'\n",
       "\\item 'o'\n",
       "\\item '0'\n",
       "\\item 'o'\n",
       "\\item '1'\n",
       "\\item '0'\n",
       "\\item 'o'\n",
       "\\item '1'\n",
       "\\item '0'\n",
       "\\item 'o'\n",
       "\\item '0'\n",
       "\\item '1'\n",
       "\\item '1'\n",
       "\\item 'o'\n",
       "\\item '1'\n",
       "\\item '0'\n",
       "\\item '0'\n",
       "\\item 'o'\n",
       "\\item '1'\n",
       "\\item 'o'\n",
       "\\item '0'\n",
       "\\item 'o'\n",
       "\\item 'o'\n",
       "\\item '0'\n",
       "\\item '1'\n",
       "\\item 'o'\n",
       "\\item 'o'\n",
       "\\item '0'\n",
       "\\item 'o'\n",
       "\\item '1'\n",
       "\\item '0'\n",
       "\\item '0'\n",
       "\\item '1'\n",
       "\\item 'o'\n",
       "\\item 'o'\n",
       "\\item '0'\n",
       "\\item 'o'\n",
       "\\item '1'\n",
       "\\item 'o'\n",
       "\\item 'o'\n",
       "\\item '1'\n",
       "\\item '0'\n",
       "\\item 'o'\n",
       "\\item '1'\n",
       "\\item '0'\n",
       "\\item '1'\n",
       "\\item '1'\n",
       "\\item 'o'\n",
       "\\item 'o'\n",
       "\\item '0'\n",
       "\\item '1'\n",
       "\\item 'o'\n",
       "\\item '0'\n",
       "\\item '0'\n",
       "\\item 'o'\n",
       "\\item 'o'\n",
       "\\item 'o'\n",
       "\\item '1'\n",
       "\\item '0'\n",
       "\\item 'o'\n",
       "\\item '0'\n",
       "\\item '1'\n",
       "\\item 'o'\n",
       "\\item '0'\n",
       "\\item '0'\n",
       "\\item '1'\n",
       "\\item '1'\n",
       "\\item '0'\n",
       "\\item '0'\n",
       "\\item '1'\n",
       "\\item '0'\n",
       "\\item 'o'\n",
       "\\item 'o'\n",
       "\\item '0'\n",
       "\\item '1'\n",
       "\\item 'o'\n",
       "\\item '1'\n",
       "\\item 'o'\n",
       "\\item '0'\n",
       "\\item 'o'\n",
       "\\item '1'\n",
       "\\item 'o'\n",
       "\\item '1'\n",
       "\\item 'o'\n",
       "\\item 'o'\n",
       "\\item 'o'\n",
       "\\item 'o'\n",
       "\\item '0'\n",
       "\\item '0'\n",
       "\\item '1'\n",
       "\\item 'o'\n",
       "\\item '0'\n",
       "\\item '1'\n",
       "\\item '1'\n",
       "\\item '0'\n",
       "\\item '1'\n",
       "\\end{enumerate*}\n"
      ],
      "text/markdown": [
       "1. 'o'\n",
       "2. '0'\n",
       "3. 'o'\n",
       "4. 'o'\n",
       "5. '0'\n",
       "6. 'o'\n",
       "7. '0'\n",
       "8. 'o'\n",
       "9. '1'\n",
       "10. '0'\n",
       "11. 'o'\n",
       "12. '1'\n",
       "13. '0'\n",
       "14. 'o'\n",
       "15. '0'\n",
       "16. '1'\n",
       "17. '1'\n",
       "18. 'o'\n",
       "19. '1'\n",
       "20. '0'\n",
       "21. '0'\n",
       "22. 'o'\n",
       "23. '1'\n",
       "24. 'o'\n",
       "25. '0'\n",
       "26. 'o'\n",
       "27. 'o'\n",
       "28. '0'\n",
       "29. '1'\n",
       "30. 'o'\n",
       "31. 'o'\n",
       "32. '0'\n",
       "33. 'o'\n",
       "34. '1'\n",
       "35. '0'\n",
       "36. '0'\n",
       "37. '1'\n",
       "38. 'o'\n",
       "39. 'o'\n",
       "40. '0'\n",
       "41. 'o'\n",
       "42. '1'\n",
       "43. 'o'\n",
       "44. 'o'\n",
       "45. '1'\n",
       "46. '0'\n",
       "47. 'o'\n",
       "48. '1'\n",
       "49. '0'\n",
       "50. '1'\n",
       "51. '1'\n",
       "52. 'o'\n",
       "53. 'o'\n",
       "54. '0'\n",
       "55. '1'\n",
       "56. 'o'\n",
       "57. '0'\n",
       "58. '0'\n",
       "59. 'o'\n",
       "60. 'o'\n",
       "61. 'o'\n",
       "62. '1'\n",
       "63. '0'\n",
       "64. 'o'\n",
       "65. '0'\n",
       "66. '1'\n",
       "67. 'o'\n",
       "68. '0'\n",
       "69. '0'\n",
       "70. '1'\n",
       "71. '1'\n",
       "72. '0'\n",
       "73. '0'\n",
       "74. '1'\n",
       "75. '0'\n",
       "76. 'o'\n",
       "77. 'o'\n",
       "78. '0'\n",
       "79. '1'\n",
       "80. 'o'\n",
       "81. '1'\n",
       "82. 'o'\n",
       "83. '0'\n",
       "84. 'o'\n",
       "85. '1'\n",
       "86. 'o'\n",
       "87. '1'\n",
       "88. 'o'\n",
       "89. 'o'\n",
       "90. 'o'\n",
       "91. 'o'\n",
       "92. '0'\n",
       "93. '0'\n",
       "94. '1'\n",
       "95. 'o'\n",
       "96. '0'\n",
       "97. '1'\n",
       "98. '1'\n",
       "99. '0'\n",
       "100. '1'\n",
       "\n",
       "\n"
      ],
      "text/plain": [
       "  [1] \"o\" \"0\" \"o\" \"o\" \"0\" \"o\" \"0\" \"o\" \"1\" \"0\" \"o\" \"1\" \"0\" \"o\" \"0\" \"1\" \"1\" \"o\"\n",
       " [19] \"1\" \"0\" \"0\" \"o\" \"1\" \"o\" \"0\" \"o\" \"o\" \"0\" \"1\" \"o\" \"o\" \"0\" \"o\" \"1\" \"0\" \"0\"\n",
       " [37] \"1\" \"o\" \"o\" \"0\" \"o\" \"1\" \"o\" \"o\" \"1\" \"0\" \"o\" \"1\" \"0\" \"1\" \"1\" \"o\" \"o\" \"0\"\n",
       " [55] \"1\" \"o\" \"0\" \"0\" \"o\" \"o\" \"o\" \"1\" \"0\" \"o\" \"0\" \"1\" \"o\" \"0\" \"0\" \"1\" \"1\" \"0\"\n",
       " [73] \"0\" \"1\" \"0\" \"o\" \"o\" \"0\" \"1\" \"o\" \"1\" \"o\" \"0\" \"o\" \"1\" \"o\" \"1\" \"o\" \"o\" \"o\"\n",
       " [91] \"o\" \"0\" \"0\" \"1\" \"o\" \"0\" \"1\" \"1\" \"0\" \"1\""
      ]
     },
     "metadata": {},
     "output_type": "display_data"
    }
   ],
   "source": [
    "set.seed(2022)\n",
    "vec <- sample(c(\"1\", \"0\", \"o\"), size = 100, replace = TRUE)\n",
    "vec"
   ]
  },
  {
   "cell_type": "code",
   "execution_count": 7,
   "id": "006e6e65",
   "metadata": {
    "slideshow": {
     "slide_type": "fragment"
    }
   },
   "outputs": [
    {
     "data": {
      "text/plain": [
       "[1] \"character\""
      ]
     },
     "metadata": {},
     "output_type": "display_data"
    }
   ],
   "source": [
    "# The type of this vector is character.\n",
    "#\n",
    "# Despite the presence of zeros and ones, as you can see \n",
    "# they are enclosed in quotation marks. We can also \n",
    "# explicitly check the type of this vector with typeof()\n",
    "# function.\n",
    "typeof(vec)"
   ]
  },
  {
   "cell_type": "code",
   "execution_count": 8,
   "id": "964ba40d",
   "metadata": {
    "slideshow": {
     "slide_type": "fragment"
    }
   },
   "outputs": [
    {
     "data": {
      "text/plain": [
       "vec\n",
       " 0  1  o \n",
       "32 28 40 "
      ]
     },
     "metadata": {},
     "output_type": "display_data"
    }
   ],
   "source": [
    "# Before conversion let's check how many elements with\n",
    "# each value we have in the vector.\n",
    "table(vec)"
   ]
  },
  {
   "cell_type": "code",
   "execution_count": 9,
   "id": "08c8c1dc",
   "metadata": {
    "slideshow": {
     "slide_type": "fragment"
    }
   },
   "outputs": [
    {
     "name": "stderr",
     "output_type": "stream",
     "text": [
      "Warning message in eval(expr, envir, enclos):\n",
      "“NAs introduced by coercion”\n"
     ]
    }
   ],
   "source": [
    "# Note that we lost some values in this vector,\n",
    "# as they couldn't be properly converted into numbers\n",
    "# and, thus, were replacted with NA value.\n",
    "vec <- as.numeric(vec)"
   ]
  },
  {
   "cell_type": "code",
   "execution_count": 10,
   "id": "58bf860f",
   "metadata": {
    "slideshow": {
     "slide_type": "fragment"
    }
   },
   "outputs": [
    {
     "data": {
      "text/plain": [
       "[1] 0.4"
      ]
     },
     "metadata": {},
     "output_type": "display_data"
    }
   ],
   "source": [
    "# To calculate the proportion of NAs, we can\n",
    "# sum up the TRUE values in the output of \n",
    "# is.na() function, which get implicitly\n",
    "# converted into 1s and then divide it\n",
    "# by the length of the vector.\n",
    "sum(is.na(vec))/length(vec)"
   ]
  },
  {
   "cell_type": "code",
   "execution_count": 11,
   "id": "932edcb7",
   "metadata": {
    "slideshow": {
     "slide_type": "fragment"
    }
   },
   "outputs": [
    {
     "data": {
      "text/plain": [
       "[1] 0.4"
      ]
     },
     "metadata": {},
     "output_type": "display_data"
    }
   ],
   "source": [
    "# Alternatively, recall that TRUE and FALSE correspond to 1 and 0.\n",
    "# This means that we can directly apply mean() function to determine\n",
    "# the proportion of TRUE values in the vector results of checking for NAs.\n",
    "mean(is.na(vec))"
   ]
  },
  {
   "cell_type": "code",
   "execution_count": 12,
   "id": "6ce38203",
   "metadata": {
    "slideshow": {
     "slide_type": "fragment"
    }
   },
   "outputs": [],
   "source": [
    "# When applying ifelse() function\n",
    "# we specify whether of not a given\n",
    "# element is NA as a boolean test, 0\n",
    "# as a replacement value for instances\n",
    "# where it is and the original values of vec\n",
    "# as a plug-in value for cases where it is not.\n",
    "vec <- ifelse(is.na(vec), 0, vec)"
   ]
  },
  {
   "cell_type": "code",
   "execution_count": 13,
   "id": "98748694",
   "metadata": {
    "slideshow": {
     "slide_type": "fragment"
    }
   },
   "outputs": [
    {
     "data": {
      "text/plain": [
       "vec\n",
       " 0  1 \n",
       "72 28 "
      ]
     },
     "metadata": {},
     "output_type": "display_data"
    }
   ],
   "source": [
    "# Finally, we can compare the composition of the vector\n",
    "# after the changes we have made to the original one\n",
    "table(vec)"
   ]
  },
  {
   "cell_type": "markdown",
   "id": "103ff543",
   "metadata": {
    "slideshow": {
     "slide_type": "slide"
    }
   },
   "source": [
    "## Exercise 3: Vectorized operations  (20 points)\n",
    "\n",
    "Using function `mean()` calculate the proportion of book titles in the vector below that have more than 10 characters in them (including whitespaces).\n",
    "\n",
    "Tip: You can use `nchar()` function to calculate the number of characters in a vector"
   ]
  },
  {
   "cell_type": "code",
   "execution_count": 14,
   "id": "515a1626",
   "metadata": {
    "slideshow": {
     "slide_type": "fragment"
    }
   },
   "outputs": [],
   "source": [
    "books <- c(\n",
    "  \"Dubliners\",\n",
    "  \"Ulysses\",\n",
    "  \"War and Peace\",\n",
    "  \"Normal People\",\n",
    "  \"Crime and Punishment\",\n",
    "  \"The Picture of Dorian Gray\"\n",
    ")"
   ]
  },
  {
   "cell_type": "code",
   "execution_count": 15,
   "id": "327a3aeb",
   "metadata": {
    "slideshow": {
     "slide_type": "fragment"
    }
   },
   "outputs": [
    {
     "data": {
      "text/plain": [
       "[1] 0.6666667"
      ]
     },
     "metadata": {},
     "output_type": "display_data"
    }
   ],
   "source": [
    "# As we have seen above, mean() function \n",
    "# when applied to logical vectors offers \n",
    "# a convenient way of calculating proportions\n",
    "mean(nchar(books) > 10)"
   ]
  },
  {
   "cell_type": "markdown",
   "id": "182826c2",
   "metadata": {
    "slideshow": {
     "slide_type": "slide"
    }
   },
   "source": [
    "## Exercise 4: Attributes and factors  (20 points)\n",
    "\n",
    "Suppose you read in a variable which represents education of survey respondents. After consulting the codebook for this survey you determined that specific values that the variable takes are coded as follows:\n",
    "\n",
    "- `0` - No formal education\n",
    "- `1` - Primary Education\n",
    "- `2` - Secondary Education\n",
    "- `3` - College Education\n",
    "- `4` - Post-graduate Education\n",
    "\n",
    "Convert the variable `educ` below into a factor variable with each value coded explicitly as one of the education levels. Tabulate the variable using `table()` function. Change the order of the levels of this factor variable such that the most common education level is the first (baseline/reference) category (you can leave other education levels in their original order). Tabulate the variable again.   "
   ]
  },
  {
   "cell_type": "code",
   "execution_count": 16,
   "id": "856b7253",
   "metadata": {
    "slideshow": {
     "slide_type": "fragment"
    }
   },
   "outputs": [],
   "source": [
    "set.seed(2022)\n",
    "educ <- rpois(1000, 2)\n",
    "educ <- ifelse(educ > 4, 4, educ)"
   ]
  },
  {
   "cell_type": "code",
   "execution_count": 17,
   "id": "c7660619",
   "metadata": {
    "slideshow": {
     "slide_type": "fragment"
    }
   },
   "outputs": [
    {
     "data": {
      "text/plain": [
       "educ\n",
       "  0   1   2   3   4 \n",
       "140 274 267 181 138 "
      ]
     },
     "metadata": {},
     "output_type": "display_data"
    }
   ],
   "source": [
    "# As before, let's first check the distribution\n",
    "# of different values in the vector (variable)\n",
    "# before making any changes.\n",
    "table(educ)"
   ]
  },
  {
   "cell_type": "code",
   "execution_count": 18,
   "id": "e94963c1",
   "metadata": {
    "slideshow": {
     "slide_type": "fragment"
    }
   },
   "outputs": [],
   "source": [
    "# We convert this numeric vector into a factor\n",
    "# by using the function factor() and explicitly\n",
    "# providing what level of education each number\n",
    "# corresponds to.\n",
    "#\n",
    "# Note that this expression can be quite long,\n",
    "# so for readability reasons we break it up across\n",
    "# multiple lines.\n",
    "educ <- factor(\n",
    "  educ,\n",
    "  labels = c(\n",
    "    \"No formal education\",\n",
    "    \"Primary Education\",\n",
    "    \"Secondary Education\",\n",
    "    \"College Education\",\n",
    "    \"Post-graduate Education\"\n",
    "  ))"
   ]
  },
  {
   "cell_type": "code",
   "execution_count": 19,
   "id": "2a9b84bb",
   "metadata": {
    "slideshow": {
     "slide_type": "fragment"
    }
   },
   "outputs": [
    {
     "data": {
      "text/plain": [
       "educ\n",
       "    No formal education       Primary Education     Secondary Education \n",
       "                    140                     274                     267 \n",
       "      College Education Post-graduate Education \n",
       "                    181                     138 "
      ]
     },
     "metadata": {},
     "output_type": "display_data"
    }
   ],
   "source": [
    "# You can see that the distriubtion hasn't changed,\n",
    "# but, importantly, our vector now consists of different\n",
    "# levels of categorical variable rather than numbers.\n",
    "table(educ)"
   ]
  },
  {
   "cell_type": "code",
   "execution_count": 20,
   "id": "64ab4714",
   "metadata": {
    "slideshow": {
     "slide_type": "fragment"
    }
   },
   "outputs": [
    {
     "data": {
      "text/plain": [
       "[1] \"Primary Education\""
      ]
     },
     "metadata": {},
     "output_type": "display_data"
    }
   ],
   "source": [
    "# While we can manually extract the name of the level \n",
    "# with the highest number of observations, it is much\n",
    "# less error-prone and scalable to do that automatically.\n",
    "names(which.max(table(educ)))"
   ]
  },
  {
   "cell_type": "code",
   "execution_count": 21,
   "id": "d6a4ac84",
   "metadata": {
    "slideshow": {
     "slide_type": "fragment"
    }
   },
   "outputs": [],
   "source": [
    "# Here we are using relevel() function on our factor variable\n",
    "# to change the reference category. Instead of manually\n",
    "# supplying the name of the most common category, we are \n",
    "# calculating it automatically to make our code more robust\n",
    "# and reusable.\n",
    "educ <- relevel(educ, ref = names(which.max(table(educ))))"
   ]
  },
  {
   "cell_type": "code",
   "execution_count": 22,
   "id": "5bf70260",
   "metadata": {
    "slideshow": {
     "slide_type": "fragment"
    }
   },
   "outputs": [
    {
     "data": {
      "text/plain": [
       "educ\n",
       "      Primary Education     No formal education     Secondary Education \n",
       "                    274                     140                     267 \n",
       "      College Education Post-graduate Education \n",
       "                    181                     138 "
      ]
     },
     "metadata": {},
     "output_type": "display_data"
    }
   ],
   "source": [
    "table(educ)"
   ]
  },
  {
   "cell_type": "markdown",
   "id": "cd26bf4b",
   "metadata": {
    "slideshow": {
     "slide_type": "slide"
    }
   },
   "source": [
    "## Exercise 5: Conditional statements and loops  (20 points)\n",
    "\n",
    "[Levenshtein distance](https://en.wikipedia.org/wiki/Levenshtein_distance) is a string distance metric that measures how many transformations (insertion, deletion, substitution) are required to convert one string into another. For example, consider words 'cat' and 'can'. Letter 't' in the first word can be substituted with a character 'n' in order for the two words to become identical.\n",
    "\n",
    "For classical Levenshtein distance each of the transformations has the same cost of 1. In other words, the distance (of 1) is the same between the word pairs 'cat' - 'can' and 'cat' - 'cats'.\n",
    "\n",
    "Below you can see two character vectors that were transformed to have a single letter as an individual element. Write a loop to compare each of the elements from one string to each of the elements from another string while keeping track of the number of transformations. Print out the result of the transformations count."
   ]
  },
  {
   "cell_type": "code",
   "execution_count": 23,
   "id": "211e64a6",
   "metadata": {
    "slideshow": {
     "slide_type": "fragment"
    }
   },
   "outputs": [],
   "source": [
    "char_1 <- unlist(strsplit(\"kitten\", split = \"\"))\n",
    "char_2 <- unlist(strsplit(\"sitting\", split = \"\"))"
   ]
  },
  {
   "cell_type": "code",
   "execution_count": 24,
   "id": "e7e4e266",
   "metadata": {
    "slideshow": {
     "slide_type": "fragment"
    }
   },
   "outputs": [
    {
     "data": {
      "text/plain": [
       "[1] \"k\" \"i\" \"t\" \"t\" \"e\" \"n\""
      ]
     },
     "metadata": {},
     "output_type": "display_data"
    }
   ],
   "source": [
    "char_1"
   ]
  },
  {
   "cell_type": "code",
   "execution_count": 25,
   "id": "d09f32e6",
   "metadata": {
    "slideshow": {
     "slide_type": "fragment"
    }
   },
   "outputs": [
    {
     "data": {
      "text/plain": [
       "[1] \"s\" \"i\" \"t\" \"t\" \"i\" \"n\" \"g\""
      ]
     },
     "metadata": {},
     "output_type": "display_data"
    }
   ],
   "source": [
    "char_2"
   ]
  },
  {
   "cell_type": "code",
   "execution_count": 26,
   "id": "ec25387e",
   "metadata": {
    "slideshow": {
     "slide_type": "fragment"
    }
   },
   "outputs": [],
   "source": [
    "# Initiate a variable that would hold Levenshtein distance\n",
    "lv_dist <- 0\n",
    "# We will iterate over a longer vector (char_2)\n",
    "for (i in seq_along(char_2)) {\n",
    "    if (is.na(char_1[i])) {\n",
    "        lv_dist <- lv_dist + 1\n",
    "    } else if (char_2[i] != char_1[i]) {\n",
    "        lv_dist <- lv_dist + 1\n",
    "    } else {\n",
    "        next\n",
    "    }\n",
    "}"
   ]
  },
  {
   "cell_type": "code",
   "execution_count": 27,
   "id": "4ee7ce48",
   "metadata": {
    "scrolled": true,
    "slideshow": {
     "slide_type": "fragment"
    }
   },
   "outputs": [
    {
     "data": {
      "text/plain": [
       "[1] 3"
      ]
     },
     "metadata": {},
     "output_type": "display_data"
    }
   ],
   "source": [
    "lv_dist"
   ]
  }
 ],
 "metadata": {
  "celltoolbar": "Slideshow",
  "kernelspec": {
   "display_name": "R",
   "language": "R",
   "name": "ir"
  },
  "language_info": {
   "codemirror_mode": "r",
   "file_extension": ".r",
   "mimetype": "text/x-r-source",
   "name": "R",
   "pygments_lexer": "r",
   "version": "3.6.1"
  }
 },
 "nbformat": 4,
 "nbformat_minor": 5
}
