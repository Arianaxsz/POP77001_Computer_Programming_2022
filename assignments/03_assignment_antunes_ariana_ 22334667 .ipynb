{
 "cells": [
  {
   "cell_type": "markdown",
   "id": "c8e1ec2f",
   "metadata": {
    "slideshow": {
     "slide_type": "slide"
    }
   },
   "source": [
    "# Assignment 3: Python Fundamentals and Control Flow\n",
    "\n",
    "## POP77001 Computer Programming for Social Scientists"
   ]
  },
  {
   "cell_type": "markdown",
   "id": "dc7bfa76",
   "metadata": {
    "slideshow": {
     "slide_type": "slide"
    }
   },
   "source": [
    "## Before submission\n",
    "\n",
    "- Do not use external libraries unless explicitly specified.\n",
    "    we can use the string library \n",
    "\n",
    "- Make sure that you can run all cells without errors.\n",
    "- You can do it by clicking `Kernel`, `Restart & Run All` in the menu above.\n",
    "- Make sure that you save the output by pressing Command+S / CTRL+S.\n",
    "- Rename the file from `03_assignment.ipynb` to `03_assignment_studentnumber_firstname_lastname.ipynb`.\n",
    "- Use Firefox browser for submitting your Jupyter notebook on Blackboard."
   ]
  },
  {
   "cell_type": "markdown",
   "id": "7670f6e4",
   "metadata": {
    "slideshow": {
     "slide_type": "slide"
    }
   },
   "source": [
    "## Exercise 1: Slicing\n",
    "\n",
    "Using only slicing operations create words 'mile', 'one', 'ton' and 'not' out of the word 'milestone'. Finally, reverse the order of letters in the word (spell it backwards). Print the results."
   ]
  },
  {
   "cell_type": "code",
   "execution_count": 1,
   "id": "02e71f56",
   "metadata": {
    "slideshow": {
     "slide_type": "fragment"
    }
   },
   "outputs": [],
   "source": [
    "# Exercise 1:\n",
    "\n",
    "milestone = 'milestone'\n",
    "\n",
    "# Your code goes here\n",
    "milestone[0:4] \n",
    "milestone[6:9]\n",
    "milestone[5:8]\n",
    "milestone[5:8][::-1]\n",
    "milestone[::-1] \n"
   ]
  },
  {
   "cell_type": "code",
   "execution_count": 2,
   "id": "23da1e4b",
   "metadata": {},
   "outputs": [],
   "source": [
    "milestone[6:9]\n"
   ]
  },
  {
   "cell_type": "code",
   "execution_count": 3,
   "id": "30c8e9af",
   "metadata": {},
   "outputs": [],
   "source": [
    "\n",
    "milestone[5:8]"
   ]
  },
  {
   "cell_type": "code",
   "execution_count": 4,
   "id": "d44871d4",
   "metadata": {},
   "outputs": [],
   "source": [
    "milestone[5:8][::-1]\n"
   ]
  },
  {
   "cell_type": "code",
   "execution_count": 5,
   "id": "bf73ad04",
   "metadata": {},
   "outputs": [],
   "source": [
    "\n",
    "milestone[::-1] \n"
   ]
  },
  {
   "cell_type": "markdown",
   "id": "ad4bdae8",
   "metadata": {
    "slideshow": {
     "slide_type": "slide"
    }
   },
   "source": [
    "## Exercise 2: List comprehension\n",
    "\n",
    "Using list comprehension modify the list below in such a way that every string with a book title, which has 3 or more words in it, is replaced by an integer representing the number of words (i.e. 3 for *War and Peace*)."
   ]
  },
  {
   "cell_type": "code",
   "execution_count": 33,
   "id": "5ae6e422",
   "metadata": {
    "slideshow": {
     "slide_type": "fragment"
    }
   },
   "outputs": [],
   "source": [
    "# Exercise 2:\n",
    "\n",
    "books = [\n",
    "    'Dubliners',\n",
    "    'Ulysses',\n",
    "    'War and Peace',\n",
    "    'Normal People',\n",
    "    'Crime and Punishment',\n",
    "    'The Picture of Dorian Gray'\n",
    "]\n",
    "\n",
    "# Your code goes here\n",
    "books[0:6] = [1, 1, 3, 2, 3, 5]\n",
    "print(books)\n",
    "\n",
    "books = [item for item in books if item >= 3] \n",
    "print(books)"
   ]
  },
  {
   "cell_type": "code",
   "execution_count": 71,
   "id": "a00c7187",
   "metadata": {},
   "outputs": [
    {
     "name": "stdout",
     "output_type": "stream",
     "text": [
      "[3, 3, 5]\n"
     ]
    }
   ],
   "source": [
    "books = [item for item in books if item >= 3] \n",
    "print(books)"
   ]
  },
  {
   "cell_type": "code",
   "execution_count": 19,
   "id": "e5d13206",
   "metadata": {},
   "outputs": [
    {
     "ename": "NameError",
     "evalue": "name 'books' is not defined",
     "output_type": "error",
     "traceback": [
      "\u001b[0;31m---------------------------------------------------------------------------\u001b[0m",
      "\u001b[0;31mNameError\u001b[0m                                 Traceback (most recent call last)",
      "Input \u001b[0;32mIn [19]\u001b[0m, in \u001b[0;36m<cell line: 7>\u001b[0;34m()\u001b[0m\n\u001b[1;32m      5\u001b[0m             books\u001b[38;5;241m.\u001b[39mappend(expr(e))\n\u001b[1;32m      6\u001b[0m     \u001b[38;5;28;01mreturn\u001b[39;00m books \n\u001b[0;32m----> 7\u001b[0m \u001b[43mbooks\u001b[49m\n",
      "\u001b[0;31mNameError\u001b[0m: name 'books' is not defined"
     ]
    }
   ],
   "source": [
    "def f(expt, books, test = lambda x: True): \n",
    "    books = [] \n",
    "    for e in iterable: \n",
    "        if test(e): \n",
    "            books.append(expr(e))\n",
    "    return books \n",
    "books"
   ]
  },
  {
   "cell_type": "code",
   "execution_count": 46,
   "id": "135512fc",
   "metadata": {},
   "outputs": [
    {
     "name": "stdout",
     "output_type": "stream",
     "text": [
      "['Dubliners', 'Ulysses', 'War and Peace', 'Normal People', 'Crime and Punishment', 'The Picture of Dorian Gray']\n",
      "<class 'str'>\n"
     ]
    },
    {
     "data": {
      "text/plain": [
       "6"
      ]
     },
     "execution_count": 46,
     "metadata": {},
     "output_type": "execute_result"
    }
   ],
   "source": [
    "print(books)\n",
    "print(type(books[0]))\n",
    "len(books)"
   ]
  },
  {
   "cell_type": "code",
   "execution_count": 51,
   "id": "2e115af7",
   "metadata": {},
   "outputs": [
    {
     "name": "stdout",
     "output_type": "stream",
     "text": [
      "[1, 1, 3, 2, 3, 5]\n"
     ]
    }
   ],
   "source": [
    "books[0:6] = [1, 1, 3, 2, 3, 5]\n",
    "print(books)"
   ]
  },
  {
   "cell_type": "code",
   "execution_count": 53,
   "id": "dee87c00",
   "metadata": {},
   "outputs": [
    {
     "name": "stdout",
     "output_type": "stream",
     "text": [
      "[[1, 1, 3, 2, 3, 5]]\n"
     ]
    }
   ],
   "source": [
    "l = [books]\n",
    "for x in books: \n",
    "    l.count(x < 3)\n",
    "print(l)"
   ]
  },
  {
   "cell_type": "code",
   "execution_count": 54,
   "id": "4b5a6a28",
   "metadata": {},
   "outputs": [
    {
     "data": {
      "text/plain": [
       "[False, False, True, False, True, True]"
      ]
     },
     "execution_count": 54,
     "metadata": {},
     "output_type": "execute_result"
    }
   ],
   "source": [
    "[x >= 3 for x in books]\n"
   ]
  },
  {
   "cell_type": "code",
   "execution_count": 58,
   "id": "48185bb1",
   "metadata": {},
   "outputs": [
    {
     "name": "stdout",
     "output_type": "stream",
     "text": [
      "[]\n"
     ]
    }
   ],
   "source": [
    "books3 = [title for(books) in books if len([books]) >=3]\n",
    "print(books3)"
   ]
  },
  {
   "cell_type": "code",
   "execution_count": 25,
   "id": "a6b95542",
   "metadata": {},
   "outputs": [
    {
     "data": {
      "text/plain": [
       "[range(0, 9),\n",
       " range(0, 7),\n",
       " range(0, 13),\n",
       " range(0, 13),\n",
       " range(0, 20),\n",
       " range(0, 26)]"
      ]
     },
     "execution_count": 25,
     "metadata": {},
     "output_type": "execute_result"
    }
   ],
   "source": [
    "s2 = [range(len(x)) for x in books]\n",
    "s2"
   ]
  },
  {
   "cell_type": "code",
   "execution_count": 64,
   "id": "4a5944a1",
   "metadata": {},
   "outputs": [
    {
     "ename": "SyntaxError",
     "evalue": "invalid syntax (2691998925.py, line 4)",
     "output_type": "error",
     "traceback": [
      "\u001b[0;36m  Input \u001b[0;32mIn [64]\u001b[0;36m\u001b[0m\n\u001b[0;31m    b = [books.split() for x in books if books replace.books() >=3]\u001b[0m\n\u001b[0m                                               ^\u001b[0m\n\u001b[0;31mSyntaxError\u001b[0m\u001b[0;31m:\u001b[0m invalid syntax\n"
     ]
    }
   ],
   "source": [
    "# tip ~ split function to turn string to intenger \n",
    "\n",
    "\n",
    "b = [books.split() for x in books if books replace.books() >=3] "
   ]
  },
  {
   "cell_type": "code",
   "execution_count": 29,
   "id": "12287156",
   "metadata": {},
   "outputs": [
    {
     "ename": "TypeError",
     "evalue": "'>=' not supported between instances of 'list' and 'int'",
     "output_type": "error",
     "traceback": [
      "\u001b[0;31m---------------------------------------------------------------------------\u001b[0m",
      "\u001b[0;31mTypeError\u001b[0m                                 Traceback (most recent call last)",
      "Input \u001b[0;32mIn [29]\u001b[0m, in \u001b[0;36m<cell line: 1>\u001b[0;34m()\u001b[0m\n\u001b[0;32m----> 1\u001b[0m b1 \u001b[38;5;241m=\u001b[39m [slip\u001b[38;5;241m.\u001b[39mbooks() \u001b[38;5;28;01mfor\u001b[39;00m x \u001b[38;5;129;01min\u001b[39;00m books \u001b[38;5;28;01mif\u001b[39;00m books \u001b[38;5;241m>\u001b[39m\u001b[38;5;241m=\u001b[39m \u001b[38;5;241m3\u001b[39m]\n",
      "Input \u001b[0;32mIn [29]\u001b[0m, in \u001b[0;36m<listcomp>\u001b[0;34m(.0)\u001b[0m\n\u001b[0;32m----> 1\u001b[0m b1 \u001b[38;5;241m=\u001b[39m [slip\u001b[38;5;241m.\u001b[39mbooks() \u001b[38;5;28;01mfor\u001b[39;00m x \u001b[38;5;129;01min\u001b[39;00m books \u001b[38;5;28;01mif\u001b[39;00m \u001b[43mbooks\u001b[49m\u001b[43m \u001b[49m\u001b[38;5;241;43m>\u001b[39;49m\u001b[38;5;241;43m=\u001b[39;49m\u001b[43m \u001b[49m\u001b[38;5;241;43m3\u001b[39;49m]\n",
      "\u001b[0;31mTypeError\u001b[0m: '>=' not supported between instances of 'list' and 'int'"
     ]
    }
   ],
   "source": [
    "b1 = [slip.books() for x in books if books >= 3] #this one could be used in the assignment\n"
   ]
  },
  {
   "cell_type": "code",
   "execution_count": null,
   "id": "1d264d68",
   "metadata": {},
   "outputs": [],
   "source": [
    "[<expr> for <elem> in <iterable> if <test>] #control flow with conditional statment \n"
   ]
  },
  {
   "cell_type": "code",
   "execution_count": 41,
   "id": "9ad1cd3a",
   "metadata": {},
   "outputs": [
    {
     "data": {
      "text/plain": [
       "[9, 7, 13, 13, 20, 26]"
      ]
     },
     "execution_count": 41,
     "metadata": {},
     "output_type": "execute_result"
    }
   ],
   "source": [
    "s1 = [] \n",
    "for i in range(len(books)): \n",
    "    s1.append(len(books[i]))\n",
    "s1"
   ]
  },
  {
   "cell_type": "markdown",
   "id": "eb941025",
   "metadata": {
    "slideshow": {
     "slide_type": "slide"
    }
   },
   "source": [
    "## Exercise 3: Dictionary comprehension and looping\n",
    "\n",
    "Write a dictionary comprehension where each letter of the English alphabet is a key and a value is an empty list. Split the quote below into individual words. Write a loop that populates the previously created dictionary, where each word is assigned to a key according to its first letter (e.g. 'apple' to 'a'). Keep only unique words.\n",
    "\n",
    "Tip: You can use `ascii_lowercase` for the letters."
   ]
  },
  {
   "cell_type": "code",
   "execution_count": 19,
   "id": "d056ed73",
   "metadata": {
    "slideshow": {
     "slide_type": "fragment"
    }
   },
   "outputs": [
    {
     "name": "stdout",
     "output_type": "stream",
     "text": [
      "{'a': 0, 'b': 0, 'c': 0, 'd': 0, 'e': 0, 'f': 0, 'g': 0, 'h': 0, 'i': 0, 'j': 0, 'k': 0, 'l': 0, 'm': 0, 'n': 0, 'o': 0, 'p': 0, 'q': 0, 'r': 0, 's': 0, 't': 0, 'u': 0, 'v': 0, 'w': 0, 'x': 0, 'y': 0, 'z': 0}\n",
      "['A', 'programmer', 'is', 'ideally', 'an', 'essayist', 'who', 'works', 'with', 'traditional', 'aesthetic', 'and', 'literary', 'forms', 'as', 'well', 'as', 'mathematical', 'concepts,', 'to', 'communicate', 'the', 'way', 'that', 'an', 'algorithm', 'works', 'and', 'to', 'convince', 'a', 'reader', 'that', 'the', 'results', 'will', 'be', 'correct.']\n"
     ]
    }
   ],
   "source": [
    "# Exercise 3:\n",
    "\n",
    "quote = '''\n",
    "A programmer is ideally an essayist who works with traditional aesthetic and \n",
    "literary forms as well as mathematical concepts, to communicate the way that \n",
    "an algorithm works and to convince a reader that the results will be correct.\n",
    "'''\n",
    "\n",
    "# Your code goes here \n",
    "#correct code \n",
    "#create dictionary with alphabet and empty list\n",
    "import string\n",
    "letter = dict(zip(string.ascii_lowercase, [0]*26))\n",
    "\n",
    "print(letter_count)\n",
    "\n",
    "#split the quote \n",
    "quote_split = quote.split()\n",
    "print(quote_split)\n",
    "\n",
    "#loop - it didn't work\n",
    "\n",
    "\n",
    "for k, v in letter_count.items(): \n",
    "    if k[0] == quote_split:\n",
    "        print(quote_split)  \n",
    "    \n"
   ]
  },
  {
   "cell_type": "code",
   "execution_count": 156,
   "id": "f6fda6a7",
   "metadata": {},
   "outputs": [
    {
     "name": "stdout",
     "output_type": "stream",
     "text": [
      "{'a': 2, 'b': 0, 'c': 0, 'd': 0, 'e': 0, 'f': 0, 'g': 0, 'h': 0, 'i': 0, 'j': 0, 'k': 0, 'l': 0, 'm': 0, 'n': 0, 'o': 0, 'p': 0, 'q': 0, 'r': 0, 's': 0, 't': 0, 'u': 0, 'v': 0, 'w': 0, 'x': 0, 'y': 0, 'z': 0}\n"
     ]
    }
   ],
   "source": [
    "#looping, but it counted? \n",
    "for word in quote2: \n",
    "    if str.lower(word) in letter: \n",
    "        letter[str.lower(word)] += 1 \n",
    "\n",
    "print(letter)"
   ]
  },
  {
   "cell_type": "code",
   "execution_count": 9,
   "id": "a404cdd6",
   "metadata": {},
   "outputs": [
    {
     "name": "stdout",
     "output_type": "stream",
     "text": [
      "{'a': 0, 'b': 0, 'c': 0, 'd': 0, 'e': 0, 'f': 0, 'g': 0, 'h': 0, 'i': 0, 'j': 0, 'k': 0, 'l': 0, 'm': 0, 'n': 0, 'o': 0, 'p': 0, 'q': 0, 'r': 0, 's': 0, 't': 0, 'u': 0, 'v': 0, 'w': 0, 'x': 0, 'y': 0, 'z': 0}\n"
     ]
    }
   ],
   "source": [
    "#correct code \n",
    "import string\n",
    "letter_count = dict(zip(string.ascii_lowercase, [0]*26))\n",
    "\n",
    "print(letter_count)"
   ]
  },
  {
   "cell_type": "code",
   "execution_count": 131,
   "id": "f7b8024d",
   "metadata": {},
   "outputs": [
    {
     "name": "stdout",
     "output_type": "stream",
     "text": [
      "a has '(range(len[i]quote))'\n",
      "b has '(range(len[i]quote))'\n",
      "c has '(range(len[i]quote))'\n",
      "d has '(range(len[i]quote))'\n",
      "e has '(range(len[i]quote))'\n",
      "f has '(range(len[i]quote))'\n",
      "g has '(range(len[i]quote))'\n",
      "h has '(range(len[i]quote))'\n",
      "i has '(range(len[i]quote))'\n",
      "j has '(range(len[i]quote))'\n",
      "k has '(range(len[i]quote))'\n",
      "l has '(range(len[i]quote))'\n",
      "m has '(range(len[i]quote))'\n",
      "n has '(range(len[i]quote))'\n",
      "o has '(range(len[i]quote))'\n",
      "p has '(range(len[i]quote))'\n",
      "q has '(range(len[i]quote))'\n",
      "r has '(range(len[i]quote))'\n",
      "s has '(range(len[i]quote))'\n",
      "t has '(range(len[i]quote))'\n",
      "u has '(range(len[i]quote))'\n",
      "v has '(range(len[i]quote))'\n",
      "w has '(range(len[i]quote))'\n",
      "x has '(range(len[i]quote))'\n",
      "y has '(range(len[i]quote))'\n",
      "z has '(range(len[i]quote))'\n"
     ]
    }
   ],
   "source": [
    "for key in letter_count.keys(): \n",
    "    print(f\"{key} has '(range(len[i]quote))'\")"
   ]
  },
  {
   "cell_type": "code",
   "execution_count": 134,
   "id": "c67c5142",
   "metadata": {},
   "outputs": [
    {
     "name": "stdout",
     "output_type": "stream",
     "text": [
      "A, programmer, is, ideally, an, essayist, who, works, with, traditional, aesthetic, and, \n",
      "literary, forms, as, well, as, mathematical, concepts,, to, communicate, the, way, that, \n",
      "an, algorithm, works, and, to, convince, a, reader, that, the, results, will, be, correct.\n"
     ]
    }
   ],
   "source": [
    "split = quote.strip().replace(' ', ', ').capitalize() #slip the words to proceed in creating the loop \n",
    "print(split)"
   ]
  },
  {
   "cell_type": "code",
   "execution_count": 18,
   "id": "731cbc55",
   "metadata": {},
   "outputs": [
    {
     "name": "stdout",
     "output_type": "stream",
     "text": [
      "['A', 'programmer', 'is', 'ideally', 'an', 'essayist', 'who', 'works', 'with', 'traditional', 'aesthetic', 'and', 'literary', 'forms', 'as', 'well', 'as', 'mathematical', 'concepts,', 'to', 'communicate', 'the', 'way', 'that', 'an', 'algorithm', 'works', 'and', 'to', 'convince', 'a', 'reader', 'that', 'the', 'results', 'will', 'be', 'correct.']\n"
     ]
    }
   ],
   "source": [
    "#correct code \n",
    "quote_split = quote.split()\n",
    "print(quote_split)"
   ]
  },
  {
   "cell_type": "code",
   "execution_count": null,
   "id": "9a6fcb53",
   "metadata": {},
   "outputs": [],
   "source": [
    "#From class  - Tom said to use this one \n",
    "#d = {'apple': 150.0, 'banana': 120.0, 'watermelon': 3000.0}\n",
    "#for k, v in d.items():\n",
    "#    print(k.upper(), int(v))"
   ]
  },
  {
   "cell_type": "code",
   "execution_count": 113,
   "id": "6e3f4880",
   "metadata": {},
   "outputs": [
    {
     "data": {
      "text/plain": [
       "dict_items([('a', 0), ('b', 0), ('c', 0), ('d', 0), ('e', 0), ('f', 0), ('g', 0), ('h', 0), ('i', 0), ('j', 0), ('k', 0), ('l', 0), ('m', 0), ('n', 0), ('o', 0), ('p', 0), ('q', 0), ('r', 0), ('s', 0), ('t', 0), ('u', 0), ('v', 0), ('w', 0), ('x', 0), ('y', 0), ('z', 0)])"
      ]
     },
     "execution_count": 113,
     "metadata": {},
     "output_type": "execute_result"
    }
   ],
   "source": [
    "letter_count.keys()\n",
    "letter_count.values()\n",
    "letter_count.items()\n",
    "\n"
   ]
  },
  {
   "cell_type": "code",
   "execution_count": 3,
   "id": "148bdc45",
   "metadata": {
    "scrolled": true
   },
   "outputs": [
    {
     "ename": "NameError",
     "evalue": "name 'letter_count' is not defined",
     "output_type": "error",
     "traceback": [
      "\u001b[0;31m---------------------------------------------------------------------------\u001b[0m",
      "\u001b[0;31mNameError\u001b[0m                                 Traceback (most recent call last)",
      "Input \u001b[0;32mIn [3]\u001b[0m, in \u001b[0;36m<cell line: 2>\u001b[0;34m()\u001b[0m\n\u001b[1;32m      1\u001b[0m \u001b[38;5;66;03m#looping \u001b[39;00m\n\u001b[0;32m----> 2\u001b[0m \u001b[38;5;28;01mfor\u001b[39;00m k \u001b[38;5;129;01min\u001b[39;00m \u001b[43mletter_count\u001b[49m\u001b[38;5;241m.\u001b[39mkeys(): \n\u001b[1;32m      3\u001b[0m     \u001b[38;5;28;01mif\u001b[39;00m \u001b[38;5;28mstr\u001b[39m\u001b[38;5;241m.\u001b[39mlower(k) \u001b[38;5;129;01min\u001b[39;00m letter_count:\n\u001b[1;32m      4\u001b[0m         letter_count[\u001b[38;5;28mstr\u001b[39m\u001b[38;5;241m.\u001b[39mlower(quote_split)] \u001b[38;5;241m+\u001b[39m\u001b[38;5;241m=\u001b[39m \u001b[38;5;241m1\u001b[39m\n",
      "\u001b[0;31mNameError\u001b[0m: name 'letter_count' is not defined"
     ]
    }
   ],
   "source": [
    "#looping \n",
    "for k in letter_count.keys(): \n",
    "    if str.lower(k) in letter_count:\n",
    "        letter_count[str.lower(quote_split)] += 1\n",
    "\n",
    "print(letter_count)\n",
    "        \n",
    "    \n",
    "    \n",
    " "
   ]
  },
  {
   "cell_type": "code",
   "execution_count": 50,
   "id": "c1fca13f",
   "metadata": {},
   "outputs": [
    {
     "ename": "IndentationError",
     "evalue": "expected an indented block (1515657461.py, line 3)",
     "output_type": "error",
     "traceback": [
      "\u001b[0;36m  Input \u001b[0;32mIn [50]\u001b[0;36m\u001b[0m\n\u001b[0;31m    print(letter_count)\u001b[0m\n\u001b[0m                       ^\u001b[0m\n\u001b[0;31mIndentationError\u001b[0m\u001b[0;31m:\u001b[0m expected an indented block\n"
     ]
    }
   ],
   "source": [
    "for word in quote_split: \n",
    "    if word[0] == letter_count: \n",
    "print(word)"
   ]
  },
  {
   "cell_type": "code",
   "execution_count": 59,
   "id": "d54fa2ad",
   "metadata": {},
   "outputs": [],
   "source": [
    "# for/while are loos\n",
    "\n",
    "for k, v in letter_count.items(): \n",
    "    if k[0] == quote_split:\n",
    "        print(quote_split)  \n",
    "    "
   ]
  },
  {
   "cell_type": "code",
   "execution_count": 10,
   "id": "80136ad7",
   "metadata": {},
   "outputs": [
    {
     "name": "stdout",
     "output_type": "stream",
     "text": [
      "a 0\n",
      "b 0\n",
      "c 0\n",
      "d 0\n",
      "e 0\n",
      "f 0\n",
      "g 0\n",
      "h 0\n",
      "i 0\n",
      "j 0\n",
      "k 0\n",
      "l 0\n",
      "m 0\n",
      "n 0\n",
      "o 0\n",
      "p 0\n",
      "q 0\n",
      "r 0\n",
      "s 0\n",
      "t 0\n",
      "u 0\n",
      "v 0\n",
      "w 0\n",
      "x 0\n",
      "y 0\n",
      "z 0\n"
     ]
    }
   ],
   "source": [
    "for k, v in zip() elem in letter_count.items(): \n",
    "        print(k, elem)"
   ]
  },
  {
   "cell_type": "markdown",
   "id": "0a9e1d49",
   "metadata": {
    "slideshow": {
     "slide_type": "slide"
    }
   },
   "source": [
    "## Exercise 4: Code modularity\n",
    "\n",
    "[Euclidean distance](https://en.wikipedia.org/wiki/Euclidean_distance) between two points gives the length of a line segment between them (as the crow flies distance). It is a very versatile metric, which can be frequently encountered in statistical applications (e.g. matching) and text analysis (document similarity).\n",
    "\n",
    "Below is a snippet of code that implements it for two dimensions. How can its modularity be improved? Change the code to provide a more general solution. Extend it to 3 and further (N) dimensions.\n",
    "\n",
    "Function specification:\n",
    "\n",
    "Function takes 2 arguments:\n",
    "- `p` - sequence of first point's coordinates (in 2/3/n dimensions)\n",
    "- `q` - sequence of second point's coordinates (in 2/3/n dimensions)\n",
    "\n",
    "Function returns 1 object:\n",
    "- `dist` - floating-point value representing the Euclidean distance between the input points\n",
    "\n",
    "Example input → output:\n",
    "- $[5, 1, 3, 12, 7]$ and $[10, 8, 3, 9, 11]$ → $9.9499$\n",
    "\n",
    "External libraries:\n",
    "- None"
   ]
  },
  {
   "cell_type": "code",
   "execution_count": 16,
   "id": "66f3fa84",
   "metadata": {
    "slideshow": {
     "slide_type": "fragment"
    }
   },
   "outputs": [
    {
     "data": {
      "text/plain": [
       "4.123105625617661"
      ]
     },
     "execution_count": 16,
     "metadata": {},
     "output_type": "execute_result"
    }
   ],
   "source": [
    "# Exercise 4:\n",
    "\n",
    "# See code below, modify as necessary\n",
    "\n",
    "p = (3, 1)\n",
    "q = (4, 5)\n",
    "\n",
    "x_dist = q[0] - p[0]\n",
    "y_dist = q[1] - p[1]\n",
    "dist = (x_dist**2 + y_dist**2)**(0.5)\n",
    "dist"
   ]
  },
  {
   "cell_type": "code",
   "execution_count": 64,
   "id": "100a6fb1",
   "metadata": {},
   "outputs": [
    {
     "name": "stdout",
     "output_type": "stream",
     "text": [
      "5.477225575051661\n"
     ]
    }
   ],
   "source": [
    "#new code \n",
    "import numpy as np\n",
    "\n",
    "p = np.array([3, 1, 5, 8])\n",
    "q = np.array([4, 5, 2, 6])\n",
    "\n",
    "dist = np.linalg.norm(q - p)\n",
    "print(dist)"
   ]
  },
  {
   "cell_type": "code",
   "execution_count": 72,
   "id": "bdbef9a5",
   "metadata": {},
   "outputs": [],
   "source": [
    "def calculate_dist(*args):\n",
    "    \"\"\"\n",
    "    Calculates Euclidean distance \n",
    "    \n",
    "    Takes two points length\n",
    "    Returns the length of a line segment between them (as the crow flies distance).\n",
    "    \"\"\"    \n",
    "    x_dist = (args)[0] - (args)[0]\n",
    "    y_dist = (args)[1] - (args)[1]\n",
    "    dist = (x_dist**2 + y_dist**2)**(0.5)\n",
    "    return dist"
   ]
  },
  {
   "cell_type": "code",
   "execution_count": 74,
   "id": "ae59cce8",
   "metadata": {},
   "outputs": [
    {
     "data": {
      "text/plain": [
       "<function __main__.calculate_dist(*args)>"
      ]
     },
     "execution_count": 74,
     "metadata": {},
     "output_type": "execute_result"
    }
   ],
   "source": [
    "calculate_dist"
   ]
  },
  {
   "cell_type": "markdown",
   "id": "d1dc4832",
   "metadata": {
    "slideshow": {
     "slide_type": "slide"
    }
   },
   "source": [
    "## Exercise 5: Palindrome problem\n",
    "\n",
    "[Palindrome](https://en.wikipedia.org/wiki/Palindrome) is a word, phrase or number that reads the same way forward and backward (e.g. madam, 2021-12-02). Briefly describe the intuition about how to implement it efficiently. Write a function to check whether a string is a palindrome.\n",
    "\n",
    "Function specification:\n",
    "\n",
    "Function takes 1 argument:\n",
    "- `s` - string that is to be tested\n",
    "\n",
    "Function returns 1 object:\n",
    "- `True` or `False` - Boolean (logical) value that equals to True if the string is a palindrome and False otherwise.\n",
    "\n",
    "Example input → output:\n",
    "- `no lemon, no melon` → `True`\n",
    "\n",
    "External libraries:\n",
    "- None  "
   ]
  },
  {
   "cell_type": "code",
   "execution_count": 2,
   "id": "353c25a9",
   "metadata": {
    "slideshow": {
     "slide_type": "fragment"
    }
   },
   "outputs": [
    {
     "name": "stdout",
     "output_type": "stream",
     "text": [
      "Enter a string:ariana\n",
      "False\n"
     ]
    }
   ],
   "source": [
    "# Exercise 5:\n",
    "\n",
    "# Your text and code go here\n",
    "\n",
    "#find reverse of string\n",
    "\n",
    "#check if reverse and original are same or not\n",
    "\n",
    "s = input(\"Enter a string:\") \n",
    "reverse_q = (s[::-1])\n",
    "\n",
    "#function \n",
    "if reverse_q ==s: \n",
    "    print(\"True\")\n",
    "else: \n",
    "    print(\"False\")\n",
    "\n",
    "    "
   ]
  },
  {
   "cell_type": "code",
   "execution_count": 15,
   "id": "a6c66f24",
   "metadata": {},
   "outputs": [
    {
     "name": "stdout",
     "output_type": "stream",
     "text": [
      "Enter a string:car\n",
      "False\n"
     ]
    }
   ],
   "source": [
    "#New function \n",
    "\n",
    "s = input(\"Enter a string:\") \n",
    "\n",
    "def is_palindrome (s): \n",
    "    strings = list(s)\n",
    "    is_palindrome = True \n",
    "    \n",
    "    for string in strings: \n",
    "        if string == strings[-1]: \n",
    "            strings.pop()\n",
    "        else: \n",
    "            is_palindrome = False \n",
    "            break \n",
    "    return is_palindrome \n",
    "\n",
    "if is_palindrome(s) == True: \n",
    "    print(\"True\")\n",
    "else: \n",
    "    print(\"False\")\n",
    "    "
   ]
  },
  {
   "cell_type": "code",
   "execution_count": null,
   "id": "3946f664",
   "metadata": {},
   "outputs": [],
   "source": []
  }
 ],
 "metadata": {
  "celltoolbar": "Slideshow",
  "kernelspec": {
   "display_name": "Python 3 (ipykernel)",
   "language": "python",
   "name": "python3"
  },
  "language_info": {
   "codemirror_mode": {
    "name": "ipython",
    "version": 3
   },
   "file_extension": ".py",
   "mimetype": "text/x-python",
   "name": "python",
   "nbconvert_exporter": "python",
   "pygments_lexer": "ipython3",
   "version": "3.9.12"
  }
 },
 "nbformat": 4,
 "nbformat_minor": 5
}
