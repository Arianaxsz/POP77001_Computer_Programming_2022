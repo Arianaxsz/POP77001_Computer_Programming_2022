{
 "cells": [
  {
   "cell_type": "markdown",
   "id": "c8e1ec2f",
   "metadata": {
    "slideshow": {
     "slide_type": "slide"
    }
   },
   "source": [
    "# Assignment 3: Python Fundamentals and Control Flow\n",
    "\n",
    "## POP77001 Computer Programming for Social Scientists"
   ]
  },
  {
   "cell_type": "markdown",
   "id": "dc7bfa76",
   "metadata": {
    "slideshow": {
     "slide_type": "slide"
    }
   },
   "source": [
    "## Before submission\n",
    "\n",
    "- Do not use external libraries unless explicitly specified.\n",
    "    we can use the string library \n",
    "\n",
    "- Make sure that you can run all cells without errors.\n",
    "- You can do it by clicking `Kernel`, `Restart & Run All` in the menu above.\n",
    "- Make sure that you save the output by pressing Command+S / CTRL+S.\n",
    "- Rename the file from `03_assignment.ipynb` to `03_assignment_studentnumber_firstname_lastname.ipynb`.\n",
    "- Use Firefox browser for submitting your Jupyter notebook on Blackboard."
   ]
  },
  {
   "cell_type": "markdown",
   "id": "7670f6e4",
   "metadata": {
    "slideshow": {
     "slide_type": "slide"
    }
   },
   "source": [
    "## Exercise 1: Slicing\n",
    "\n",
    "Using only slicing operations create words 'mile', 'one', 'ton' and 'not' out of the word 'milestone'. Finally, reverse the order of letters in the word (spell it backwards). Print the results."
   ]
  },
  {
   "cell_type": "code",
   "execution_count": 1,
   "id": "02e71f56",
   "metadata": {
    "slideshow": {
     "slide_type": "fragment"
    }
   },
   "outputs": [],
   "source": [
    "# Exercise 1:\n",
    "\n",
    "milestone = 'milestone'\n",
    "\n",
    "# Your code goes here\n",
    "milestone[0:4] \n",
    "\n",
    "\n",
    "\n",
    "\n"
   ]
  },
  {
   "cell_type": "code",
   "execution_count": 2,
   "id": "23da1e4b",
   "metadata": {},
   "outputs": [],
   "source": [
    "milestone[6:9]\n"
   ]
  },
  {
   "cell_type": "code",
   "execution_count": 3,
   "id": "30c8e9af",
   "metadata": {},
   "outputs": [],
   "source": [
    "\n",
    "milestone[5:8]"
   ]
  },
  {
   "cell_type": "code",
   "execution_count": 4,
   "id": "d44871d4",
   "metadata": {},
   "outputs": [],
   "source": [
    "milestone[5:8][::-1]\n"
   ]
  },
  {
   "cell_type": "code",
   "execution_count": 5,
   "id": "bf73ad04",
   "metadata": {},
   "outputs": [],
   "source": [
    "\n",
    "milestone[::-1] \n"
   ]
  },
  {
   "cell_type": "markdown",
   "id": "ad4bdae8",
   "metadata": {
    "slideshow": {
     "slide_type": "slide"
    }
   },
   "source": [
    "## Exercise 2: List comprehension\n",
    "\n",
    "Using list comprehension modify the list below in such a way that every string with a book title, which has 3 or more words in it, is replaced by an integer representing the number of words (i.e. 3 for *War and Peace*)."
   ]
  },
  {
   "cell_type": "code",
   "execution_count": 6,
   "id": "5ae6e422",
   "metadata": {
    "slideshow": {
     "slide_type": "fragment"
    }
   },
   "outputs": [],
   "source": [
    "# Exercise 2:\n",
    "\n",
    "books = [\n",
    "    'Dubliners',\n",
    "    'Ulysses',\n",
    "    'War and Peace',\n",
    "    'Normal People',\n",
    "    'Crime and Punishment',\n",
    "    'The Picture of Dorian Gray'\n",
    "]\n",
    "\n",
    "# Your code goes here"
   ]
  },
  {
   "cell_type": "code",
   "execution_count": 7,
   "id": "e5d13206",
   "metadata": {},
   "outputs": [],
   "source": [
    "def f(expt, books, test = lambda x: True): \n",
    "    books = [] \n",
    "    for e in iterable: \n",
    "        if test(e): \n",
    "            books.append(expr(e))\n",
    "    return books "
   ]
  },
  {
   "cell_type": "code",
   "execution_count": 8,
   "id": "135512fc",
   "metadata": {},
   "outputs": [
    {
     "name": "stdout",
     "output_type": "stream",
     "text": [
      "['Dubliners', 'Ulysses', 'War and Peace', 'Normal People', 'Crime and Punishment', 'The Picture of Dorian Gray']\n",
      "<class 'str'>\n"
     ]
    },
    {
     "data": {
      "text/plain": [
       "6"
      ]
     },
     "execution_count": 8,
     "metadata": {},
     "output_type": "execute_result"
    }
   ],
   "source": [
    "print(books)\n",
    "print(type(books[0]))\n",
    "len(books)"
   ]
  },
  {
   "cell_type": "code",
   "execution_count": 9,
   "id": "25aebef1",
   "metadata": {},
   "outputs": [
    {
     "ename": "ValueError",
     "evalue": "invalid literal for int() with base 10: 'Dubliners'",
     "output_type": "error",
     "traceback": [
      "\u001b[0;31m---------------------------------------------------------------------------\u001b[0m",
      "\u001b[0;31mValueError\u001b[0m                                Traceback (most recent call last)",
      "Input \u001b[0;32mIn [9]\u001b[0m, in \u001b[0;36m<cell line: 1>\u001b[0;34m()\u001b[0m\n\u001b[0;32m----> 1\u001b[0m \u001b[38;5;28mprint\u001b[39m([\u001b[38;5;28mint\u001b[39m(x) \u001b[38;5;28;01mfor\u001b[39;00m x \u001b[38;5;129;01min\u001b[39;00m books])\n",
      "Input \u001b[0;32mIn [9]\u001b[0m, in \u001b[0;36m<listcomp>\u001b[0;34m(.0)\u001b[0m\n\u001b[0;32m----> 1\u001b[0m \u001b[38;5;28mprint\u001b[39m([\u001b[38;5;28;43mint\u001b[39;49m\u001b[43m(\u001b[49m\u001b[43mx\u001b[49m\u001b[43m)\u001b[49m \u001b[38;5;28;01mfor\u001b[39;00m x \u001b[38;5;129;01min\u001b[39;00m books])\n",
      "\u001b[0;31mValueError\u001b[0m: invalid literal for int() with base 10: 'Dubliners'"
     ]
    }
   ],
   "source": [
    "print([int(x) for x in books])"
   ]
  },
  {
   "cell_type": "code",
   "execution_count": null,
   "id": "68a482c3",
   "metadata": {},
   "outputs": [],
   "source": [
    "if int(books) < 3:\n",
    "    print (\"2\")\n",
    "elif int(a) >= 3:\n",
    "    print (\"3,4\")\n",
    "print (books)"
   ]
  },
  {
   "cell_type": "code",
   "execution_count": null,
   "id": "220212f2",
   "metadata": {
    "scrolled": true
   },
   "outputs": [],
   "source": [
    "books_list = [1, 1, 3, 2, 3, 4]"
   ]
  },
  {
   "cell_type": "code",
   "execution_count": null,
   "id": "2e115af7",
   "metadata": {},
   "outputs": [],
   "source": [
    "books[0:6] = 1, 1, 3, 2, 3, 4\n",
    "print(books)"
   ]
  },
  {
   "cell_type": "code",
   "execution_count": null,
   "id": "dee87c00",
   "metadata": {},
   "outputs": [],
   "source": [
    "l = [books]\n",
    "for x in books: \n",
    "    l.count(x >= 3)\n",
    "print(l)"
   ]
  },
  {
   "cell_type": "code",
   "execution_count": null,
   "id": "4b5a6a28",
   "metadata": {},
   "outputs": [],
   "source": [
    "[x >= 3 for x in books]\n"
   ]
  },
  {
   "cell_type": "code",
   "execution_count": null,
   "id": "48185bb1",
   "metadata": {},
   "outputs": [],
   "source": [
    "for i in books : \n",
    "    print(i >= 3)"
   ]
  },
  {
   "cell_type": "code",
   "execution_count": null,
   "id": "1ff8e11e",
   "metadata": {},
   "outputs": [],
   "source": [
    "[print(books) for books in books] "
   ]
  },
  {
   "cell_type": "code",
   "execution_count": null,
   "id": "a6b95542",
   "metadata": {},
   "outputs": [],
   "source": [
    "[books.lower() for books in books]"
   ]
  },
  {
   "cell_type": "code",
   "execution_count": null,
   "id": "12287156",
   "metadata": {},
   "outputs": [],
   "source": [
    "[1 if books == 1 True else 3 for b in books]"
   ]
  },
  {
   "cell_type": "markdown",
   "id": "eb941025",
   "metadata": {
    "slideshow": {
     "slide_type": "slide"
    }
   },
   "source": [
    "## Exercise 3: Dictionary comprehension and looping\n",
    "\n",
    "Write a dictionary comprehension where each letter of the English alphabet is a key and a value is an empty list. Split the quote below into individual words. Write a loop that populates the previously created dictionary, where each word is assigned to a key according to its first letter (e.g. 'apple' to 'a'). Keep only unique words.\n",
    "\n",
    "Tip: You can use `ascii_lowercase` for the letters."
   ]
  },
  {
   "cell_type": "code",
   "execution_count": null,
   "id": "d056ed73",
   "metadata": {
    "slideshow": {
     "slide_type": "fragment"
    }
   },
   "outputs": [],
   "source": [
    "# Exercise 3:\n",
    "\n",
    "quote = '''\n",
    "A programmer is ideally an essayist who works with traditional aesthetic and \n",
    "literary forms as well as mathematical concepts, to communicate the way that \n",
    "an algorithm works and to convince a reader that the results will be correct.\n",
    "'''\n",
    "\n",
    "# Your code goes here \n",
    "import string\n",
    "alphabet = string.ascii_lowercase #create the alphabet words \n",
    "print(alphabet)"
   ]
  },
  {
   "cell_type": "code",
   "execution_count": null,
   "id": "c67c5142",
   "metadata": {},
   "outputs": [],
   "source": [
    "split = quote.strip().replace('', ' ').capitalize() #slip the words to proceed in creating the loop \n",
    "print(split)"
   ]
  },
  {
   "cell_type": "code",
   "execution_count": null,
   "id": "f6bb984b",
   "metadata": {},
   "outputs": [],
   "source": [
    "my_quote = [ i for i in quote]\n",
    "print(my_quote)"
   ]
  },
  {
   "cell_type": "code",
   "execution_count": null,
   "id": "9a6fcb53",
   "metadata": {},
   "outputs": [],
   "source": [
    "#From class  - Tom said to use this one \n",
    "#d = {'apple': 150.0, 'banana': 120.0, 'watermelon': 3000.0}\n",
    "#for k, v in d.items():\n",
    "#    print(k.upper(), int(v))"
   ]
  },
  {
   "cell_type": "code",
   "execution_count": null,
   "id": "0c7b1b1a",
   "metadata": {},
   "outputs": [],
   "source": [
    "my_dic = {'alphabet':[]}\n",
    "variables = dict(zip(string.ascii_uppercase, []))\n"
   ]
  },
  {
   "cell_type": "code",
   "execution_count": null,
   "id": "d0386418",
   "metadata": {},
   "outputs": [],
   "source": [
    "for k, v in variables.items():\n",
    "    exec(f\"{k} = {v}\")\n",
    "    print(quotes)"
   ]
  },
  {
   "cell_type": "code",
   "execution_count": null,
   "id": "204747e4",
   "metadata": {},
   "outputs": [],
   "source": [
    "\n",
    "letters =[string.ascii_lowercase, \"letters = \"\", \"]\n",
    "e_list = []\n",
    "\n",
    "#dic comprehension \n",
    "\n",
    "data = [{key: None for key in letters} for i in range (len(letters))]\n",
    "print(data)\n"
   ]
  },
  {
   "cell_type": "markdown",
   "id": "0a9e1d49",
   "metadata": {
    "slideshow": {
     "slide_type": "slide"
    }
   },
   "source": [
    "## Exercise 4: Code modularity\n",
    "\n",
    "[Euclidean distance](https://en.wikipedia.org/wiki/Euclidean_distance) between two points gives the length of a line segment between them (as the crow flies distance). It is a very versatile metric, which can be frequently encountered in statistical applications (e.g. matching) and text analysis (document similarity).\n",
    "\n",
    "Below is a snippet of code that implements it for two dimensions. How can its modularity be improved? Change the code to provide a more general solution. Extend it to 3 and further (N) dimensions.\n",
    "\n",
    "Function specification:\n",
    "\n",
    "Function takes 2 arguments:\n",
    "- `p` - sequence of first point's coordinates (in 2/3/n dimensions)\n",
    "- `q` - sequence of second point's coordinates (in 2/3/n dimensions)\n",
    "\n",
    "Function returns 1 object:\n",
    "- `dist` - floating-point value representing the Euclidean distance between the input points\n",
    "\n",
    "Example input → output:\n",
    "- $[5, 1, 3, 12, 7]$ and $[10, 8, 3, 9, 11]$ → $9.9499$\n",
    "\n",
    "External libraries:\n",
    "- None"
   ]
  },
  {
   "cell_type": "code",
   "execution_count": 16,
   "id": "66f3fa84",
   "metadata": {
    "slideshow": {
     "slide_type": "fragment"
    }
   },
   "outputs": [
    {
     "data": {
      "text/plain": [
       "4.123105625617661"
      ]
     },
     "execution_count": 16,
     "metadata": {},
     "output_type": "execute_result"
    }
   ],
   "source": [
    "# Exercise 4:\n",
    "\n",
    "# See code below, modify as necessary\n",
    "\n",
    "p = (3, 1)\n",
    "q = (4, 5)\n",
    "\n",
    "x_dist = q[0] - p[0]\n",
    "y_dist = q[1] - p[1]\n",
    "dist = (x_dist**2 + y_dist**2)**(0.5)\n",
    "dist"
   ]
  },
  {
   "cell_type": "code",
   "execution_count": null,
   "id": "d5bba7c0",
   "metadata": {},
   "outputs": [],
   "source": [
    "p = (3, 1)\n",
    "q = (4, 5)\n",
    "\n",
    "x_dist = q[0] - p[0]\n",
    "y_dist = q[1] - p[1]\n",
    "dist = (x_dist**2 + y_dist**2)**(0.5)\n",
    "dist"
   ]
  },
  {
   "cell_type": "markdown",
   "id": "d1dc4832",
   "metadata": {
    "slideshow": {
     "slide_type": "slide"
    }
   },
   "source": [
    "## Exercise 5: Palindrome problem\n",
    "\n",
    "[Palindrome](https://en.wikipedia.org/wiki/Palindrome) is a word, phrase or number that reads the same way forward and backward (e.g. madam, 2021-12-02). Briefly describe the intuition about how to implement it efficiently. Write a function to check whether a string is a palindrome.\n",
    "\n",
    "Function specification:\n",
    "\n",
    "Function takes 1 argument:\n",
    "- `s` - string that is to be tested\n",
    "\n",
    "Function returns 1 object:\n",
    "- `True` or `False` - Boolean (logical) value that equals to True if the string is a palindrome and False otherwise.\n",
    "\n",
    "Example input → output:\n",
    "- `no lemon, no melon` → `True`\n",
    "\n",
    "External libraries:\n",
    "- None  "
   ]
  },
  {
   "cell_type": "code",
   "execution_count": 2,
   "id": "353c25a9",
   "metadata": {
    "slideshow": {
     "slide_type": "fragment"
    }
   },
   "outputs": [
    {
     "name": "stdout",
     "output_type": "stream",
     "text": [
      "Enter a string:ariana\n",
      "False\n"
     ]
    }
   ],
   "source": [
    "# Exercise 5:\n",
    "\n",
    "# Your text and code go here\n",
    "\n",
    "#find reverse of string\n",
    "\n",
    "#check if reverse and original are same or not\n",
    "\n",
    "s = input(\"Enter a string:\") \n",
    "reverse_q = (s[::-1])\n",
    "\n",
    "#function \n",
    "if reverse_q ==s: \n",
    "    print(\"True\")\n",
    "else: \n",
    "    print(\"False\")\n",
    "\n",
    "    "
   ]
  },
  {
   "cell_type": "code",
   "execution_count": 15,
   "id": "a6c66f24",
   "metadata": {},
   "outputs": [
    {
     "name": "stdout",
     "output_type": "stream",
     "text": [
      "Enter a string:car\n",
      "False\n"
     ]
    }
   ],
   "source": [
    "#New function \n",
    "\n",
    "s = input(\"Enter a string:\") \n",
    "\n",
    "def is_palindrome (s): \n",
    "    strings = list(s)\n",
    "    is_palindrome = True \n",
    "    \n",
    "    for string in strings: \n",
    "        if string == strings[-1]: \n",
    "            strings.pop()\n",
    "        else: \n",
    "            is_palindrome = False \n",
    "            break \n",
    "    return is_palindrome \n",
    "\n",
    "if is_palindrome(s) == True: \n",
    "    print(\"True\")\n",
    "else: \n",
    "    print(\"False\")\n",
    "    "
   ]
  },
  {
   "cell_type": "code",
   "execution_count": null,
   "id": "b7bd8d7c",
   "metadata": {},
   "outputs": [],
   "source": []
  }
 ],
 "metadata": {
  "celltoolbar": "Slideshow",
  "kernelspec": {
   "display_name": "Python 3 (ipykernel)",
   "language": "python",
   "name": "python3"
  },
  "language_info": {
   "codemirror_mode": {
    "name": "ipython",
    "version": 3
   },
   "file_extension": ".py",
   "mimetype": "text/x-python",
   "name": "python",
   "nbconvert_exporter": "python",
   "pygments_lexer": "ipython3",
   "version": "3.9.12"
  }
 },
 "nbformat": 4,
 "nbformat_minor": 5
}
