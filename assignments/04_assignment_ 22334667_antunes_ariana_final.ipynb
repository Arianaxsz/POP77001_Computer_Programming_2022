{
 "cells": [
  {
   "cell_type": "markdown",
   "id": "1a24ae30",
   "metadata": {
    "slideshow": {
     "slide_type": "slide"
    }
   },
   "source": [
    "# Assignment 4: Data Wrangling and Classes in Python\n",
    "\n",
    "## POP77001 Computer Programming for Social Scientists"
   ]
  },
  {
   "cell_type": "markdown",
   "id": "9fd51027",
   "metadata": {
    "slideshow": {
     "slide_type": "slide"
    }
   },
   "source": [
    "## Before submission\n",
    "\n",
    "- Do not use external libraries unless explicitly specified.\n",
    "- Make sure that you can run all cells without errors.\n",
    "- You can do it by clicking `Kernel`, `Restart & Run All` in the menu above.\n",
    "- Make sure that you save the output by pressing Command+S / CTRL+S.\n",
    "- Rename the file from `04_assignment.ipynb` to `04_assignment_studentnumber_firstname_lastname.ipynb`.\n",
    "- Use Firefox browser for submitting your Jupyter notebook on Blackboard."
   ]
  },
  {
   "cell_type": "markdown",
   "id": "88e17073",
   "metadata": {
    "slideshow": {
     "slide_type": "slide"
    }
   },
   "source": [
    "## Exercise 1: Data transformation\n",
    "\n",
    "For exercises 1-3 we will be working with the [Titanic](https://github.com/pandas-dev/pandas/blob/master/doc/data/titanic.csv) dataset. It contains the list of passengers on Titanic with their sociodemographic characteristics, names and ticket details. First, create two new columns, called 'Last Name' and 'First Name' containing last name and first name of each passenger. Next, calculate the frequencies of passengers' last names. What were the 3 most common last names of passengers on the ship?\n",
    "\n",
    "External libraries:\n",
    "- `numpy`, `pandas`"
   ]
  },
  {
   "cell_type": "code",
   "execution_count": 7,
   "id": "fa530064",
   "metadata": {
    "slideshow": {
     "slide_type": "fragment"
    }
   },
   "outputs": [],
   "source": [
    "# Data wrangling\n",
    "import pandas as pd\n",
    "import numpy as np\n",
    "from collections import Counter"
   ]
  },
  {
   "cell_type": "code",
   "execution_count": 53,
   "id": "ad68ac28",
   "metadata": {
    "slideshow": {
     "slide_type": "fragment"
    }
   },
   "outputs": [],
   "source": [
    "titanic = pd.read_csv(\"https://raw.githubusercontent.com/pandas-dev/pandas/master/doc/data/titanic.csv\")"
   ]
  },
  {
   "cell_type": "code",
   "execution_count": 3,
   "id": "ed126c66",
   "metadata": {
    "slideshow": {
     "slide_type": "fragment"
    }
   },
   "outputs": [
    {
     "data": {
      "text/html": [
       "<div>\n",
       "<style scoped>\n",
       "    .dataframe tbody tr th:only-of-type {\n",
       "        vertical-align: middle;\n",
       "    }\n",
       "\n",
       "    .dataframe tbody tr th {\n",
       "        vertical-align: top;\n",
       "    }\n",
       "\n",
       "    .dataframe thead th {\n",
       "        text-align: right;\n",
       "    }\n",
       "</style>\n",
       "<table border=\"1\" class=\"dataframe\">\n",
       "  <thead>\n",
       "    <tr style=\"text-align: right;\">\n",
       "      <th></th>\n",
       "      <th>PassengerId</th>\n",
       "      <th>Survived</th>\n",
       "      <th>Pclass</th>\n",
       "      <th>Name</th>\n",
       "      <th>Sex</th>\n",
       "      <th>Age</th>\n",
       "      <th>SibSp</th>\n",
       "      <th>Parch</th>\n",
       "      <th>Ticket</th>\n",
       "      <th>Fare</th>\n",
       "      <th>Cabin</th>\n",
       "      <th>Embarked</th>\n",
       "    </tr>\n",
       "  </thead>\n",
       "  <tbody>\n",
       "    <tr>\n",
       "      <th>0</th>\n",
       "      <td>1</td>\n",
       "      <td>0</td>\n",
       "      <td>3</td>\n",
       "      <td>Braund, Mr. Owen Harris</td>\n",
       "      <td>male</td>\n",
       "      <td>22.0</td>\n",
       "      <td>1</td>\n",
       "      <td>0</td>\n",
       "      <td>A/5 21171</td>\n",
       "      <td>7.2500</td>\n",
       "      <td>NaN</td>\n",
       "      <td>S</td>\n",
       "    </tr>\n",
       "    <tr>\n",
       "      <th>1</th>\n",
       "      <td>2</td>\n",
       "      <td>1</td>\n",
       "      <td>1</td>\n",
       "      <td>Cumings, Mrs. John Bradley (Florence Briggs Th...</td>\n",
       "      <td>female</td>\n",
       "      <td>38.0</td>\n",
       "      <td>1</td>\n",
       "      <td>0</td>\n",
       "      <td>PC 17599</td>\n",
       "      <td>71.2833</td>\n",
       "      <td>C85</td>\n",
       "      <td>C</td>\n",
       "    </tr>\n",
       "    <tr>\n",
       "      <th>2</th>\n",
       "      <td>3</td>\n",
       "      <td>1</td>\n",
       "      <td>3</td>\n",
       "      <td>Heikkinen, Miss. Laina</td>\n",
       "      <td>female</td>\n",
       "      <td>26.0</td>\n",
       "      <td>0</td>\n",
       "      <td>0</td>\n",
       "      <td>STON/O2. 3101282</td>\n",
       "      <td>7.9250</td>\n",
       "      <td>NaN</td>\n",
       "      <td>S</td>\n",
       "    </tr>\n",
       "    <tr>\n",
       "      <th>3</th>\n",
       "      <td>4</td>\n",
       "      <td>1</td>\n",
       "      <td>1</td>\n",
       "      <td>Futrelle, Mrs. Jacques Heath (Lily May Peel)</td>\n",
       "      <td>female</td>\n",
       "      <td>35.0</td>\n",
       "      <td>1</td>\n",
       "      <td>0</td>\n",
       "      <td>113803</td>\n",
       "      <td>53.1000</td>\n",
       "      <td>C123</td>\n",
       "      <td>S</td>\n",
       "    </tr>\n",
       "    <tr>\n",
       "      <th>4</th>\n",
       "      <td>5</td>\n",
       "      <td>0</td>\n",
       "      <td>3</td>\n",
       "      <td>Allen, Mr. William Henry</td>\n",
       "      <td>male</td>\n",
       "      <td>35.0</td>\n",
       "      <td>0</td>\n",
       "      <td>0</td>\n",
       "      <td>373450</td>\n",
       "      <td>8.0500</td>\n",
       "      <td>NaN</td>\n",
       "      <td>S</td>\n",
       "    </tr>\n",
       "  </tbody>\n",
       "</table>\n",
       "</div>"
      ],
      "text/plain": [
       "   PassengerId  Survived  Pclass  \\\n",
       "0            1         0       3   \n",
       "1            2         1       1   \n",
       "2            3         1       3   \n",
       "3            4         1       1   \n",
       "4            5         0       3   \n",
       "\n",
       "                                                Name     Sex   Age  SibSp  \\\n",
       "0                            Braund, Mr. Owen Harris    male  22.0      1   \n",
       "1  Cumings, Mrs. John Bradley (Florence Briggs Th...  female  38.0      1   \n",
       "2                             Heikkinen, Miss. Laina  female  26.0      0   \n",
       "3       Futrelle, Mrs. Jacques Heath (Lily May Peel)  female  35.0      1   \n",
       "4                           Allen, Mr. William Henry    male  35.0      0   \n",
       "\n",
       "   Parch            Ticket     Fare Cabin Embarked  \n",
       "0      0         A/5 21171   7.2500   NaN        S  \n",
       "1      0          PC 17599  71.2833   C85        C  \n",
       "2      0  STON/O2. 3101282   7.9250   NaN        S  \n",
       "3      0            113803  53.1000  C123        S  \n",
       "4      0            373450   8.0500   NaN        S  "
      ]
     },
     "execution_count": 3,
     "metadata": {},
     "output_type": "execute_result"
    }
   ],
   "source": [
    "titanic.head()"
   ]
  },
  {
   "cell_type": "code",
   "execution_count": 4,
   "id": "ae4ac756",
   "metadata": {},
   "outputs": [
    {
     "data": {
      "text/html": [
       "<div>\n",
       "<style scoped>\n",
       "    .dataframe tbody tr th:only-of-type {\n",
       "        vertical-align: middle;\n",
       "    }\n",
       "\n",
       "    .dataframe tbody tr th {\n",
       "        vertical-align: top;\n",
       "    }\n",
       "\n",
       "    .dataframe thead th {\n",
       "        text-align: right;\n",
       "    }\n",
       "</style>\n",
       "<table border=\"1\" class=\"dataframe\">\n",
       "  <thead>\n",
       "    <tr style=\"text-align: right;\">\n",
       "      <th></th>\n",
       "      <th>PassengerId</th>\n",
       "      <th>Survived</th>\n",
       "      <th>Pclass</th>\n",
       "      <th>Sex</th>\n",
       "      <th>Age</th>\n",
       "      <th>SibSp</th>\n",
       "      <th>Parch</th>\n",
       "      <th>Ticket</th>\n",
       "      <th>Fare</th>\n",
       "      <th>Cabin</th>\n",
       "      <th>Embarked</th>\n",
       "      <th>Last Name</th>\n",
       "      <th>First Name</th>\n",
       "    </tr>\n",
       "  </thead>\n",
       "  <tbody>\n",
       "    <tr>\n",
       "      <th>1</th>\n",
       "      <td>2</td>\n",
       "      <td>1</td>\n",
       "      <td>1</td>\n",
       "      <td>female</td>\n",
       "      <td>38.0</td>\n",
       "      <td>1</td>\n",
       "      <td>0</td>\n",
       "      <td>PC 17599</td>\n",
       "      <td>71.2833</td>\n",
       "      <td>C85</td>\n",
       "      <td>C</td>\n",
       "      <td>Cumings,</td>\n",
       "      <td>Mrs. John Bradley (Florence Briggs Thayer)</td>\n",
       "    </tr>\n",
       "    <tr>\n",
       "      <th>3</th>\n",
       "      <td>4</td>\n",
       "      <td>1</td>\n",
       "      <td>1</td>\n",
       "      <td>female</td>\n",
       "      <td>35.0</td>\n",
       "      <td>1</td>\n",
       "      <td>0</td>\n",
       "      <td>113803</td>\n",
       "      <td>53.1000</td>\n",
       "      <td>C123</td>\n",
       "      <td>S</td>\n",
       "      <td>Futrelle,</td>\n",
       "      <td>Mrs. Jacques Heath (Lily May Peel)</td>\n",
       "    </tr>\n",
       "    <tr>\n",
       "      <th>6</th>\n",
       "      <td>7</td>\n",
       "      <td>0</td>\n",
       "      <td>1</td>\n",
       "      <td>male</td>\n",
       "      <td>54.0</td>\n",
       "      <td>0</td>\n",
       "      <td>0</td>\n",
       "      <td>17463</td>\n",
       "      <td>51.8625</td>\n",
       "      <td>E46</td>\n",
       "      <td>S</td>\n",
       "      <td>McCarthy,</td>\n",
       "      <td>Mr. Timothy J</td>\n",
       "    </tr>\n",
       "    <tr>\n",
       "      <th>10</th>\n",
       "      <td>11</td>\n",
       "      <td>1</td>\n",
       "      <td>3</td>\n",
       "      <td>female</td>\n",
       "      <td>4.0</td>\n",
       "      <td>1</td>\n",
       "      <td>1</td>\n",
       "      <td>PP 9549</td>\n",
       "      <td>16.7000</td>\n",
       "      <td>G6</td>\n",
       "      <td>S</td>\n",
       "      <td>Sandstrom,</td>\n",
       "      <td>Miss. Marguerite Rut</td>\n",
       "    </tr>\n",
       "    <tr>\n",
       "      <th>11</th>\n",
       "      <td>12</td>\n",
       "      <td>1</td>\n",
       "      <td>1</td>\n",
       "      <td>female</td>\n",
       "      <td>58.0</td>\n",
       "      <td>0</td>\n",
       "      <td>0</td>\n",
       "      <td>113783</td>\n",
       "      <td>26.5500</td>\n",
       "      <td>C103</td>\n",
       "      <td>S</td>\n",
       "      <td>Bonnell,</td>\n",
       "      <td>Miss. Elizabeth</td>\n",
       "    </tr>\n",
       "    <tr>\n",
       "      <th>...</th>\n",
       "      <td>...</td>\n",
       "      <td>...</td>\n",
       "      <td>...</td>\n",
       "      <td>...</td>\n",
       "      <td>...</td>\n",
       "      <td>...</td>\n",
       "      <td>...</td>\n",
       "      <td>...</td>\n",
       "      <td>...</td>\n",
       "      <td>...</td>\n",
       "      <td>...</td>\n",
       "      <td>...</td>\n",
       "      <td>...</td>\n",
       "    </tr>\n",
       "    <tr>\n",
       "      <th>871</th>\n",
       "      <td>872</td>\n",
       "      <td>1</td>\n",
       "      <td>1</td>\n",
       "      <td>female</td>\n",
       "      <td>47.0</td>\n",
       "      <td>1</td>\n",
       "      <td>1</td>\n",
       "      <td>11751</td>\n",
       "      <td>52.5542</td>\n",
       "      <td>D35</td>\n",
       "      <td>S</td>\n",
       "      <td>Beckwith,</td>\n",
       "      <td>Mrs. Richard Leonard (Sallie Monypeny)</td>\n",
       "    </tr>\n",
       "    <tr>\n",
       "      <th>872</th>\n",
       "      <td>873</td>\n",
       "      <td>0</td>\n",
       "      <td>1</td>\n",
       "      <td>male</td>\n",
       "      <td>33.0</td>\n",
       "      <td>0</td>\n",
       "      <td>0</td>\n",
       "      <td>695</td>\n",
       "      <td>5.0000</td>\n",
       "      <td>B51 B53 B55</td>\n",
       "      <td>S</td>\n",
       "      <td>Carlsson,</td>\n",
       "      <td>Mr. Frans Olof</td>\n",
       "    </tr>\n",
       "    <tr>\n",
       "      <th>879</th>\n",
       "      <td>880</td>\n",
       "      <td>1</td>\n",
       "      <td>1</td>\n",
       "      <td>female</td>\n",
       "      <td>56.0</td>\n",
       "      <td>0</td>\n",
       "      <td>1</td>\n",
       "      <td>11767</td>\n",
       "      <td>83.1583</td>\n",
       "      <td>C50</td>\n",
       "      <td>C</td>\n",
       "      <td>Potter,</td>\n",
       "      <td>Mrs. Thomas Jr (Lily Alexenia Wilson)</td>\n",
       "    </tr>\n",
       "    <tr>\n",
       "      <th>887</th>\n",
       "      <td>888</td>\n",
       "      <td>1</td>\n",
       "      <td>1</td>\n",
       "      <td>female</td>\n",
       "      <td>19.0</td>\n",
       "      <td>0</td>\n",
       "      <td>0</td>\n",
       "      <td>112053</td>\n",
       "      <td>30.0000</td>\n",
       "      <td>B42</td>\n",
       "      <td>S</td>\n",
       "      <td>Graham,</td>\n",
       "      <td>Miss. Margaret Edith</td>\n",
       "    </tr>\n",
       "    <tr>\n",
       "      <th>889</th>\n",
       "      <td>890</td>\n",
       "      <td>1</td>\n",
       "      <td>1</td>\n",
       "      <td>male</td>\n",
       "      <td>26.0</td>\n",
       "      <td>0</td>\n",
       "      <td>0</td>\n",
       "      <td>111369</td>\n",
       "      <td>30.0000</td>\n",
       "      <td>C148</td>\n",
       "      <td>C</td>\n",
       "      <td>Behr,</td>\n",
       "      <td>Mr. Karl Howell</td>\n",
       "    </tr>\n",
       "  </tbody>\n",
       "</table>\n",
       "<p>183 rows × 13 columns</p>\n",
       "</div>"
      ],
      "text/plain": [
       "     PassengerId  Survived  Pclass     Sex   Age  SibSp  Parch    Ticket  \\\n",
       "1              2         1       1  female  38.0      1      0  PC 17599   \n",
       "3              4         1       1  female  35.0      1      0    113803   \n",
       "6              7         0       1    male  54.0      0      0     17463   \n",
       "10            11         1       3  female   4.0      1      1   PP 9549   \n",
       "11            12         1       1  female  58.0      0      0    113783   \n",
       "..           ...       ...     ...     ...   ...    ...    ...       ...   \n",
       "871          872         1       1  female  47.0      1      1     11751   \n",
       "872          873         0       1    male  33.0      0      0       695   \n",
       "879          880         1       1  female  56.0      0      1     11767   \n",
       "887          888         1       1  female  19.0      0      0    112053   \n",
       "889          890         1       1    male  26.0      0      0    111369   \n",
       "\n",
       "        Fare        Cabin Embarked   Last Name  \\\n",
       "1    71.2833          C85        C    Cumings,   \n",
       "3    53.1000         C123        S   Futrelle,   \n",
       "6    51.8625          E46        S   McCarthy,   \n",
       "10   16.7000           G6        S  Sandstrom,   \n",
       "11   26.5500         C103        S    Bonnell,   \n",
       "..       ...          ...      ...         ...   \n",
       "871  52.5542          D35        S   Beckwith,   \n",
       "872   5.0000  B51 B53 B55        S   Carlsson,   \n",
       "879  83.1583          C50        C     Potter,   \n",
       "887  30.0000          B42        S     Graham,   \n",
       "889  30.0000         C148        C       Behr,   \n",
       "\n",
       "                                     First Name  \n",
       "1    Mrs. John Bradley (Florence Briggs Thayer)  \n",
       "3            Mrs. Jacques Heath (Lily May Peel)  \n",
       "6                                 Mr. Timothy J  \n",
       "10                         Miss. Marguerite Rut  \n",
       "11                              Miss. Elizabeth  \n",
       "..                                          ...  \n",
       "871      Mrs. Richard Leonard (Sallie Monypeny)  \n",
       "872                              Mr. Frans Olof  \n",
       "879       Mrs. Thomas Jr (Lily Alexenia Wilson)  \n",
       "887                        Miss. Margaret Edith  \n",
       "889                             Mr. Karl Howell  \n",
       "\n",
       "[183 rows x 13 columns]"
      ]
     },
     "execution_count": 4,
     "metadata": {},
     "output_type": "execute_result"
    }
   ],
   "source": [
    "# Exercise 1:\n",
    "\n",
    "# Your code goes here\n",
    "\n",
    "# dropping null value columns to avoid errors\n",
    "titanic.dropna(inplace = True)\n",
    "# new data frame with split value columns\n",
    "\n",
    "new = titanic[\"Name\"].str.split(\" \", n = 1, expand = True)\n",
    "\n",
    "# making separate first name column from  new data frame\n",
    "titanic[\"Last Name\"]= new[0]\n",
    "\n",
    " # making separate last name column from new data frame \n",
    "titanic[\"First Name\"]= new[1]\n",
    "\n",
    "# Dropping old Name columns\n",
    "titanic.drop(columns =[\"Name\"], inplace = True)\n",
    "\n",
    "# df display\n",
    "titanic"
   ]
  },
  {
   "cell_type": "code",
   "execution_count": 5,
   "id": "328f4549",
   "metadata": {},
   "outputs": [
    {
     "data": {
      "text/plain": [
       "Fortune,     4\n",
       "Carter,      4\n",
       "Graham,      3\n",
       "Navratil,    3\n",
       "Thayer,      3\n",
       "            ..\n",
       "Burns,       1\n",
       "Partner,     1\n",
       "Ball,        1\n",
       "Young,       1\n",
       "Behr,        1\n",
       "Name: Last Name, Length: 140, dtype: int64"
      ]
     },
     "execution_count": 5,
     "metadata": {},
     "output_type": "execute_result"
    }
   ],
   "source": [
    "# count values of highest frequency \n",
    "count_n = titanic['Last Name'].value_counts()\n",
    "count_n"
   ]
  },
  {
   "cell_type": "code",
   "execution_count": 12,
   "id": "b2231bf2",
   "metadata": {},
   "outputs": [
    {
     "data": {
      "text/plain": [
       "count          183\n",
       "unique         140\n",
       "top       Fortune,\n",
       "freq             4\n",
       "Name: Last Name, dtype: object"
      ]
     },
     "execution_count": 12,
     "metadata": {},
     "output_type": "execute_result"
    }
   ],
   "source": [
    "titanic['Last Name'].describe()"
   ]
  },
  {
   "cell_type": "markdown",
   "id": "a0f3af2f",
   "metadata": {
    "slideshow": {
     "slide_type": "notes"
    }
   },
   "source": [
    "The most frequent last names are: Fortune, Carter, Graham, Navratil. "
   ]
  },
  {
   "cell_type": "markdown",
   "id": "bd6869e5",
   "metadata": {
    "slideshow": {
     "slide_type": "slide"
    }
   },
   "source": [
    "## Exercise 2: Binning\n",
    "\n",
    "When analyzing a continuous variable we often want to break it up into discrete categories (bins). For example, age might be considered as a categorical variable with discrete categories of '18-25', '26-35', etc. Implement a function that takes a dataframe, variable name and cutoff points (e.g. 18, 25, 35, etc.) as inputs and returns a dataframe with a single column, which is binned into desired categories. Run this function on the age column of Titanic dataset. What percentage of passengers falls into each of the age bins?\n",
    "\n",
    "Tip: You can use `pandas.cut()` method internally.\n",
    "\n",
    "Function specification:\n",
    "\n",
    "Function takes 3 arguments:\n",
    "- `df` - pandas data frame\n",
    "- `col` - the name of column to be binned\n",
    "- `cutoffs` - a sequence of cuttoff value to be used for binning\n",
    "\n",
    "Function returns 1 object:\n",
    "- `binned_df` - pandas data frame with the selected column binned according to the specification\n",
    "\n",
    "External libraries:\n",
    "- `numpy`, `pandas`"
   ]
  },
  {
   "cell_type": "code",
   "execution_count": 80,
   "id": "c30a2713",
   "metadata": {},
   "outputs": [],
   "source": [
    "# Exercise 2:\n",
    "\n",
    "# Your code goes here\n",
    "from numpy import random\n",
    "import pandas as pd\n",
    "\n",
    "\n",
    "def binned_df(df, column, cutoffs): \n",
    "    \"\"\" Data transformation:  \n",
    "    Takes a dataframe, variable name and cutoff points as inputs.\n",
    "    Returns a dataframe with a single column, which is binned into desired categories.\n",
    "    \"\"\"  \n",
    "    binned_df = pd.cut(df[column], cutoffs, bins=bins, labels=labels, \n",
    "                           right=False)\n",
    "    \n",
    "    return binned_df"
   ]
  },
  {
   "cell_type": "code",
   "execution_count": 81,
   "id": "edee92c9",
   "metadata": {},
   "outputs": [
    {
     "name": "stdout",
     "output_type": "stream",
     "text": [
      "Help on function binned_df in module __main__:\n",
      "\n",
      "binned_df(df, column, cutoffs)\n",
      "    Data transformation:  \n",
      "    Takes a dataframe, variable name and cutoff points as inputs.\n",
      "    Returns a dataframe with a single column, which is binned into desired categories.\n",
      "\n"
     ]
    }
   ],
   "source": [
    "help(binned_df)"
   ]
  },
  {
   "cell_type": "code",
   "execution_count": 61,
   "id": "105941da",
   "metadata": {},
   "outputs": [
    {
     "data": {
      "text/plain": [
       "1      (35, 55]\n",
       "3      (25, 35]\n",
       "6      (35, 55]\n",
       "10      (0, 18]\n",
       "11     (55, 75]\n",
       "         ...   \n",
       "871    (35, 55]\n",
       "872    (25, 35]\n",
       "879    (55, 75]\n",
       "887    (18, 25]\n",
       "889    (25, 35]\n",
       "Name: Age, Length: 183, dtype: category\n",
       "Categories (6, interval[int64, right]): [(0, 18] < (18, 25] < (25, 35] < (35, 55] < (55, 75] < (75, 100]]"
      ]
     },
     "execution_count": 61,
     "metadata": {},
     "output_type": "execute_result"
    }
   ],
   "source": [
    "#it runs but it doesn't get me the end goal to apply to the titanic\n",
    "bins=[0, 18, 25, 35, 55, 75, 100]\n",
    "age_bins = titanic['Age Group'] = pd.cut(titanic['Age'], bins)\n",
    "age_bins\n",
    "\n"
   ]
  },
  {
   "cell_type": "code",
   "execution_count": 82,
   "id": "abf67c3c",
   "metadata": {},
   "outputs": [
    {
     "name": "stdout",
     "output_type": "stream",
     "text": [
      "          AgeGroup\n",
      "AgeGroup          \n",
      "0-9             12\n",
      "10-19           10\n",
      "20s             11\n",
      "30s              7\n",
      "40s             15\n",
      "50s             16\n",
      "60s              7\n",
      "70s             11\n",
      "80s              7\n",
      "90s              4\n"
     ]
    }
   ],
   "source": [
    "df1 = pd.DataFrame({'Age' : [random.randint(1, 99) for i in range(100)]})\n",
    "\n",
    "def age_range(df):\n",
    "    import pandas as pd\n",
    "    df['Age']\n",
    "    bins=[0, 10, 20, 30, 40, 50, 60, 70, 80, 90, 100]\n",
    "    labels=['0-9', '10-19', '20s', '30s', '40s', '50s', '60s', '70s', '80s', '90s']\n",
    "    df['AgeGroup'] = pd.cut(df['Age'], bins=bins, labels=labels, right=False)\n",
    "\n",
    "    binned_df = pd.DataFrame(df['AgeGroup'].groupby(df['AgeGroup']).count())\n",
    "    return binned_df\n",
    "print(age_range(df1))"
   ]
  },
  {
   "cell_type": "code",
   "execution_count": 54,
   "id": "2401d9f7",
   "metadata": {},
   "outputs": [],
   "source": [
    "bins = [0, 18, 25, 35, 55, 75, 100] \n",
    "titanic['Age Group'] = pd.cut(titanic.Age, bins)\n"
   ]
  },
  {
   "cell_type": "code",
   "execution_count": 83,
   "id": "fad9e797",
   "metadata": {},
   "outputs": [
    {
     "data": {
      "text/html": [
       "<div>\n",
       "<style scoped>\n",
       "    .dataframe tbody tr th:only-of-type {\n",
       "        vertical-align: middle;\n",
       "    }\n",
       "\n",
       "    .dataframe tbody tr th {\n",
       "        vertical-align: top;\n",
       "    }\n",
       "\n",
       "    .dataframe thead th {\n",
       "        text-align: right;\n",
       "    }\n",
       "</style>\n",
       "<table border=\"1\" class=\"dataframe\">\n",
       "  <thead>\n",
       "    <tr style=\"text-align: right;\">\n",
       "      <th></th>\n",
       "      <th>PassengerId</th>\n",
       "      <th>Survived</th>\n",
       "      <th>Pclass</th>\n",
       "      <th>Name</th>\n",
       "      <th>Sex</th>\n",
       "      <th>Age</th>\n",
       "      <th>SibSp</th>\n",
       "      <th>Parch</th>\n",
       "      <th>Ticket</th>\n",
       "      <th>Fare</th>\n",
       "      <th>Cabin</th>\n",
       "      <th>Embarked</th>\n",
       "      <th>binned</th>\n",
       "      <th>Age Group</th>\n",
       "    </tr>\n",
       "  </thead>\n",
       "  <tbody>\n",
       "    <tr>\n",
       "      <th>1</th>\n",
       "      <td>2</td>\n",
       "      <td>1</td>\n",
       "      <td>1</td>\n",
       "      <td>Cumings, Mrs. John Bradley (Florence Briggs Th...</td>\n",
       "      <td>female</td>\n",
       "      <td>38.0</td>\n",
       "      <td>1</td>\n",
       "      <td>0</td>\n",
       "      <td>PC 17599</td>\n",
       "      <td>71.2833</td>\n",
       "      <td>C85</td>\n",
       "      <td>C</td>\n",
       "      <td>(35, 55]</td>\n",
       "      <td>(35, 55]</td>\n",
       "    </tr>\n",
       "    <tr>\n",
       "      <th>3</th>\n",
       "      <td>4</td>\n",
       "      <td>1</td>\n",
       "      <td>1</td>\n",
       "      <td>Futrelle, Mrs. Jacques Heath (Lily May Peel)</td>\n",
       "      <td>female</td>\n",
       "      <td>35.0</td>\n",
       "      <td>1</td>\n",
       "      <td>0</td>\n",
       "      <td>113803</td>\n",
       "      <td>53.1000</td>\n",
       "      <td>C123</td>\n",
       "      <td>S</td>\n",
       "      <td>(25, 35]</td>\n",
       "      <td>(25, 35]</td>\n",
       "    </tr>\n",
       "    <tr>\n",
       "      <th>6</th>\n",
       "      <td>7</td>\n",
       "      <td>0</td>\n",
       "      <td>1</td>\n",
       "      <td>McCarthy, Mr. Timothy J</td>\n",
       "      <td>male</td>\n",
       "      <td>54.0</td>\n",
       "      <td>0</td>\n",
       "      <td>0</td>\n",
       "      <td>17463</td>\n",
       "      <td>51.8625</td>\n",
       "      <td>E46</td>\n",
       "      <td>S</td>\n",
       "      <td>(35, 55]</td>\n",
       "      <td>(35, 55]</td>\n",
       "    </tr>\n",
       "    <tr>\n",
       "      <th>10</th>\n",
       "      <td>11</td>\n",
       "      <td>1</td>\n",
       "      <td>3</td>\n",
       "      <td>Sandstrom, Miss. Marguerite Rut</td>\n",
       "      <td>female</td>\n",
       "      <td>4.0</td>\n",
       "      <td>1</td>\n",
       "      <td>1</td>\n",
       "      <td>PP 9549</td>\n",
       "      <td>16.7000</td>\n",
       "      <td>G6</td>\n",
       "      <td>S</td>\n",
       "      <td>(0, 18]</td>\n",
       "      <td>(0, 18]</td>\n",
       "    </tr>\n",
       "    <tr>\n",
       "      <th>11</th>\n",
       "      <td>12</td>\n",
       "      <td>1</td>\n",
       "      <td>1</td>\n",
       "      <td>Bonnell, Miss. Elizabeth</td>\n",
       "      <td>female</td>\n",
       "      <td>58.0</td>\n",
       "      <td>0</td>\n",
       "      <td>0</td>\n",
       "      <td>113783</td>\n",
       "      <td>26.5500</td>\n",
       "      <td>C103</td>\n",
       "      <td>S</td>\n",
       "      <td>(55, 75]</td>\n",
       "      <td>(55, 75]</td>\n",
       "    </tr>\n",
       "  </tbody>\n",
       "</table>\n",
       "</div>"
      ],
      "text/plain": [
       "    PassengerId  Survived  Pclass  \\\n",
       "1             2         1       1   \n",
       "3             4         1       1   \n",
       "6             7         0       1   \n",
       "10           11         1       3   \n",
       "11           12         1       1   \n",
       "\n",
       "                                                 Name     Sex   Age  SibSp  \\\n",
       "1   Cumings, Mrs. John Bradley (Florence Briggs Th...  female  38.0      1   \n",
       "3        Futrelle, Mrs. Jacques Heath (Lily May Peel)  female  35.0      1   \n",
       "6                             McCarthy, Mr. Timothy J    male  54.0      0   \n",
       "10                    Sandstrom, Miss. Marguerite Rut  female   4.0      1   \n",
       "11                           Bonnell, Miss. Elizabeth  female  58.0      0   \n",
       "\n",
       "    Parch    Ticket     Fare Cabin Embarked    binned Age Group  \n",
       "1       0  PC 17599  71.2833   C85        C  (35, 55]  (35, 55]  \n",
       "3       0    113803  53.1000  C123        S  (25, 35]  (25, 35]  \n",
       "6       0     17463  51.8625   E46        S  (35, 55]  (35, 55]  \n",
       "10      1   PP 9549  16.7000    G6        S   (0, 18]   (0, 18]  \n",
       "11      0    113783  26.5500  C103        S  (55, 75]  (55, 75]  "
      ]
     },
     "execution_count": 83,
     "metadata": {},
     "output_type": "execute_result"
    }
   ],
   "source": [
    "titanic.head()"
   ]
  },
  {
   "cell_type": "code",
   "execution_count": 84,
   "id": "a107c109",
   "metadata": {},
   "outputs": [
    {
     "data": {
      "text/html": [
       "<div>\n",
       "<style scoped>\n",
       "    .dataframe tbody tr th:only-of-type {\n",
       "        vertical-align: middle;\n",
       "    }\n",
       "\n",
       "    .dataframe tbody tr th {\n",
       "        vertical-align: top;\n",
       "    }\n",
       "\n",
       "    .dataframe thead th {\n",
       "        text-align: right;\n",
       "    }\n",
       "</style>\n",
       "<table border=\"1\" class=\"dataframe\">\n",
       "  <thead>\n",
       "    <tr style=\"text-align: right;\">\n",
       "      <th></th>\n",
       "      <th>Age Group</th>\n",
       "      <th>Age</th>\n",
       "    </tr>\n",
       "  </thead>\n",
       "  <tbody>\n",
       "    <tr>\n",
       "      <th>0</th>\n",
       "      <td>(0, 18]</td>\n",
       "      <td>239.92</td>\n",
       "    </tr>\n",
       "    <tr>\n",
       "      <th>1</th>\n",
       "      <td>(18, 25]</td>\n",
       "      <td>651.00</td>\n",
       "    </tr>\n",
       "    <tr>\n",
       "      <th>2</th>\n",
       "      <td>(25, 35]</td>\n",
       "      <td>1175.50</td>\n",
       "    </tr>\n",
       "    <tr>\n",
       "      <th>3</th>\n",
       "      <td>(35, 55]</td>\n",
       "      <td>3165.00</td>\n",
       "    </tr>\n",
       "    <tr>\n",
       "      <th>4</th>\n",
       "      <td>(55, 75]</td>\n",
       "      <td>1217.00</td>\n",
       "    </tr>\n",
       "    <tr>\n",
       "      <th>5</th>\n",
       "      <td>(75, 100]</td>\n",
       "      <td>80.00</td>\n",
       "    </tr>\n",
       "  </tbody>\n",
       "</table>\n",
       "</div>"
      ],
      "text/plain": [
       "   Age Group      Age\n",
       "0    (0, 18]   239.92\n",
       "1   (18, 25]   651.00\n",
       "2   (25, 35]  1175.50\n",
       "3   (35, 55]  3165.00\n",
       "4   (55, 75]  1217.00\n",
       "5  (75, 100]    80.00"
      ]
     },
     "execution_count": 84,
     "metadata": {},
     "output_type": "execute_result"
    }
   ],
   "source": [
    "titanic[['Age Group', 'Age']].groupby('Age Group', as_index=False).sum().sort_values(by = 'Age Group')"
   ]
  },
  {
   "cell_type": "markdown",
   "id": "3a012579",
   "metadata": {
    "slideshow": {
     "slide_type": "slide"
    }
   },
   "source": [
    "## Exercise 3: Pattern detection\n",
    "\n",
    "Let us consider the column `Survived`, which contains a binary indicator of whether a given passenger survived the sinking of Titanic. What factors might explain the survival of some passengers but not others? How would you investigate these relationships? Describe your hypotheses and descriptive analyses that can help anwesring these questions. Perform the outlined descriptive analyses on the dataset.\n",
    "\n",
    "External libraries:\n",
    "- `numpy`, `pandas`"
   ]
  },
  {
   "cell_type": "code",
   "execution_count": 46,
   "id": "1a711d48",
   "metadata": {},
   "outputs": [
    {
     "data": {
      "text/html": [
       "<div>\n",
       "<style scoped>\n",
       "    .dataframe tbody tr th:only-of-type {\n",
       "        vertical-align: middle;\n",
       "    }\n",
       "\n",
       "    .dataframe tbody tr th {\n",
       "        vertical-align: top;\n",
       "    }\n",
       "\n",
       "    .dataframe thead th {\n",
       "        text-align: right;\n",
       "    }\n",
       "</style>\n",
       "<table border=\"1\" class=\"dataframe\">\n",
       "  <thead>\n",
       "    <tr style=\"text-align: right;\">\n",
       "      <th></th>\n",
       "      <th>PassengerId</th>\n",
       "      <th>Survived</th>\n",
       "      <th>Pclass</th>\n",
       "      <th>Age</th>\n",
       "      <th>SibSp</th>\n",
       "      <th>Parch</th>\n",
       "      <th>Fare</th>\n",
       "    </tr>\n",
       "  </thead>\n",
       "  <tbody>\n",
       "    <tr>\n",
       "      <th>count</th>\n",
       "      <td>891.000000</td>\n",
       "      <td>891.000000</td>\n",
       "      <td>891.000000</td>\n",
       "      <td>714.000000</td>\n",
       "      <td>891.000000</td>\n",
       "      <td>891.000000</td>\n",
       "      <td>891.000000</td>\n",
       "    </tr>\n",
       "    <tr>\n",
       "      <th>mean</th>\n",
       "      <td>446.000000</td>\n",
       "      <td>0.383838</td>\n",
       "      <td>2.308642</td>\n",
       "      <td>29.699118</td>\n",
       "      <td>0.523008</td>\n",
       "      <td>0.381594</td>\n",
       "      <td>32.204208</td>\n",
       "    </tr>\n",
       "    <tr>\n",
       "      <th>std</th>\n",
       "      <td>257.353842</td>\n",
       "      <td>0.486592</td>\n",
       "      <td>0.836071</td>\n",
       "      <td>14.526497</td>\n",
       "      <td>1.102743</td>\n",
       "      <td>0.806057</td>\n",
       "      <td>49.693429</td>\n",
       "    </tr>\n",
       "    <tr>\n",
       "      <th>min</th>\n",
       "      <td>1.000000</td>\n",
       "      <td>0.000000</td>\n",
       "      <td>1.000000</td>\n",
       "      <td>0.420000</td>\n",
       "      <td>0.000000</td>\n",
       "      <td>0.000000</td>\n",
       "      <td>0.000000</td>\n",
       "    </tr>\n",
       "    <tr>\n",
       "      <th>25%</th>\n",
       "      <td>223.500000</td>\n",
       "      <td>0.000000</td>\n",
       "      <td>2.000000</td>\n",
       "      <td>20.125000</td>\n",
       "      <td>0.000000</td>\n",
       "      <td>0.000000</td>\n",
       "      <td>7.910400</td>\n",
       "    </tr>\n",
       "    <tr>\n",
       "      <th>50%</th>\n",
       "      <td>446.000000</td>\n",
       "      <td>0.000000</td>\n",
       "      <td>3.000000</td>\n",
       "      <td>28.000000</td>\n",
       "      <td>0.000000</td>\n",
       "      <td>0.000000</td>\n",
       "      <td>14.454200</td>\n",
       "    </tr>\n",
       "    <tr>\n",
       "      <th>75%</th>\n",
       "      <td>668.500000</td>\n",
       "      <td>1.000000</td>\n",
       "      <td>3.000000</td>\n",
       "      <td>38.000000</td>\n",
       "      <td>1.000000</td>\n",
       "      <td>0.000000</td>\n",
       "      <td>31.000000</td>\n",
       "    </tr>\n",
       "    <tr>\n",
       "      <th>max</th>\n",
       "      <td>891.000000</td>\n",
       "      <td>1.000000</td>\n",
       "      <td>3.000000</td>\n",
       "      <td>80.000000</td>\n",
       "      <td>8.000000</td>\n",
       "      <td>6.000000</td>\n",
       "      <td>512.329200</td>\n",
       "    </tr>\n",
       "  </tbody>\n",
       "</table>\n",
       "</div>"
      ],
      "text/plain": [
       "       PassengerId    Survived      Pclass         Age       SibSp  \\\n",
       "count   891.000000  891.000000  891.000000  714.000000  891.000000   \n",
       "mean    446.000000    0.383838    2.308642   29.699118    0.523008   \n",
       "std     257.353842    0.486592    0.836071   14.526497    1.102743   \n",
       "min       1.000000    0.000000    1.000000    0.420000    0.000000   \n",
       "25%     223.500000    0.000000    2.000000   20.125000    0.000000   \n",
       "50%     446.000000    0.000000    3.000000   28.000000    0.000000   \n",
       "75%     668.500000    1.000000    3.000000   38.000000    1.000000   \n",
       "max     891.000000    1.000000    3.000000   80.000000    8.000000   \n",
       "\n",
       "            Parch        Fare  \n",
       "count  891.000000  891.000000  \n",
       "mean     0.381594   32.204208  \n",
       "std      0.806057   49.693429  \n",
       "min      0.000000    0.000000  \n",
       "25%      0.000000    7.910400  \n",
       "50%      0.000000   14.454200  \n",
       "75%      0.000000   31.000000  \n",
       "max      6.000000  512.329200  "
      ]
     },
     "execution_count": 46,
     "metadata": {},
     "output_type": "execute_result"
    }
   ],
   "source": [
    "# Exercise 3:\n",
    "\n",
    "# Your text and code go here\n",
    "\n",
    "titanic = pd.read_csv(\"https://raw.githubusercontent.com/pandas-dev/pandas/master/doc/data/titanic.csv\")\n",
    "\n",
    "#Summary Statistics to describe the data. \n",
    "titanic.describe()"
   ]
  },
  {
   "cell_type": "code",
   "execution_count": 44,
   "id": "7f624787",
   "metadata": {},
   "outputs": [
    {
     "data": {
      "text/plain": [
       "PassengerId  Survived  Pclass  Name                                                  Sex     Age   SibSp  Parch  Ticket    Fare      Cabin  Embarked\n",
       "2            1         1       Cumings, Mrs. John Bradley (Florence Briggs Thayer)   female  38.0  1      0      PC 17599  71.2833   C85    C           0.005464\n",
       "572          1         1       Appleton, Mrs. Edward Dale (Charlotte Lamson)         female  53.0  2      0      11769     51.4792   C101   S           0.005464\n",
       "578          1         1       Silvey, Mrs. William Baird (Alice Munger)             female  39.0  1      0      13507     55.9000   E44    S           0.005464\n",
       "582          1         1       Thayer, Mrs. John Borland (Marian Longstreth Morris)  female  39.0  1      1      17421     110.8833  C68    C           0.005464\n",
       "584          0         1       Ross, Mr. John Hugo                                   male    36.0  0      0      13049     40.1250   A10    C           0.005464\n",
       "                                                                                                                                                          ...   \n",
       "328          1         2       Ball, Mrs. (Ada E Hall)                               female  36.0  0      0      28551     13.0000   D      S           0.005464\n",
       "330          1         1       Hippach, Miss. Jean Gertrude                          female  16.0  0      1      111361    57.9792   B18    C           0.005464\n",
       "332          0         1       Partner, Mr. Austen                                   male    45.5  0      0      113043    28.5000   C124   S           0.005464\n",
       "333          0         1       Graham, Mr. George Edward                             male    38.0  0      1      PC 17582  153.4625  C91    S           0.005464\n",
       "890          1         1       Behr, Mr. Karl Howell                                 male    26.0  0      0      111369    30.0000   C148   C           0.005464\n",
       "Length: 183, dtype: float64"
      ]
     },
     "execution_count": 44,
     "metadata": {},
     "output_type": "execute_result"
    }
   ],
   "source": [
    "titanic.iloc[:,].value_counts(normalize = True)"
   ]
  },
  {
   "cell_type": "code",
   "execution_count": 14,
   "id": "f18f1e21",
   "metadata": {},
   "outputs": [
    {
     "name": "stdout",
     "output_type": "stream",
     "text": [
      "Survived  Sex   \n",
      "0         male      468\n",
      "1         female    233\n",
      "          male      109\n",
      "0         female     81\n",
      "dtype: int64\n"
     ]
    }
   ],
   "source": [
    "survived = titanic[['Survived', 'Sex']]\n",
    "count_s = titanic[['Survived', 'Sex']].value_counts()\n",
    "print(count_s)"
   ]
  },
  {
   "cell_type": "code",
   "execution_count": 47,
   "id": "2015c009",
   "metadata": {},
   "outputs": [
    {
     "data": {
      "text/html": [
       "<div>\n",
       "<style scoped>\n",
       "    .dataframe tbody tr th:only-of-type {\n",
       "        vertical-align: middle;\n",
       "    }\n",
       "\n",
       "    .dataframe tbody tr th {\n",
       "        vertical-align: top;\n",
       "    }\n",
       "\n",
       "    .dataframe thead th {\n",
       "        text-align: right;\n",
       "    }\n",
       "</style>\n",
       "<table border=\"1\" class=\"dataframe\">\n",
       "  <thead>\n",
       "    <tr style=\"text-align: right;\">\n",
       "      <th></th>\n",
       "      <th>PassengerId</th>\n",
       "      <th>Survived</th>\n",
       "      <th>Pclass</th>\n",
       "      <th>Name</th>\n",
       "      <th>Sex</th>\n",
       "      <th>Age</th>\n",
       "      <th>SibSp</th>\n",
       "      <th>Parch</th>\n",
       "      <th>Ticket</th>\n",
       "      <th>Fare</th>\n",
       "      <th>Cabin</th>\n",
       "      <th>Embarked</th>\n",
       "    </tr>\n",
       "  </thead>\n",
       "  <tbody>\n",
       "    <tr>\n",
       "      <th>205</th>\n",
       "      <td>206</td>\n",
       "      <td>0</td>\n",
       "      <td>3</td>\n",
       "      <td>Strom, Miss. Telma Matilda</td>\n",
       "      <td>female</td>\n",
       "      <td>2.0</td>\n",
       "      <td>0</td>\n",
       "      <td>1</td>\n",
       "      <td>347054</td>\n",
       "      <td>10.4625</td>\n",
       "      <td>G6</td>\n",
       "      <td>S</td>\n",
       "    </tr>\n",
       "    <tr>\n",
       "      <th>297</th>\n",
       "      <td>298</td>\n",
       "      <td>0</td>\n",
       "      <td>1</td>\n",
       "      <td>Allison, Miss. Helen Loraine</td>\n",
       "      <td>female</td>\n",
       "      <td>2.0</td>\n",
       "      <td>1</td>\n",
       "      <td>2</td>\n",
       "      <td>113781</td>\n",
       "      <td>151.5500</td>\n",
       "      <td>C22 C26</td>\n",
       "      <td>S</td>\n",
       "    </tr>\n",
       "    <tr>\n",
       "      <th>505</th>\n",
       "      <td>506</td>\n",
       "      <td>0</td>\n",
       "      <td>1</td>\n",
       "      <td>Penasco y Castellana, Mr. Victor de Satode</td>\n",
       "      <td>male</td>\n",
       "      <td>18.0</td>\n",
       "      <td>1</td>\n",
       "      <td>0</td>\n",
       "      <td>PC 17758</td>\n",
       "      <td>108.9000</td>\n",
       "      <td>C65</td>\n",
       "      <td>C</td>\n",
       "    </tr>\n",
       "    <tr>\n",
       "      <th>27</th>\n",
       "      <td>28</td>\n",
       "      <td>0</td>\n",
       "      <td>1</td>\n",
       "      <td>Fortune, Mr. Charles Alexander</td>\n",
       "      <td>male</td>\n",
       "      <td>19.0</td>\n",
       "      <td>3</td>\n",
       "      <td>2</td>\n",
       "      <td>19950</td>\n",
       "      <td>263.0000</td>\n",
       "      <td>C23 C25 C27</td>\n",
       "      <td>S</td>\n",
       "    </tr>\n",
       "    <tr>\n",
       "      <th>715</th>\n",
       "      <td>716</td>\n",
       "      <td>0</td>\n",
       "      <td>3</td>\n",
       "      <td>Soholt, Mr. Peter Andreas Lauritz Andersen</td>\n",
       "      <td>male</td>\n",
       "      <td>19.0</td>\n",
       "      <td>0</td>\n",
       "      <td>0</td>\n",
       "      <td>348124</td>\n",
       "      <td>7.6500</td>\n",
       "      <td>F G73</td>\n",
       "      <td>S</td>\n",
       "    </tr>\n",
       "    <tr>\n",
       "      <th>...</th>\n",
       "      <td>...</td>\n",
       "      <td>...</td>\n",
       "      <td>...</td>\n",
       "      <td>...</td>\n",
       "      <td>...</td>\n",
       "      <td>...</td>\n",
       "      <td>...</td>\n",
       "      <td>...</td>\n",
       "      <td>...</td>\n",
       "      <td>...</td>\n",
       "      <td>...</td>\n",
       "      <td>...</td>\n",
       "    </tr>\n",
       "    <tr>\n",
       "      <th>268</th>\n",
       "      <td>269</td>\n",
       "      <td>1</td>\n",
       "      <td>1</td>\n",
       "      <td>Graham, Mrs. William Thompson (Edith Junkins)</td>\n",
       "      <td>female</td>\n",
       "      <td>58.0</td>\n",
       "      <td>0</td>\n",
       "      <td>1</td>\n",
       "      <td>PC 17582</td>\n",
       "      <td>153.4625</td>\n",
       "      <td>C125</td>\n",
       "      <td>S</td>\n",
       "    </tr>\n",
       "    <tr>\n",
       "      <th>366</th>\n",
       "      <td>367</td>\n",
       "      <td>1</td>\n",
       "      <td>1</td>\n",
       "      <td>Warren, Mrs. Frank Manley (Anna Sophia Atkinson)</td>\n",
       "      <td>female</td>\n",
       "      <td>60.0</td>\n",
       "      <td>1</td>\n",
       "      <td>0</td>\n",
       "      <td>110813</td>\n",
       "      <td>75.2500</td>\n",
       "      <td>D37</td>\n",
       "      <td>C</td>\n",
       "    </tr>\n",
       "    <tr>\n",
       "      <th>587</th>\n",
       "      <td>588</td>\n",
       "      <td>1</td>\n",
       "      <td>1</td>\n",
       "      <td>Frolicher-Stehli, Mr. Maxmillian</td>\n",
       "      <td>male</td>\n",
       "      <td>60.0</td>\n",
       "      <td>1</td>\n",
       "      <td>1</td>\n",
       "      <td>13567</td>\n",
       "      <td>79.2000</td>\n",
       "      <td>B41</td>\n",
       "      <td>C</td>\n",
       "    </tr>\n",
       "    <tr>\n",
       "      <th>275</th>\n",
       "      <td>276</td>\n",
       "      <td>1</td>\n",
       "      <td>1</td>\n",
       "      <td>Andrews, Miss. Kornelia Theodosia</td>\n",
       "      <td>female</td>\n",
       "      <td>63.0</td>\n",
       "      <td>1</td>\n",
       "      <td>0</td>\n",
       "      <td>13502</td>\n",
       "      <td>77.9583</td>\n",
       "      <td>D7</td>\n",
       "      <td>S</td>\n",
       "    </tr>\n",
       "    <tr>\n",
       "      <th>630</th>\n",
       "      <td>631</td>\n",
       "      <td>1</td>\n",
       "      <td>1</td>\n",
       "      <td>Barkworth, Mr. Algernon Henry Wilson</td>\n",
       "      <td>male</td>\n",
       "      <td>80.0</td>\n",
       "      <td>0</td>\n",
       "      <td>0</td>\n",
       "      <td>27042</td>\n",
       "      <td>30.0000</td>\n",
       "      <td>A23</td>\n",
       "      <td>S</td>\n",
       "    </tr>\n",
       "  </tbody>\n",
       "</table>\n",
       "<p>183 rows × 12 columns</p>\n",
       "</div>"
      ],
      "text/plain": [
       "     PassengerId  Survived  Pclass  \\\n",
       "205          206         0       3   \n",
       "297          298         0       1   \n",
       "505          506         0       1   \n",
       "27            28         0       1   \n",
       "715          716         0       3   \n",
       "..           ...       ...     ...   \n",
       "268          269         1       1   \n",
       "366          367         1       1   \n",
       "587          588         1       1   \n",
       "275          276         1       1   \n",
       "630          631         1       1   \n",
       "\n",
       "                                                 Name     Sex   Age  SibSp  \\\n",
       "205                        Strom, Miss. Telma Matilda  female   2.0      0   \n",
       "297                      Allison, Miss. Helen Loraine  female   2.0      1   \n",
       "505        Penasco y Castellana, Mr. Victor de Satode    male  18.0      1   \n",
       "27                     Fortune, Mr. Charles Alexander    male  19.0      3   \n",
       "715        Soholt, Mr. Peter Andreas Lauritz Andersen    male  19.0      0   \n",
       "..                                                ...     ...   ...    ...   \n",
       "268     Graham, Mrs. William Thompson (Edith Junkins)  female  58.0      0   \n",
       "366  Warren, Mrs. Frank Manley (Anna Sophia Atkinson)  female  60.0      1   \n",
       "587                  Frolicher-Stehli, Mr. Maxmillian    male  60.0      1   \n",
       "275                 Andrews, Miss. Kornelia Theodosia  female  63.0      1   \n",
       "630              Barkworth, Mr. Algernon Henry Wilson    male  80.0      0   \n",
       "\n",
       "     Parch    Ticket      Fare        Cabin Embarked  \n",
       "205      1    347054   10.4625           G6        S  \n",
       "297      2    113781  151.5500      C22 C26        S  \n",
       "505      0  PC 17758  108.9000          C65        C  \n",
       "27       2     19950  263.0000  C23 C25 C27        S  \n",
       "715      0    348124    7.6500        F G73        S  \n",
       "..     ...       ...       ...          ...      ...  \n",
       "268      1  PC 17582  153.4625         C125        S  \n",
       "366      0    110813   75.2500          D37        C  \n",
       "587      1     13567   79.2000          B41        C  \n",
       "275      0     13502   77.9583           D7        S  \n",
       "630      0     27042   30.0000          A23        S  \n",
       "\n",
       "[183 rows x 12 columns]"
      ]
     },
     "execution_count": 47,
     "metadata": {},
     "output_type": "execute_result"
    }
   ],
   "source": [
    " # dropping null value columns to avoid errors\n",
    "titanic.dropna(inplace = True)\n",
    "# sorting the valyes \n",
    "t = titanic.sort_values(by=['Survived', 'Age', 'Sex'])\n",
    "t"
   ]
  },
  {
   "cell_type": "code",
   "execution_count": 33,
   "id": "365e5cc3",
   "metadata": {},
   "outputs": [
    {
     "data": {
      "text/plain": [
       "female    88\n",
       "male      95\n",
       "Name: Sex, dtype: int64"
      ]
     },
     "execution_count": 33,
     "metadata": {},
     "output_type": "execute_result"
    }
   ],
   "source": [
    "titanic.Sex.value_counts(ascending=True,dropna=False)"
   ]
  },
  {
   "cell_type": "code",
   "execution_count": 26,
   "id": "bcfc7d65",
   "metadata": {},
   "outputs": [
    {
     "data": {
      "text/html": [
       "<div>\n",
       "<style scoped>\n",
       "    .dataframe tbody tr th:only-of-type {\n",
       "        vertical-align: middle;\n",
       "    }\n",
       "\n",
       "    .dataframe tbody tr th {\n",
       "        vertical-align: top;\n",
       "    }\n",
       "\n",
       "    .dataframe thead th {\n",
       "        text-align: right;\n",
       "    }\n",
       "</style>\n",
       "<table border=\"1\" class=\"dataframe\">\n",
       "  <thead>\n",
       "    <tr style=\"text-align: right;\">\n",
       "      <th></th>\n",
       "      <th>Sex</th>\n",
       "      <th>Survived</th>\n",
       "    </tr>\n",
       "  </thead>\n",
       "  <tbody>\n",
       "    <tr>\n",
       "      <th>0</th>\n",
       "      <td>female</td>\n",
       "      <td>233</td>\n",
       "    </tr>\n",
       "    <tr>\n",
       "      <th>1</th>\n",
       "      <td>male</td>\n",
       "      <td>109</td>\n",
       "    </tr>\n",
       "  </tbody>\n",
       "</table>\n",
       "</div>"
      ],
      "text/plain": [
       "      Sex  Survived\n",
       "0  female       233\n",
       "1    male       109"
      ]
     },
     "execution_count": 26,
     "metadata": {},
     "output_type": "execute_result"
    }
   ],
   "source": [
    "\n",
    "titanic[['Sex', 'Survived']].groupby('Sex', as_index = False).sum().sort_values(by = 'Survived', ascending = False)"
   ]
  },
  {
   "cell_type": "code",
   "execution_count": 27,
   "id": "d6ac46f2",
   "metadata": {},
   "outputs": [
    {
     "data": {
      "text/html": [
       "<div>\n",
       "<style scoped>\n",
       "    .dataframe tbody tr th:only-of-type {\n",
       "        vertical-align: middle;\n",
       "    }\n",
       "\n",
       "    .dataframe tbody tr th {\n",
       "        vertical-align: top;\n",
       "    }\n",
       "\n",
       "    .dataframe thead th {\n",
       "        text-align: right;\n",
       "    }\n",
       "</style>\n",
       "<table border=\"1\" class=\"dataframe\">\n",
       "  <thead>\n",
       "    <tr style=\"text-align: right;\">\n",
       "      <th></th>\n",
       "      <th>Sex</th>\n",
       "      <th>Survived</th>\n",
       "      <th>Pclass</th>\n",
       "      <th>SibSp</th>\n",
       "    </tr>\n",
       "  </thead>\n",
       "  <tbody>\n",
       "    <tr>\n",
       "      <th>0</th>\n",
       "      <td>female</td>\n",
       "      <td>233</td>\n",
       "      <td>678</td>\n",
       "      <td>218</td>\n",
       "    </tr>\n",
       "    <tr>\n",
       "      <th>1</th>\n",
       "      <td>male</td>\n",
       "      <td>109</td>\n",
       "      <td>1379</td>\n",
       "      <td>248</td>\n",
       "    </tr>\n",
       "  </tbody>\n",
       "</table>\n",
       "</div>"
      ],
      "text/plain": [
       "      Sex  Survived  Pclass  SibSp\n",
       "0  female       233     678    218\n",
       "1    male       109    1379    248"
      ]
     },
     "execution_count": 27,
     "metadata": {},
     "output_type": "execute_result"
    }
   ],
   "source": [
    "\n",
    "titanic[['Sex', 'Survived', 'Pclass', 'SibSp']].groupby('Sex', as_index = False).sum().sort_values(by = 'Survived', ascending = False)"
   ]
  },
  {
   "cell_type": "code",
   "execution_count": 52,
   "id": "72e25e69",
   "metadata": {},
   "outputs": [],
   "source": [
    "import matplotlib.pyplot as plt\n",
    "%matplotlib inline"
   ]
  },
  {
   "cell_type": "code",
   "execution_count": 53,
   "id": "ba91f617",
   "metadata": {},
   "outputs": [
    {
     "data": {
      "text/plain": [
       "1    123\n",
       "0     60\n",
       "Name: Survived, dtype: int64"
      ]
     },
     "execution_count": 53,
     "metadata": {},
     "output_type": "execute_result"
    }
   ],
   "source": [
    "titanic.Survived.value_counts()"
   ]
  },
  {
   "cell_type": "code",
   "execution_count": 57,
   "id": "ad6ba2c5",
   "metadata": {},
   "outputs": [
    {
     "data": {
      "image/png": "[encoded data removed]",
      "text/plain": [
       "<Figure size 432x288 with 1 Axes>"
      ]
     },
     "metadata": {
      "needs_background": "light"
     },
     "output_type": "display_data"
    }
   ],
   "source": [
    "titanic.Survived.value_counts().plot(kind='bar'); "
   ]
  },
  {
   "cell_type": "code",
   "execution_count": 1,
   "id": "9de149aa",
   "metadata": {},
   "outputs": [],
   "source": [
    "import seaborn as sns"
   ]
  },
  {
   "cell_type": "code",
   "execution_count": 59,
   "id": "da756bab",
   "metadata": {},
   "outputs": [
    {
     "data": {
      "image/png": "[encoded data removed]",
      "text/plain": [
       "<Figure size 432x288 with 1 Axes>"
      ]
     },
     "metadata": {
      "needs_background": "light"
     },
     "output_type": "display_data"
    }
   ],
   "source": [
    "sns.countplot(x = 'Survived', data = titanic, hue='Sex'); "
   ]
  },
  {
   "cell_type": "markdown",
   "id": "bcde8f0a",
   "metadata": {
    "slideshow": {
     "slide_type": "notes"
    }
   },
   "source": [
    "While investigating the Survived column, I have taken into consideration \n",
    "different variables, first gender, and after trying to check if any other variable\n",
    "influenced in the passenger survival rate, and it seems while using describe and filtering, it seems to have a correlation with survival rate for gender and class.  \n",
    "The changes of survival were higher depending on the columns: Sex, Pclass, Ticket and SibSp. \n"
   ]
  },
  {
   "cell_type": "markdown",
   "id": "aa11fe74",
   "metadata": {
    "slideshow": {
     "slide_type": "slide"
    }
   },
   "source": [
    "## Exercise 4: Methods\n",
    "\n",
    "Given below is a simple class definition for class `Person`. At the moment the only method it has is its constructor, that takes person's first name and last name as inputs. Implement 2 additional methods for this class. One would return person's full name, another one would print it out when an object of this class is an argument to `print()` or `str()`. Create an instance of the modified class and call the first method and `print()` function on it.\n",
    "\n",
    "Method specification:\n",
    "\n",
    "Method 1 returns 1 object:\n",
    "- `full_name` - person's full name provided as first name and last name separated by a whitespace\n",
    "\n",
    "Method 2 returns `None` and prints out the object as:\n",
    "- `full_name` - person's full name provided as first name and last name separated by a whitespace\n",
    "\n",
    "External libraries:\n",
    "- None"
   ]
  },
  {
   "cell_type": "code",
   "execution_count": null,
   "id": "916f6a14",
   "metadata": {
    "slideshow": {
     "slide_type": "fragment"
    }
   },
   "outputs": [],
   "source": [
    "class Person(object):\n",
    "    def __init__(self, first_name, last_name):\n",
    "        self.first_name = first_name\n",
    "        self.last_name = last_name"
   ]
  },
  {
   "cell_type": "code",
   "execution_count": 11,
   "id": "e1dcdf69",
   "metadata": {},
   "outputs": [],
   "source": [
    "# Exercise 4:\n",
    "\n",
    "# Your text and code go here\n",
    "\n",
    "# the code has no errors as a return, but it also is not being applied to anything. \n",
    "class Person_1(object):\n",
    "    \"\"\" Returns person's full name, and print it out when the object of this class is an arument. \n",
    "    \"\"\"\n",
    "    def __init__(self, first_name, last_name):\n",
    "        self.first_name = first_name\n",
    "        self.last_name = last_name\n",
    "        \n",
    "    def full_name(self, arg):\n",
    "        \"\"\"Returns the full name.\"\"\"\n",
    "        \n",
    "        self.first_name + ' - ' + self.last_name\n",
    "    def __str__(self):\n",
    "        \"\"\" print the function.\"\"\" \n",
    "        return ('Full name: ' + str(self.first_name + '-' + self.last_name)) \n"
   ]
  },
  {
   "cell_type": "code",
   "execution_count": 12,
   "id": "e3408169",
   "metadata": {},
   "outputs": [
    {
     "name": "stdout",
     "output_type": "stream",
     "text": [
      "Help on class Person_1 in module __main__:\n",
      "\n",
      "class Person_1(builtins.object)\n",
      " |  Person_1(first_name, last_name)\n",
      " |  \n",
      " |  Returns person's full name, and print it out when the object of this class is an arument.\n",
      " |  \n",
      " |  Methods defined here:\n",
      " |  \n",
      " |  __init__(self, first_name, last_name)\n",
      " |      Initialize self.  See help(type(self)) for accurate signature.\n",
      " |  \n",
      " |  __str__(self)\n",
      " |      print the function.\n",
      " |  \n",
      " |  full_name(self, arg)\n",
      " |      Returns the full name.\n",
      " |  \n",
      " |  ----------------------------------------------------------------------\n",
      " |  Data descriptors defined here:\n",
      " |  \n",
      " |  __dict__\n",
      " |      dictionary for instance variables (if defined)\n",
      " |  \n",
      " |  __weakref__\n",
      " |      list of weak references to the object (if defined)\n",
      "\n"
     ]
    }
   ],
   "source": [
    "help(Person_1)"
   ]
  },
  {
   "cell_type": "code",
   "execution_count": 24,
   "id": "7cc52311",
   "metadata": {},
   "outputs": [],
   "source": [
    "#New instance\n",
    "\n",
    "class Person_2(object): \n",
    "    def full_name(self): \n",
    "        self.first_name = input(\"Enter first name\")\n",
    "        self.last_name = input(\"Enter last name\")\n",
    "        return self.first_name + self.last_name  \n",
    "    def display (self): \n",
    "        super().full_name() \n",
    "        print(\"Person's full name:\", self.first_name + self.last_name)\n",
    "    def __str__(self):\n",
    "        \"\"\" print the function.\"\"\" \n",
    "        return ('Full name: ' + str(self.first_name + '-' + self.last_name)) "
   ]
  },
  {
   "cell_type": "code",
   "execution_count": 26,
   "id": "29a17eaa",
   "metadata": {},
   "outputs": [],
   "source": [
    "new_class = Person_2()"
   ]
  },
  {
   "cell_type": "code",
   "execution_count": 27,
   "id": "98cba7f0",
   "metadata": {},
   "outputs": [
    {
     "name": "stdout",
     "output_type": "stream",
     "text": [
      "Help on Person_2 in module __main__ object:\n",
      "\n",
      "class Person_2(builtins.object)\n",
      " |  Methods defined here:\n",
      " |  \n",
      " |  __str__(self)\n",
      " |      print the function.\n",
      " |  \n",
      " |  display(self)\n",
      " |  \n",
      " |  full_name(self)\n",
      " |  \n",
      " |  ----------------------------------------------------------------------\n",
      " |  Data descriptors defined here:\n",
      " |  \n",
      " |  __dict__\n",
      " |      dictionary for instance variables (if defined)\n",
      " |  \n",
      " |  __weakref__\n",
      " |      list of weak references to the object (if defined)\n",
      "\n"
     ]
    }
   ],
   "source": [
    "help(new_class)"
   ]
  },
  {
   "cell_type": "code",
   "execution_count": 30,
   "id": "d87a2fa5",
   "metadata": {},
   "outputs": [
    {
     "ename": "SyntaxError",
     "evalue": "invalid syntax (619412139.py, line 1)",
     "output_type": "error",
     "traceback": [
      "\u001b[0;36m  Input \u001b[0;32mIn [30]\u001b[0;36m\u001b[0m\n\u001b[0;31m    new_class.display.(full_name)\u001b[0m\n\u001b[0m                      ^\u001b[0m\n\u001b[0;31mSyntaxError\u001b[0m\u001b[0;31m:\u001b[0m invalid syntax\n"
     ]
    }
   ],
   "source": [
    "new_class.display.(full_name)"
   ]
  },
  {
   "cell_type": "code",
   "execution_count": 31,
   "id": "5dffec4a",
   "metadata": {},
   "outputs": [
    {
     "ename": "SyntaxError",
     "evalue": "unexpected EOF while parsing (3865431583.py, line 1)",
     "output_type": "error",
     "traceback": [
      "\u001b[0;36m  Input \u001b[0;32mIn [31]\u001b[0;36m\u001b[0m\n\u001b[0;31m    new_instance = new_class(print(full_name)\u001b[0m\n\u001b[0m                                             ^\u001b[0m\n\u001b[0;31mSyntaxError\u001b[0m\u001b[0;31m:\u001b[0m unexpected EOF while parsing\n"
     ]
    }
   ],
   "source": [
    "new_instance = new_class(print(full_name)"
   ]
  },
  {
   "cell_type": "markdown",
   "id": "453f1192",
   "metadata": {},
   "source": [
    "## Exercise 5: Inheritance\n",
    "\n",
    "Now create an `Employee` class, which would inherit from `Person`. Add a data attribute for salary. Implement 2 methods, where (1) retrieves employee's salary and (2) gives a salary raise as a percentage of the current salary. Test both functions on an instance of this class.  \n",
    "\n",
    "Method specification:\n",
    "\n",
    "Method 1 returns 1 object:\n",
    "- `salary` - person's annual salary provided as an integer or float\n",
    "\n",
    "Method 2 takes 1 argument:\n",
    "- `percentage` - percentage by which employee's salary should be raised\n",
    "\n",
    "External libraries:\n",
    "- None"
   ]
  },
  {
   "cell_type": "code",
   "execution_count": null,
   "id": "17e421ff",
   "metadata": {},
   "outputs": [],
   "source": [
    "# Exercise 5:\n",
    "\n",
    "# Your text and code go here\n"
   ]
  },
  {
   "cell_type": "code",
   "execution_count": 60,
   "id": "0c3d6eb2",
   "metadata": {},
   "outputs": [],
   "source": [
    "class Employee(Person): \n",
    "    \"\"\" New data attribute with salary and raise of salary as percentage of the current wage. \n",
    "    \"\"\"\n",
    "    def __init__(self, employee): \n",
    "        self.id = id \n",
    "        self.name = name\n",
    "        \n",
    "    def retrive_salary(self, id, name, salary): \n",
    "        \"\"\" Retrive employee's salarys\"\"\"\n",
    "        super().retrive_salary(id, name)\n",
    "        self.salary = salary \n",
    "    \n",
    "    def calculate_percentage(self): \n",
    "        \"\"\"Percentage by which employee's salary should be raised\"\"\"\n",
    "        return print(self.name, self.salary)\n",
    "        "
   ]
  },
  {
   "cell_type": "code",
   "execution_count": 62,
   "id": "a0bf12c6",
   "metadata": {},
   "outputs": [],
   "source": [
    "name = ('Ariana')\n",
    "emp = Employee('Ariana')\n",
    "per = Person (\"Florin\", 500)\n"
   ]
  },
  {
   "cell_type": "code",
   "execution_count": 63,
   "id": "2dffd942",
   "metadata": {},
   "outputs": [
    {
     "name": "stdout",
     "output_type": "stream",
     "text": [
      "True\n"
     ]
    }
   ],
   "source": [
    "print(isinstance(emp, Employee))"
   ]
  },
  {
   "cell_type": "code",
   "execution_count": 64,
   "id": "8c0f2a33",
   "metadata": {},
   "outputs": [
    {
     "name": "stdout",
     "output_type": "stream",
     "text": [
      "False\n"
     ]
    }
   ],
   "source": [
    "print(isinstance(per, Employee))"
   ]
  }
 ],
 "metadata": {
  "celltoolbar": "Slideshow",
  "kernelspec": {
   "display_name": "Python 3 (ipykernel)",
   "language": "python",
   "name": "python3"
  },
  "language_info": {
   "codemirror_mode": {
    "name": "ipython",
    "version": 3
   },
   "file_extension": ".py",
   "mimetype": "text/x-python",
   "name": "python",
   "nbconvert_exporter": "python",
   "pygments_lexer": "ipython3",
   "version": "3.9.12"
  },
  "vscode": {
   "interpreter": {
    "hash": "8de02a7621436c7a0f18b07bac4484d674ee20d7aee09d9eb96de376f70beb69"
   }
  }
 },
 "nbformat": 4,
 "nbformat_minor": 5
}
