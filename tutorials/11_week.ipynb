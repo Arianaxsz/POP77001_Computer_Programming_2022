{
 "cells": [
  {
   "cell_type": "markdown",
   "id": "aafd3f75",
   "metadata": {
    "slideshow": {
     "slide_type": "slide"
    }
   },
   "source": [
    "## Week 11 Tutorial: Classes and Object-oriented Programming\n",
    "\n",
    "### POP77001 Computer Programming for Social Scientists\n",
    "\n",
    "##### Module website: [tinyurl.com/POP77001](https://tinyurl.com/POP77001)"
   ]
  },
  {
   "cell_type": "markdown",
   "id": "1bb17a5f",
   "metadata": {
    "slideshow": {
     "slide_type": "slide"
    }
   },
   "source": [
    "## Recap: Class definition\n",
    "\n",
    "- Let us recap how a class can be defined in Python.\n",
    "- Look at the mock class definition below.\n",
    "- Check that you understand what every part of it is.\n",
    "- Create an instance of the class.\n",
    "- Make sure that you can access docstrings for both class and individual methods."
   ]
  },
  {
   "cell_type": "code",
   "execution_count": 37,
   "id": "7af46754",
   "metadata": {
    "slideshow": {
     "slide_type": "slide"
    }
   },
   "outputs": [],
   "source": [
    "class MyClass(object):\n",
    "    \"\"\"Docstring describing the class.\"\"\" \n",
    "    # Use docstrings rather than comments to document\n",
    "    # both the class and its individual methods\n",
    "    # docstrings can be accessed interactively using help()\n",
    "    # function. While comments would require going back to\n",
    "    # source code.\n",
    "    \n",
    "    # Special Method for object instantiation - always first\n",
    "    def __init__(self, var): #two arguments 'self and var'\n",
    "        \"\"\"Create a new instance of class.\"\"\"\n",
    "        \n",
    "        # Methods with two underscores (\"__\") serve special purposes.\n",
    "        # E.g. __init__() is a constructor method that creates \n",
    "        # an instance of the class. \n",
    "        #\n",
    "        # `self` refers to a specific instance of the class.\n",
    "        # Then data fields can be described using `self.` prefix\n",
    "        self.var = var\n",
    "    \n",
    "    def class_method(self, arg):\n",
    "        \"\"\"Docstring describing the method.\"\"\"\n",
    "        \n",
    "        # Some method that does something.\n",
    "        pass\n",
    "    \n",
    "    # Special Method for object string representation - always last\n",
    "    def __str__(self): \n",
    "        \"\"\"Return a string representation of object.\"\"\"\n",
    "        \n",
    "        # Define here how you want an instance of the classto be printed. \n",
    "        return str(self.var)"
   ]
  },
  {
   "cell_type": "code",
   "execution_count": 38,
   "id": "d3ec170f",
   "metadata": {},
   "outputs": [
    {
     "name": "stdout",
     "output_type": "stream",
     "text": [
      "Help on function class_method in module __main__:\n",
      "\n",
      "class_method(self, arg)\n",
      "    Docstring describing the method.\n",
      "\n"
     ]
    }
   ],
   "source": [
    "help(MyClass.class_method)"
   ]
  },
  {
   "cell_type": "code",
   "execution_count": 39,
   "id": "8e5e483f",
   "metadata": {},
   "outputs": [
    {
     "name": "stdout",
     "output_type": "stream",
     "text": [
      "Help on class MyClass in module __main__:\n",
      "\n",
      "class MyClass(builtins.object)\n",
      " |  MyClass(var)\n",
      " |  \n",
      " |  Docstring describing the class.\n",
      " |  \n",
      " |  Methods defined here:\n",
      " |  \n",
      " |  __init__(self, var)\n",
      " |      Create a new instance of class.\n",
      " |  \n",
      " |  __str__(self)\n",
      " |      Return a string representation of object.\n",
      " |  \n",
      " |  class_method(self, arg)\n",
      " |      Docstring describing the method.\n",
      " |  \n",
      " |  ----------------------------------------------------------------------\n",
      " |  Data descriptors defined here:\n",
      " |  \n",
      " |  __dict__\n",
      " |      dictionary for instance variables (if defined)\n",
      " |  \n",
      " |  __weakref__\n",
      " |      list of weak references to the object (if defined)\n",
      "\n"
     ]
    }
   ],
   "source": [
    "help(MyClass)\n"
   ]
  },
  {
   "cell_type": "code",
   "execution_count": 40,
   "id": "81798b35",
   "metadata": {},
   "outputs": [],
   "source": [
    "example = MyClass ('a') #this is just an instance of a particular class with a method and associated with"
   ]
  },
  {
   "cell_type": "code",
   "execution_count": 41,
   "id": "4a60dda0",
   "metadata": {},
   "outputs": [
    {
     "name": "stdout",
     "output_type": "stream",
     "text": [
      "Help on MyClass in module __main__ object:\n",
      "\n",
      "class MyClass(builtins.object)\n",
      " |  MyClass(var)\n",
      " |  \n",
      " |  Docstring describing the class.\n",
      " |  \n",
      " |  Methods defined here:\n",
      " |  \n",
      " |  __init__(self, var)\n",
      " |      Create a new instance of class.\n",
      " |  \n",
      " |  __str__(self)\n",
      " |      Return a string representation of object.\n",
      " |  \n",
      " |  class_method(self, arg)\n",
      " |      Docstring describing the method.\n",
      " |  \n",
      " |  ----------------------------------------------------------------------\n",
      " |  Data descriptors defined here:\n",
      " |  \n",
      " |  __dict__\n",
      " |      dictionary for instance variables (if defined)\n",
      " |  \n",
      " |  __weakref__\n",
      " |      list of weak references to the object (if defined)\n",
      "\n"
     ]
    }
   ],
   "source": [
    "help(example) #we get the docstring associated from the function MyClass itself "
   ]
  },
  {
   "cell_type": "code",
   "execution_count": null,
   "id": "03643a4b",
   "metadata": {},
   "outputs": [],
   "source": []
  },
  {
   "cell_type": "markdown",
   "id": "0eca0c20",
   "metadata": {
    "slideshow": {
     "slide_type": "slide"
    }
   },
   "source": [
    "## Class definition example\n",
    "\n",
    "- Let us come back to the definition of class `Survey` from the lecture.\n",
    "- Check that you understand what each of the lines of code does.\n",
    "- Try creating and manipulating the objects of this class."
   ]
  },
  {
   "cell_type": "code",
   "execution_count": 42,
   "id": "2e5a3da3",
   "metadata": {
    "slideshow": {
     "slide_type": "slide"
    }
   },
   "outputs": [],
   "source": [
    "class Survey(object):\n",
    "    \"\"\"Create a new Survey\"\"\"\n",
    "    def __init__(self):\n",
    "        \"\"\"Initialize a new Survey with an empty questionnaire\"\"\"\n",
    "        self.questionnaire = []\n",
    "    def add_question(self, question):\n",
    "        \"\"\"Add question to the questionnaire\"\"\"\n",
    "        self.questionnaire.append(question)\n",
    "    def __add__(self, other):\n",
    "        \"\"\"Combine Surveys together\"\"\"\n",
    "        return self.questionnaire + other.questionnaire\n",
    "    def __len__(self):\n",
    "        \"\"\"Returns the length of Survey questionnaire\"\"\"\n",
    "        return len(self.questionnaire)"
   ]
  },
  {
   "cell_type": "code",
   "execution_count": 43,
   "id": "69bf3296",
   "metadata": {},
   "outputs": [
    {
     "name": "stdout",
     "output_type": "stream",
     "text": [
      "<class '__main__.Survey'>\n"
     ]
    }
   ],
   "source": [
    "print(Survey)\n"
   ]
  },
  {
   "cell_type": "code",
   "execution_count": 44,
   "id": "244b5459",
   "metadata": {},
   "outputs": [],
   "source": [
    "survey_1 = Survey()"
   ]
  },
  {
   "cell_type": "code",
   "execution_count": 45,
   "id": "cd829a83",
   "metadata": {},
   "outputs": [],
   "source": [
    "\n",
    "survey_1.add_question(\"What is your ocupation?\")"
   ]
  },
  {
   "cell_type": "code",
   "execution_count": 46,
   "id": "7d829026",
   "metadata": {},
   "outputs": [],
   "source": [
    "survey_2 = Survey()"
   ]
  },
  {
   "cell_type": "code",
   "execution_count": 47,
   "id": "a14ab370",
   "metadata": {},
   "outputs": [],
   "source": [
    "survey_2.add_question(\"What is your age?\")"
   ]
  },
  {
   "cell_type": "code",
   "execution_count": 48,
   "id": "d0e2f1a3",
   "metadata": {},
   "outputs": [],
   "source": [
    "survey_3 = survey_1 + survey_2"
   ]
  },
  {
   "cell_type": "code",
   "execution_count": 49,
   "id": "efc01044",
   "metadata": {},
   "outputs": [
    {
     "name": "stdout",
     "output_type": "stream",
     "text": [
      "['What is your ocupation?', 'What is your age?']\n"
     ]
    }
   ],
   "source": [
    "print(survey_3)"
   ]
  },
  {
   "cell_type": "markdown",
   "id": "81f11962",
   "metadata": {
    "slideshow": {
     "slide_type": "slide"
    }
   },
   "source": [
    "## Exercise 1: Creating methods\n",
    "\n",
    "- Notice that there only one method designed to be explicitly called by a user.\n",
    "- It is the method for adding question to survey questionnaire.\n",
    "- Create a corresponding question for removing questions.\n",
    "- Try out a new class design:\n",
    "    - First, create a Survey object;\n",
    "    - Second, add 2 questions to the questionnaire;\n",
    "    - Lastly, remove one of those questions from it."
   ]
  },
  {
   "cell_type": "code",
   "execution_count": 50,
   "id": "8745d202",
   "metadata": {},
   "outputs": [
    {
     "ename": "SyntaxError",
     "evalue": "invalid syntax (1215755224.py, line 2)",
     "output_type": "error",
     "traceback": [
      "\u001b[0;36m  Cell \u001b[0;32mIn [50], line 2\u001b[0;36m\u001b[0m\n\u001b[0;31m    Class Survey(object):\u001b[0m\n\u001b[0m          ^\u001b[0m\n\u001b[0;31mSyntaxError\u001b[0m\u001b[0;31m:\u001b[0m invalid syntax\n"
     ]
    }
   ],
   "source": [
    " #First create a Survey object \n",
    " Class Survey(object):\n",
    " \"\"\"container for modifying survey design\"\"\"\n",
    "    def remove_question(self, question):\n",
    "        \"\"\"Remove question to the questionnaire\"\"\"\n",
    "        self.questionnaire.remove(question)\n",
    "    def __sub__(self, other):\n",
    "        \"\"\"Remove Surveys together\"\"\"\n",
    "        return self.questionnaire - other.questionnaire"
   ]
  },
  {
   "cell_type": "markdown",
   "id": "f93754be",
   "metadata": {
    "slideshow": {
     "slide_type": "slide"
    }
   },
   "source": [
    "## Exercise 2: Inheritance Hierarchy\n",
    "\n",
    "- Create a subclass of `Survey` class called OnlineSurvey.\n",
    "- Implement operator overloading for `<` (less than) operator.\n",
    "- It will return True if the number of questions in one survey is smaller than the other.\n",
    "- Create 2 Survey with different number of questions.\n",
    "- Combine them in a list.\n",
    "- Sort this list using `sorted()` function."
   ]
  },
  {
   "cell_type": "code",
   "execution_count": null,
   "id": "921f6c52",
   "metadata": {},
   "outputs": [],
   "source": [
    "survey_3 > survey_1"
   ]
  },
  {
   "cell_type": "code",
   "execution_count": 51,
   "id": "5b9d38af",
   "metadata": {},
   "outputs": [],
   "source": [
    "class OnlineSurvey(Survey):\n",
    "    \n",
    "    # This is a class variable\n",
    "    # When a new instance of class is created\n",
    "    # a new instance of next_survey_id is not\n",
    "    next_survey_id = 1\n",
    "    \n",
    "    def __init__(self):\n",
    "        \"\"\"Create a new OnlineSurvey with an empty questionnaire\"\"\"\n",
    "        super().__init__()\n",
    "        self.survey_id = OnlineSurvey.next_survey_id\n",
    "        OnlineSurvey.next_survey_id += 1\n",
    "        self.mode = 'Online'\n",
    "    def __lt__(self, other): \n",
    "        \"\"\"Return true if the numner of questions in one survey\n",
    "        is less than in the other\"\"\"\n",
    "        return len(self) < len(other)\n",
    "        "
   ]
  },
  {
   "cell_type": "code",
   "execution_count": null,
   "id": "d7bdd414",
   "metadata": {},
   "outputs": [],
   "source": [
    "OnlineSurvey_1 = OnlineSurvey()\n"
   ]
  },
  {
   "cell_type": "code",
   "execution_count": null,
   "id": "96c53f3b",
   "metadata": {},
   "outputs": [],
   "source": []
  },
  {
   "cell_type": "markdown",
   "id": "adfde48c",
   "metadata": {},
   "source": []
  },
  {
   "cell_type": "markdown",
   "id": "1b5bdd4a",
   "metadata": {
    "slideshow": {
     "slide_type": "slide"
    }
   },
   "source": [
    "## Week 11: Assignment 4\n",
    "\n",
    "- Data Wrangling in Python and Classes\n",
    "- Due by 12:00 on Monday, 28th November"
   ]
  }
 ],
 "metadata": {
  "celltoolbar": "Slideshow",
  "kernelspec": {
   "display_name": "Python 3.11.0 64-bit",
   "language": "python",
   "name": "python3"
  },
  "language_info": {
   "codemirror_mode": {
    "name": "ipython",
    "version": 3
   },
   "file_extension": ".py",
   "mimetype": "text/x-python",
   "name": "python",
   "nbconvert_exporter": "python",
   "pygments_lexer": "ipython3",
   "version": "3.11.0"
  },
  "vscode": {
   "interpreter": {
    "hash": "aee8b7b246df8f9039afb4144a1f6fd8d2ca17a180786b69acc140d282b71a49"
   }
  }
 },
 "nbformat": 4,
 "nbformat_minor": 5
}
