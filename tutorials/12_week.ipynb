{
 "cells": [
  {
   "cell_type": "code",
   "execution_count": 3,
   "id": "a821562c",
   "metadata": {
    "slideshow": {
     "slide_type": "skip"
    }
   },
   "outputs": [
    {
     "ename": "SyntaxError",
     "evalue": "expression cannot contain assignment, perhaps you meant \"==\"? (2319968013.py, line 1)",
     "output_type": "error",
     "traceback": [
      "\u001b[0;36m  Cell \u001b[0;32mIn [3], line 1\u001b[0;36m\u001b[0m\n\u001b[0;31m    options(jupyter.rich_display = FALSE)\u001b[0m\n\u001b[0m            ^\u001b[0m\n\u001b[0;31mSyntaxError\u001b[0m\u001b[0;31m:\u001b[0m expression cannot contain assignment, perhaps you meant \"==\"?\n"
     ]
    }
   ],
   "source": [
    "options(jupyter.rich_display = FALSE)"
   ]
  },
  {
   "cell_type": "markdown",
   "id": "b685c5a5",
   "metadata": {
    "slideshow": {
     "slide_type": "slide"
    }
   },
   "source": [
    "## Week 12 Tutorial: Complexity and Performance\n",
    "\n",
    "### POP77001 Computer Programming for Social Scientists\n",
    "\n",
    "##### Module website: [tinyurl.com/POP77001](https://tinyurl.com/POP77001)"
   ]
  },
  {
   "cell_type": "markdown",
   "id": "04eab92e",
   "metadata": {
    "slideshow": {
     "slide_type": "slide"
    }
   },
   "source": [
    "## Benchmarking in R\n",
    "\n",
    "- In the lecture we used `system.time()` function to analyse function performance\n",
    "- Albeit conveniently built-in, the main drawback is that it's rather coarse\n",
    "- While useful for detecting large performance gaps, it often doesn't capture more subtle differences\n",
    "- The reason is that it only runs once and uses seconds as a standard unit of measurement\n",
    "- Here we will use `microbenchmark` package and identically named function to time function calls\n",
    "- Remember to print out the results of `microbenchmark`, otherwise times of individual runs are returnes"
   ]
  },
  {
   "cell_type": "code",
   "execution_count": null,
   "id": "38c4cd65",
   "metadata": {
    "slideshow": {
     "slide_type": "fragment"
    }
   },
   "outputs": [],
   "source": [
    "library(\"microbenchmark\")"
   ]
  },
  {
   "cell_type": "markdown",
   "id": "4b564d4a",
   "metadata": {
    "slideshow": {
     "slide_type": "slide"
    }
   },
   "source": [
    "## Exercise 1: Compare performance\n",
    "\n",
    "- Consider a data frame with 20 different variables below.\n",
    "- We want to know the mean of each variable in the matrix.\n",
    "- There are 2 principal ways of estimating them:\n",
    "    - One using `apply()` function.\n",
    "    - Or using built-in `colMeans()` function.\n",
    "- Apply each of those function to calculate means.\n",
    "- Benchmark the time it took to run using `system.time()` benchmark and `microbenchmark` package.\n",
    "- What do you find?"
   ]
  },
  {
   "cell_type": "code",
   "execution_count": null,
   "id": "91bd5d82",
   "metadata": {
    "slideshow": {
     "slide_type": "slide"
    }
   },
   "outputs": [],
   "source": [
    "set.seed(2021)\n",
    "# Here we create a data frame of 1000 observations of 50 variables\n",
    "# where each variable is a random draw from a normal distribution with mean\n",
    "# drawn from a uniform distribution between 0 and 10 and standard deviation 1\n",
    "dat <- data.frame(mapply(\n",
    "  function(x) cbind(rnorm(n = 1000, mean = x, sd = 1)),\n",
    "  runif(n = 50, min = 0, max = 10)\n",
    "))"
   ]
  },
  {
   "cell_type": "code",
   "execution_count": null,
   "id": "c7a35657",
   "metadata": {
    "slideshow": {
     "slide_type": "fragment"
    }
   },
   "outputs": [
    {
     "data": {
      "text/plain": [
       "[1] 1000   50"
      ]
     },
     "metadata": {},
     "output_type": "display_data"
    }
   ],
   "source": [
    "dim(dat)"
   ]
  },
  {
   "cell_type": "markdown",
   "id": "a2955b06",
   "metadata": {
    "slideshow": {
     "slide_type": "slide"
    }
   },
   "source": [
    "## Benchmarking in Python\n",
    "\n",
    "- It is possible to measure timing of operation in Python with built-in `time` module\n",
    "- But it would require recording time before a call and after and then taking a difference\n",
    "- Python's built-in `timeit` module provides a better alternative as it does it automatically an more\n",
    "- It behaves similar to `microbenchmark` in R in that it averages over many runs\n",
    "- It is also available in IPython (and, as a result, in Jupyter) as a magic command that can be called with `%timeit`"
   ]
  },
  {
   "cell_type": "markdown",
   "id": "59860c5a",
   "metadata": {
    "slideshow": {
     "slide_type": "slide"
    }
   },
   "source": [
    "## Switching kernels in Jupyter\n",
    "\n",
    "- In order to be able to continue with Python part of the exercises you can switch your kernel.\n",
    "- Got to `Kernel`, `Change kernel` and pick Python from the drop-down menu.\n",
    "\n",
    "![Jupyter Notebook Change Kernel](../imgs/jupyter_notebook_switch_kernel.png)"
   ]
  },
  {
   "cell_type": "code",
   "execution_count": 7,
   "id": "a3852666",
   "metadata": {
    "slideshow": {
     "slide_type": "slide"
    }
   },
   "outputs": [
    {
     "ename": "ModuleNotFoundError",
     "evalue": "No module named 'numpy'",
     "output_type": "error",
     "traceback": [
      "\u001b[0;31m---------------------------------------------------------------------------\u001b[0m",
      "\u001b[0;31mModuleNotFoundError\u001b[0m                       Traceback (most recent call last)",
      "Cell \u001b[0;32mIn [7], line 2\u001b[0m\n\u001b[1;32m      1\u001b[0m \u001b[39mimport\u001b[39;00m \u001b[39mrandom\u001b[39;00m\n\u001b[0;32m----> 2\u001b[0m \u001b[39mimport\u001b[39;00m \u001b[39mnumpy\u001b[39;00m \u001b[39mas\u001b[39;00m \u001b[39mnp\u001b[39;00m\n\u001b[1;32m      3\u001b[0m \u001b[39mimport\u001b[39;00m \u001b[39mpandas\u001b[39;00m \u001b[39mas\u001b[39;00m \u001b[39mpd\u001b[39;00m\n",
      "\u001b[0;31mModuleNotFoundError\u001b[0m: No module named 'numpy'"
     ]
    }
   ],
   "source": [
    "import random\n",
    "import numpy as np\n",
    "import pandas as pd"
   ]
  },
  {
   "cell_type": "code",
   "execution_count": null,
   "id": "d07caeae",
   "metadata": {
    "slideshow": {
     "slide_type": "fragment"
    }
   },
   "outputs": [
    {
     "data": {
      "text/plain": [
       "-0.7261368325293743"
      ]
     },
     "execution_count": 2,
     "metadata": {},
     "output_type": "execute_result"
    }
   ],
   "source": [
    "# Random numbers in Python can be generated either using\n",
    "# the built-in `random` module or using `numpy` external\n",
    "# module (which is underlying a lot of `pandas` operations)\n",
    "random.gauss(mu = 0, sigma = 1)"
   ]
  },
  {
   "cell_type": "code",
   "execution_count": null,
   "id": "e02364bc",
   "metadata": {
    "slideshow": {
     "slide_type": "fragment"
    }
   },
   "outputs": [
    {
     "data": {
      "text/plain": [
       "array([-0.88354514])"
      ]
     },
     "execution_count": 3,
     "metadata": {},
     "output_type": "execute_result"
    }
   ],
   "source": [
    "# Instead of just a float number it returns an array\n",
    "np.random.randn(1)"
   ]
  },
  {
   "cell_type": "code",
   "execution_count": null,
   "id": "c7c4f132",
   "metadata": {
    "slideshow": {
     "slide_type": "slide"
    }
   },
   "outputs": [],
   "source": [
    "# Let's start our benchmarking experiments from looking\n",
    "# at random number generation in Python.\n",
    "# First let's draw a sample of 1M using both built-in `random` module\n",
    "# And `numpy`'s methods"
   ]
  },
  {
   "cell_type": "code",
   "execution_count": null,
   "id": "d49ab4b5",
   "metadata": {
    "slideshow": {
     "slide_type": "fragment"
    }
   },
   "outputs": [],
   "source": [
    "N = 1000000"
   ]
  },
  {
   "cell_type": "code",
   "execution_count": null,
   "id": "40fb9635",
   "metadata": {
    "slideshow": {
     "slide_type": "fragment"
    }
   },
   "outputs": [
    {
     "name": "stdout",
     "output_type": "stream",
     "text": [
      "358 ms ± 2.62 ms per loop (mean ± std. dev. of 7 runs, 1 loop each)\n"
     ]
    }
   ],
   "source": [
    "# We can use `for _` expression to indicate that returned value is being discarded\n",
    "%timeit [random.gauss(mu = 0, sigma = 1) for _ in range(N)]"
   ]
  },
  {
   "cell_type": "code",
   "execution_count": null,
   "id": "a4487e2f",
   "metadata": {
    "slideshow": {
     "slide_type": "fragment"
    }
   },
   "outputs": [
    {
     "name": "stdout",
     "output_type": "stream",
     "text": [
      "18.2 ms ± 99.3 µs per loop (mean ± std. dev. of 7 runs, 100 loops each)\n"
     ]
    }
   ],
   "source": [
    "# `numpy` is order of magnitude faster than built-in module\n",
    "%timeit np.random.normal(size = N)"
   ]
  },
  {
   "cell_type": "markdown",
   "id": "8e8bb926",
   "metadata": {
    "slideshow": {
     "slide_type": "slide"
    }
   },
   "source": [
    "## Exercise 2: \n",
    "\n",
    "- Now let's replicate the calculation of some summary statistics in `pandas` DataFrame.\n",
    "- As in the case of R, there are 2 principal ways of doing this:\n",
    "    - First, is iterating over columns in a data set with a list comprehension and applying some function to each of columns (e.g. `mean()` from `statistics` module).\n",
    "    - Alternatively, you can apply one of the built-in statistical summary methods (check Week 10 for the list).\n",
    "- Apply each of those approaches to the data frame below.\n",
    "- How do these two approaches compare?"
   ]
  },
  {
   "cell_type": "code",
   "execution_count": null,
   "id": "aa205c41",
   "metadata": {
    "slideshow": {
     "slide_type": "slide"
    }
   },
   "outputs": [],
   "source": [
    "from statistics import mean"
   ]
  },
  {
   "cell_type": "code",
   "execution_count": null,
   "id": "8d19d86f",
   "metadata": {
    "slideshow": {
     "slide_type": "fragment"
    }
   },
   "outputs": [],
   "source": [
    "# Setting seed using 'numpy' is slightly more involved than with 'random' module (or R)\n",
    "# We first need to create a random number generator object, that we can than use\n",
    "# to generate random draws from distributions that are consistent across re-runs\n",
    "rng = np.random.default_rng(2021)\n",
    "\n",
    "# Here we are, essentially, replicating the process of data frame creation as in R above\n",
    "# each variable is a random draw from a normal distribution with mean\n",
    "# drawn from a uniform distribution between 0 and 10 and standard deviation 1\n",
    "dat2 = pd.DataFrame(np.concatenate([\n",
    "    rng.normal(loc = x, scale = 1, size = (1000, 1))\n",
    "    for x\n",
    "    in rng.uniform(low = 0, high = 10, size = 50)\n",
    "], axis = 1))"
   ]
  },
  {
   "cell_type": "code",
   "execution_count": null,
   "id": "30a4f37b",
   "metadata": {
    "slideshow": {
     "slide_type": "fragment"
    }
   },
   "outputs": [
    {
     "data": {
      "text/plain": [
       "(1000, 50)"
      ]
     },
     "execution_count": 10,
     "metadata": {},
     "output_type": "execute_result"
    }
   ],
   "source": [
    "dat2.shape"
   ]
  },
  {
   "cell_type": "code",
   "execution_count": null,
   "id": "f0c46caf",
   "metadata": {},
   "outputs": [
    {
     "ename": "NameError",
     "evalue": "name 'dat2' is not defined",
     "output_type": "error",
     "traceback": [
      "\u001b[0;31m---------------------------------------------------------------------------\u001b[0m",
      "\u001b[0;31mNameError\u001b[0m                                 Traceback (most recent call last)",
      "Cell \u001b[0;32mIn [2], line 1\u001b[0m\n\u001b[0;32m----> 1\u001b[0m [x \u001b[39mif\u001b[39;00m \u001b[39mlen\u001b[39m(x\u001b[39m.\u001b[39msplit(\u001b[39m'\u001b[39m\u001b[39m \u001b[39m\u001b[39m'\u001b[39m)) \u001b[39m<\u001b[39m \u001b[39m3\u001b[39m \u001b[39melse\u001b[39;00m \u001b[39mlen\u001b[39m(x\u001b[39m.\u001b[39msplit(\u001b[39m'\u001b[39m\u001b[39m \u001b[39m\u001b[39m'\u001b[39m)) \u001b[39mfor\u001b[39;00m x \u001b[39min\u001b[39;00m dat2]\n",
      "\u001b[0;31mNameError\u001b[0m: name 'dat2' is not defined"
     ]
    }
   ],
   "source": [
    "[x if len(x.split(' ')) < 3 else len(x.split(' ')) for x in dat2]"
   ]
  },
  {
   "cell_type": "code",
   "execution_count": null,
   "id": "9491f876",
   "metadata": {},
   "outputs": [],
   "source": [
    "[mean(dat2[i])]"
   ]
  },
  {
   "cell_type": "markdown",
   "id": "b2a37335",
   "metadata": {
    "slideshow": {
     "slide_type": "slide"
    }
   },
   "source": [
    "## Next\n",
    "\n",
    "- Final project: Due at 12:00 on Monday, 19th December (submission on Blackboard)"
   ]
  }
 ],
 "metadata": {
  "celltoolbar": "Slideshow",
  "kernelspec": {
   "display_name": "Python 3.11.0 64-bit",
   "language": "python",
   "name": "python3"
  },
  "language_info": {
   "codemirror_mode": {
    "name": "ipython",
    "version": 3
   },
   "file_extension": ".py",
   "mimetype": "text/x-python",
   "name": "python",
   "nbconvert_exporter": "python",
   "pygments_lexer": "ipython3",
   "version": "3.11.0"
  },
  "vscode": {
   "interpreter": {
    "hash": "aee8b7b246df8f9039afb4144a1f6fd8d2ca17a180786b69acc140d282b71a49"
   }
  }
 },
 "nbformat": 4,
 "nbformat_minor": 5
}
