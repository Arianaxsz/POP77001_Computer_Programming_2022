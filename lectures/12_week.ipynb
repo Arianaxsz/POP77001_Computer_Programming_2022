{
 "cells": [
  {
   "cell_type": "code",
   "execution_count": 1,
   "id": "9f1607dd",
   "metadata": {
    "slideshow": {
     "slide_type": "skip"
    },
    "vscode": {
     "languageId": "r"
    }
   },
   "outputs": [],
   "source": [
    "options(jupyter.rich_display = FALSE)"
   ]
  },
  {
   "cell_type": "markdown",
   "id": "46080e92",
   "metadata": {
    "slideshow": {
     "slide_type": "slide"
    }
   },
   "source": [
    "## Week 12: Complexity and Performance\n",
    "\n",
    "### POP77001 Computer Programming for Social Scientists\n",
    "\n",
    "### Tom Paskhalis\n",
    "\n",
    "##### 28 November 2022\n",
    "\n",
    "##### Module website: [tinyurl.com/POP77001](https://tinyurl.com/POP77001)"
   ]
  },
  {
   "cell_type": "markdown",
   "id": "27dae166",
   "metadata": {
    "slideshow": {
     "slide_type": "slide"
    }
   },
   "source": [
    "## Overview\n",
    "\n",
    "- Algorithms\n",
    "- Computational complexity\n",
    "- Big-O notation\n",
    "- Code optimisation\n",
    "- Benchmarking"
   ]
  },
  {
   "cell_type": "markdown",
   "id": "67b711dd",
   "metadata": {
    "slideshow": {
     "slide_type": "slide"
    }
   },
   "source": [
    "## Algorithms\n",
    "\n",
    "<table>\n",
    "    <tr>\n",
    "        <td><div><img height='300' width='300' src='../imgs/penguin_origami.gif'></div></td>\n",
    "        <td><div><img height='300' width='300' src='../imgs/median_flowchart.png'></div></td>\n",
    "    </tr>\n",
    "</table>\n",
    "\n",
    "Source: [Origami Club](https://en.origami-club.com/sea/enper-penguin/zu.html)"
   ]
  },
  {
   "cell_type": "markdown",
   "id": "c9090427",
   "metadata": {
    "slideshow": {
     "slide_type": "slide"
    }
   },
   "source": [
    "## Algorithm\n",
    "\n",
    "- *Finite list of well-defined instructions that take input and produce output.*\n",
    "\n",
    "- Consists of a sequence of simple steps that start from input, follow some control flow and have a stopping rule."
   ]
  },
  {
   "cell_type": "markdown",
   "id": "3f7988be",
   "metadata": {
    "slideshow": {
     "slide_type": "slide"
    }
   },
   "source": [
    "## Complexity\n",
    "\n",
    "- **Conceptual complexity**\n",
    "    - Structural sophistication of a program\n",
    "- **Computational complexity**\n",
    "    - Resources (time/space) required to finish a program\n",
    "- Often there is some trade-off between the two\n",
    "- Reducing computational complexity results in increased conceptual complexity"
   ]
  },
  {
   "cell_type": "markdown",
   "id": "99b44a26",
   "metadata": {
    "slideshow": {
     "slide_type": "slide"
    }
   },
   "source": [
    "## How long does a program take to run?"
   ]
  },
  {
   "cell_type": "code",
   "execution_count": 2,
   "id": "ee5665af",
   "metadata": {
    "slideshow": {
     "slide_type": "fragment"
    },
    "vscode": {
     "languageId": "r"
    }
   },
   "outputs": [],
   "source": [
    "# Linear search using exhaustive enumeration\n",
    "linear_search <- function(v, x) {\n",
    "  n <- length(v)\n",
    "  for (i in seq_len(n)) {\n",
    "    if (v[i] == x) {\n",
    "      return(TRUE)\n",
    "    }\n",
    "  }\n",
    "  return(FALSE)\n",
    "}"
   ]
  },
  {
   "cell_type": "markdown",
   "id": "1887027f",
   "metadata": {
    "slideshow": {
     "slide_type": "slide"
    }
   },
   "source": [
    "## Benchmarking"
   ]
  },
  {
   "cell_type": "code",
   "execution_count": 3,
   "id": "d64db99e",
   "metadata": {
    "slideshow": {
     "slide_type": "fragment"
    },
    "vscode": {
     "languageId": "r"
    }
   },
   "outputs": [
    {
     "data": {
      "text/plain": [
       "   user  system elapsed \n",
       "  0.003   0.000   0.002 "
      ]
     },
     "metadata": {},
     "output_type": "display_data"
    }
   ],
   "source": [
    "# Best case (running time is independent of the length of vector)\n",
    "system.time(linear_search(1:1e6, 1))"
   ]
  },
  {
   "cell_type": "code",
   "execution_count": 4,
   "id": "f0184565",
   "metadata": {
    "slideshow": {
     "slide_type": "fragment"
    },
    "vscode": {
     "languageId": "r"
    }
   },
   "outputs": [
    {
     "data": {
      "text/plain": [
       "   user  system elapsed \n",
       "  0.015   0.000   0.016 "
      ]
     },
     "metadata": {},
     "output_type": "display_data"
    }
   ],
   "source": [
    "# Average case (middle element for vector of length 1M)\n",
    "system.time(linear_search(1:1e6, 5e5))"
   ]
  },
  {
   "cell_type": "code",
   "execution_count": 5,
   "id": "5517db1f",
   "metadata": {
    "slideshow": {
     "slide_type": "fragment"
    },
    "vscode": {
     "languageId": "r"
    }
   },
   "outputs": [
    {
     "data": {
      "text/plain": [
       "   user  system elapsed \n",
       "   0.03    0.00    0.03 "
      ]
     },
     "metadata": {},
     "output_type": "display_data"
    }
   ],
   "source": [
    "# Worst case (last element for vector of length 1M)\n",
    "system.time(linear_search(1:1e6, 1e6))"
   ]
  },
  {
   "cell_type": "code",
   "execution_count": 6,
   "id": "9454bf76",
   "metadata": {
    "slideshow": {
     "slide_type": "fragment"
    },
    "vscode": {
     "languageId": "r"
    }
   },
   "outputs": [
    {
     "data": {
      "text/plain": [
       "   user  system elapsed \n",
       " 31.747   0.063  31.883 "
      ]
     },
     "metadata": {},
     "output_type": "display_data"
    }
   ],
   "source": [
    "# Even worse case (last element for vector of length 1B)\n",
    "system.time(linear_search(1:1e9, 1e9))"
   ]
  },
  {
   "cell_type": "markdown",
   "id": "3944d561",
   "metadata": {
    "slideshow": {
     "slide_type": "slide"
    }
   },
   "source": [
    "## Limitations of benchmarking\n",
    "\n",
    "- Depends on many factors:\n",
    "    - Computer hardware\n",
    "    - Input size\n",
    "    - Programming language used\n",
    "- Which of the benchmarking cases is the most useful?"
   ]
  },
  {
   "cell_type": "markdown",
   "id": "31e31194",
   "metadata": {
    "slideshow": {
     "slide_type": "slide"
    }
   },
   "source": [
    "## Worst-case scenario\n",
    "\n",
    "> Anything that can go wrong will go wrong.  \n",
    ">    \n",
    "> Edward Murphy\n",
    "\n",
    "- In **defensive design** it is often helpful to think about the worst-case scenario.\n",
    "- This sets an **upper bound** on the execution time of a program.\n",
    "- However, this still depends on the input size."
   ]
  },
  {
   "cell_type": "markdown",
   "id": "eb5bfbf1",
   "metadata": {
    "slideshow": {
     "slide_type": "slide"
    }
   },
   "source": [
    "## Number of steps\n",
    "\n",
    "- A useful heuristic is the number of steps that a program takes."
   ]
  },
  {
   "cell_type": "code",
   "execution_count": 7,
   "id": "a34eecd9",
   "metadata": {
    "slideshow": {
     "slide_type": "fragment"
    },
    "vscode": {
     "languageId": "r"
    }
   },
   "outputs": [],
   "source": [
    "linear_search <- function(v, x) {\n",
    "  n <- length(v) # 2 steps (call to length() function and assignment `<-`)\n",
    "  # n steps + 1 step (for seq_len(n) call)\n",
    "  for (i in seq_len(n)) {\n",
    "    # 3n steps (n steps for `[`(v, i), another n steps for `==` and n calls to `if`)\n",
    "    if (v[i] == x) {\n",
    "      return(TRUE) # 1 step\n",
    "    }\n",
    "  }\n",
    "  return(FALSE) # 1 step\n",
    "}"
   ]
  },
  {
   "cell_type": "markdown",
   "id": "1f10b9cd",
   "metadata": {
    "slideshow": {
     "slide_type": "fragment"
    }
   },
   "source": [
    "- $4n + 4$\n",
    "- If length of input vector $v$ is $1000$ ($n = 1000$),\n",
    "- This function will execute roughly $4004$ steps."
   ]
  },
  {
   "cell_type": "markdown",
   "id": "6c6ce1ee",
   "metadata": {
    "slideshow": {
     "slide_type": "slide"
    }
   },
   "source": [
    "## Calculating number of steps\n",
    "\n",
    "- Consider the previous example: $4n + 2$.\n",
    "- As $n$ grows larger, these extra $2$ steps can be ignored.\n",
    "- Multiplicative constants can certainly make a difference within implementation.\n",
    "- But across several algorithms the difference between $2n$ and $4n$ is usually negligible."
   ]
  },
  {
   "cell_type": "markdown",
   "id": "21452b6b",
   "metadata": {
    "slideshow": {
     "slide_type": "slide"
    }
   },
   "source": [
    "## Alternative algorithms"
   ]
  },
  {
   "cell_type": "code",
   "execution_count": 8,
   "id": "df697927",
   "metadata": {
    "slideshow": {
     "slide_type": "fragment"
    },
    "vscode": {
     "languageId": "r"
    }
   },
   "outputs": [],
   "source": [
    "# Binary search for sorted sequences\n",
    "binary_search <- function(v, x) {\n",
    "  low <- 1\n",
    "  high <- length(v)\n",
    "  while (low <= high) {\n",
    "    # Calculate mid-point (similar to median)\n",
    "    m <- (low + high) %/% 2\n",
    "    if (v[m] < x) {\n",
    "      low <- m + 1\n",
    "    } else if (v[m] > x) {\n",
    "      high <- m - 1\n",
    "    } else {\n",
    "      return(TRUE)\n",
    "    }\n",
    "  }\n",
    "  return(FALSE)\n",
    "}"
   ]
  },
  {
   "cell_type": "markdown",
   "id": "714cdd37",
   "metadata": {
    "slideshow": {
     "slide_type": "slide"
    }
   },
   "source": [
    "## Comparing algorithms (benchmarking)"
   ]
  },
  {
   "cell_type": "code",
   "execution_count": 9,
   "id": "1cc570dd",
   "metadata": {
    "scrolled": true,
    "slideshow": {
     "slide_type": "fragment"
    },
    "vscode": {
     "languageId": "r"
    }
   },
   "outputs": [
    {
     "data": {
      "text/plain": [
       "   user  system elapsed \n",
       "  0.034   0.000   0.035 "
      ]
     },
     "metadata": {},
     "output_type": "display_data"
    }
   ],
   "source": [
    "system.time(linear_search(1:1e6, 1e6))"
   ]
  },
  {
   "cell_type": "code",
   "execution_count": 10,
   "id": "e31522b7",
   "metadata": {
    "scrolled": true,
    "slideshow": {
     "slide_type": "fragment"
    },
    "vscode": {
     "languageId": "r"
    }
   },
   "outputs": [
    {
     "data": {
      "text/plain": [
       "   user  system elapsed \n",
       "  0.005   0.000   0.005 "
      ]
     },
     "metadata": {},
     "output_type": "display_data"
    }
   ],
   "source": [
    "system.time(binary_search(1:1e6, 1e6))"
   ]
  },
  {
   "cell_type": "code",
   "execution_count": 11,
   "id": "bbdd2c6b",
   "metadata": {
    "slideshow": {
     "slide_type": "fragment"
    },
    "vscode": {
     "languageId": "r"
    }
   },
   "outputs": [
    {
     "data": {
      "text/plain": [
       "   user  system elapsed \n",
       "  0.000   0.004   0.004 "
      ]
     },
     "metadata": {},
     "output_type": "display_data"
    }
   ],
   "source": [
    "system.time(1e6 %in% 1:1e6)"
   ]
  },
  {
   "cell_type": "markdown",
   "id": "eb946c5c",
   "metadata": {
    "slideshow": {
     "slide_type": "slide"
    }
   },
   "source": [
    "## Comparing algorithms (n steps)"
   ]
  },
  {
   "cell_type": "code",
   "execution_count": 12,
   "id": "ddaf18d9",
   "metadata": {
    "slideshow": {
     "slide_type": "fragment"
    },
    "vscode": {
     "languageId": "r"
    }
   },
   "outputs": [],
   "source": [
    "linear_search <- function(v, x) {\n",
    "  n <- length(v)\n",
    "  for (i in seq_len(n)) {\n",
    "    if (v[i] == x) {\n",
    "      print(paste0(\"Number of iterations: \", as.character(i)))\n",
    "      return(i) # return(TRUE)\n",
    "    }\n",
    "  }\n",
    "  return(i) # return(FALSE)\n",
    "}"
   ]
  },
  {
   "cell_type": "code",
   "execution_count": 13,
   "id": "8d26ffa7",
   "metadata": {
    "slideshow": {
     "slide_type": "fragment"
    },
    "vscode": {
     "languageId": "r"
    }
   },
   "outputs": [],
   "source": [
    "binary_search <- function(v, x) {\n",
    "  low <- 1\n",
    "  high <- length(v)\n",
    "  iters <- 1\n",
    "  while (low <= high) {\n",
    "    m <- (low + high) %/% 2\n",
    "    if (v[m] < x) {\n",
    "      low <- m + 1\n",
    "    } else if (v[m] > x) {\n",
    "      high <- m - 1\n",
    "    } else {\n",
    "      print(paste0(\"Number of iterations: \", as.character(iters)))\n",
    "      return(iters) # return(TRUE)\n",
    "    }\n",
    "    iters <- iters + 1 #iters = iterations \n",
    "  }\n",
    "  return(iters) # return(FALSE)\n",
    "}"
   ]
  },
  {
   "cell_type": "markdown",
   "id": "afdc9388",
   "metadata": {
    "slideshow": {
     "slide_type": "slide"
    }
   },
   "source": [
    "## Comparing algorithms (n steps) continued"
   ]
  },
  {
   "cell_type": "code",
   "execution_count": 14,
   "id": "362f03fb",
   "metadata": {
    "slideshow": {
     "slide_type": "fragment"
    },
    "vscode": {
     "languageId": "r"
    }
   },
   "outputs": [
    {
     "name": "stdout",
     "output_type": "stream",
     "text": [
      "[1] \"Number of iterations: 1000\"\n",
      "[1] \"Number of iterations: 1000000\"\n"
     ]
    }
   ],
   "source": [
    "ls_1e3 <- linear_search(1:1e3, 1e3)\n",
    "ls_1e6 <- linear_search(1:1e6, 1e6)"
   ]
  },
  {
   "cell_type": "code",
   "execution_count": 15,
   "id": "565255b8",
   "metadata": {
    "slideshow": {
     "slide_type": "fragment"
    },
    "vscode": {
     "languageId": "r"
    }
   },
   "outputs": [
    {
     "name": "stdout",
     "output_type": "stream",
     "text": [
      "[1] \"Number of iterations: 10\"\n",
      "[1] \"Number of iterations: 20\"\n"
     ]
    }
   ],
   "source": [
    "bs_1e3 <- binary_search(1:1e3, 1e3)\n",
    "bs_1e6 <- binary_search(1:1e6, 1e6)"
   ]
  },
  {
   "cell_type": "markdown",
   "id": "04378c8c",
   "metadata": {
    "slideshow": {
     "slide_type": "slide"
    }
   },
   "source": [
    "## Big-O notation\n",
    "\n",
    "- Performance on small inputs and in best-case scenarios is usually of limited interest.\n",
    "- What matters is the worst-case performance on progressively larger inputs.\n",
    "- In other words, **upper bound** (or **order of growth**).\n",
    "- Big O (**O**rder of growth) is an *asymptotic notation* for describing such growth.\n",
    "- For example, in case of linear search $O(n)$ (running time increases linearly in the size of input).\n",
    "- The most important question is the growth rate of the largest term.\n",
    "- All constants can be ignored."
   ]
  },
  {
   "cell_type": "markdown",
   "id": "451b1a86",
   "metadata": {
    "slideshow": {
     "slide_type": "slide"
    }
   },
   "source": [
    "## Important computational complexity cases\n",
    "\n",
    "| Big-O notation   | Running time   |\n",
    "|:-----------------|:---------------|\n",
    "| $O(1)$           | constant       |\n",
    "| $O(\\log n)$      | logarithmic    |\n",
    "| $O(n)$           | linear         |\n",
    "| $O(n \\log n)$    | log-linear     |\n",
    "| $O(n^c)$         | polynomial     |\n",
    "| $O(c^n)$         | exponential    |\n",
    "| $O(n!)$          | factorial      |"
   ]
  },
  {
   "cell_type": "markdown",
   "id": "25fba1ac",
   "metadata": {
    "slideshow": {
     "slide_type": "slide"
    }
   },
   "source": [
    "## Constant complexity: $O(1)$\n",
    "\n",
    "- Running time of a program is bounded by a value, which is independent of the input size"
   ]
  },
  {
   "cell_type": "code",
   "execution_count": 16,
   "id": "598df309",
   "metadata": {
    "slideshow": {
     "slide_type": "fragment"
    },
    "vscode": {
     "languageId": "r"
    }
   },
   "outputs": [],
   "source": [
    "get_len <- function(v) {\n",
    "    # Internally, length just returns the 'length' attribute of an R object\n",
    "    n <- length(v)\n",
    "    return(n)\n",
    "}"
   ]
  },
  {
   "cell_type": "code",
   "execution_count": 17,
   "id": "cf1a9dc4",
   "metadata": {
    "slideshow": {
     "slide_type": "fragment"
    },
    "vscode": {
     "languageId": "r"
    }
   },
   "outputs": [
    {
     "data": {
      "text/plain": [
       "   user  system elapsed \n",
       "      0       0       0 "
      ]
     },
     "metadata": {},
     "output_type": "display_data"
    }
   ],
   "source": [
    "system.time(get_len(1:1e3))"
   ]
  },
  {
   "cell_type": "code",
   "execution_count": 18,
   "id": "e8a25bbd",
   "metadata": {
    "slideshow": {
     "slide_type": "fragment"
    },
    "vscode": {
     "languageId": "r"
    }
   },
   "outputs": [
    {
     "data": {
      "text/plain": [
       "   user  system elapsed \n",
       "  0.001   0.000   0.001 "
      ]
     },
     "metadata": {},
     "output_type": "display_data"
    }
   ],
   "source": [
    "system.time(get_len(1:1e6))"
   ]
  },
  {
   "cell_type": "code",
   "execution_count": 19,
   "id": "545574f9",
   "metadata": {
    "slideshow": {
     "slide_type": "fragment"
    },
    "vscode": {
     "languageId": "r"
    }
   },
   "outputs": [
    {
     "data": {
      "text/plain": [
       "   user  system elapsed \n",
       "      0       0       0 "
      ]
     },
     "metadata": {},
     "output_type": "display_data"
    }
   ],
   "source": [
    "system.time(get_len(1:1e9))"
   ]
  },
  {
   "cell_type": "markdown",
   "id": "2f97931b",
   "metadata": {
    "slideshow": {
     "slide_type": "slide"
    }
   },
   "source": [
    "## Logarithmic complexity: $O(\\log n)$\n",
    "\n",
    "- E.g. for binary search $O(\\log(n))$ (running time increases as a logarithm of the input size)\n",
    "- Base of logarithm is irrelevant as it can be easily re-arranged $\\log_2(n) = \\log_2(10) \\times \\log_{10}(n)$ and constants are ignored\n",
    "- For base $2$ we can say that each time the size of input doubles, the algorithm performs one additional step"
   ]
  },
  {
   "cell_type": "code",
   "execution_count": 20,
   "id": "96478202",
   "metadata": {
    "slideshow": {
     "slide_type": "fragment"
    },
    "vscode": {
     "languageId": "r"
    }
   },
   "outputs": [
    {
     "name": "stdout",
     "output_type": "stream",
     "text": [
      "[1] \"Number of iterations: 4\"\n",
      "[1] \"Number of iterations: 5\"\n",
      "[1] \"Number of iterations: 7\"\n",
      "[1] \"Number of iterations: 8\"\n",
      "[1] \"Number of iterations: 10\"\n"
     ]
    }
   ],
   "source": [
    "bs_10 <- binary_search(1:10, 10)\n",
    "bs_20 <- binary_search(1:20, 20)\n",
    "bs_100 <- binary_search(1:100, 100)\n",
    "bs_200 <- binary_search(1:200, 200)\n",
    "bs_1000 <- binary_search(1:1000, 1000)"
   ]
  },
  {
   "cell_type": "markdown",
   "id": "19e5ae09",
   "metadata": {
    "slideshow": {
     "slide_type": "slide"
    }
   },
   "source": [
    "## Linear complexity: $O(n)$\n",
    "\n",
    "- For linear search $O((n))$ (running time increases as a linear function of the input size)\n",
    "- Generally, iteration over all elements of a sequence would be in $O(n)$\n",
    "- But it doesn't have to be a loop (e.g. recursive factorial implementation)"
   ]
  },
  {
   "cell_type": "code",
   "execution_count": 21,
   "id": "c1b439da",
   "metadata": {
    "slideshow": {
     "slide_type": "fragment"
    },
    "vscode": {
     "languageId": "r"
    }
   },
   "outputs": [
    {
     "name": "stdout",
     "output_type": "stream",
     "text": [
      "[1] \"Number of iterations: 10\"\n",
      "[1] \"Number of iterations: 20\"\n",
      "[1] \"Number of iterations: 100\"\n",
      "[1] \"Number of iterations: 200\"\n",
      "[1] \"Number of iterations: 1000\"\n"
     ]
    }
   ],
   "source": [
    "ls_10 <- linear_search(1:10, 10)\n",
    "ls_20 <- linear_search(1:20, 20)\n",
    "ls_100 <- linear_search(1:100, 100)\n",
    "ls_200 <- linear_search(1:200, 200)\n",
    "ls_1000 <- linear_search(1:1000, 1000)"
   ]
  },
  {
   "cell_type": "markdown",
   "id": "b3e52d6f",
   "metadata": {
    "slideshow": {
     "slide_type": "slide"
    }
   },
   "source": [
    "## Graphic comparison of time complexity: $O(1)$, $O(\\log n)$, $O(n)$"
   ]
  },
  {
   "cell_type": "code",
   "execution_count": 22,
   "id": "be9ea55c",
   "metadata": {
    "slideshow": {
     "slide_type": "fragment"
    },
    "vscode": {
     "languageId": "r"
    }
   },
   "outputs": [],
   "source": [
    "x <- c(10, 20, 100, 200, 1000)\n",
    "constant_complexity <- rep(10, length(x))\n",
    "log_complexity <- c(bs_10, bs_20, bs_100, bs_200, bs_1000)\n",
    "linear_complexity <- c(ls_10, ls_20, ls_100, ls_200, ls_1000)"
   ]
  },
  {
   "cell_type": "code",
   "execution_count": 23,
   "id": "0b1da620",
   "metadata": {
    "slideshow": {
     "slide_type": "fragment"
    },
    "vscode": {
     "languageId": "r"
    }
   },
   "outputs": [
    {
     "data": {
      "image/png": "[encoded data removed]",
      "text/plain": [
       "Plot with title “O(1) vs O(log(n)) vs O(n)”"
      ]
     },
     "metadata": {
      "image/png": {
       "height": 420,
       "width": 420
      }
     },
     "output_type": "display_data"
    }
   ],
   "source": [
    "plot(x, linear_complexity, type = \"n\", main = \"O(1) vs O(log(n)) vs O(n)\", xlab = \"Input size\", ylab = \"Time\")\n",
    "lines(x, constant_complexity, type = \"l\", col = \"black\", lty = 1, lwd = 3)\n",
    "lines(x, log_complexity, type = \"l\", col = \"red\", lty = 2, lwd = 3)\n",
    "lines(x, linear_complexity, type = \"l\", col = \"blue\", lty = 3, lwd = 3)\n",
    "legend(\"topleft\", legend = c(\"Constant(10)\", \"Logarithmic\", \"Linear\"),\n",
    "       col = c(\"black\", \"red\", \"blue\"), lty = 1:3, cex = 1.5)"
   ]
  },
  {
   "cell_type": "markdown",
   "id": "0f2e972d",
   "metadata": {
    "slideshow": {
     "slide_type": "slide"
    }
   },
   "source": [
    "## Log-Linear complexity: $O(n \\log n)$\n",
    "\n",
    "- More complicated complexity case\n",
    "- Involves a product of 2 terms\n",
    "- Important complexity case as many practical problems are solved in log-linear time\n",
    "- Many sorting algorithms (e.g. merge sort, timsort, built-in `sorted()` in Python)"
   ]
  },
  {
   "cell_type": "markdown",
   "id": "eb85bf36",
   "metadata": {
    "slideshow": {
     "slide_type": "slide"
    }
   },
   "source": [
    "## Polynomial complexity: $O(n^c)$\n",
    "\n",
    "- Most common case is quadratic complexity: $O(n^2)$\n",
    "- Nested loops typically result in polynomial complexity"
   ]
  },
  {
   "cell_type": "code",
   "execution_count": 24,
   "id": "ec34e0a9",
   "metadata": {
    "slideshow": {
     "slide_type": "fragment"
    },
    "vscode": {
     "languageId": "r"
    }
   },
   "outputs": [],
   "source": [
    "# Check whether one vector is contained within another vector\n",
    "is_subset <- function(v1, v2) {\n",
    "  n <- length(v1)\n",
    "  m <- length(v2)\n",
    "  iters <- 1\n",
    "  for (i in seq_len(n)) {\n",
    "    matched <- FALSE\n",
    "    for (j in seq_len(m)) {\n",
    "      iters <- iters + 1\n",
    "      if (v1[i] == v2[j]) {\n",
    "        matched <- TRUE\n",
    "        break\n",
    "      }\n",
    "    }\n",
    "    if (isTRUE(matched)) {\n",
    "      print(paste0(\"Number of iterations: \", as.character(iters)))\n",
    "      return(iters) # return(TRUE)\n",
    "    }\n",
    "  }\n",
    "  print(paste0(\"Number of iterations: \", as.character(iters)))\n",
    "  return(iters) # return(FALSE)\n",
    "}"
   ]
  },
  {
   "cell_type": "code",
   "execution_count": 25,
   "id": "5a3ae997",
   "metadata": {
    "slideshow": {
     "slide_type": "fragment"
    },
    "vscode": {
     "languageId": "r"
    }
   },
   "outputs": [
    {
     "name": "stdout",
     "output_type": "stream",
     "text": [
      "[1] \"Number of iterations: 111\"\n",
      "[1] \"Number of iterations: 421\"\n",
      "[1] \"Number of iterations: 10101\"\n",
      "[1] \"Number of iterations: 40201\"\n",
      "[1] \"Number of iterations: 1001001\"\n"
     ]
    }
   ],
   "source": [
    "# For simplicity of analysis let's assume that\n",
    "# lengths of 2 input vectors are about the same\n",
    "is_10 <- is_subset(11:21, 1:10)\n",
    "is_20 <- is_subset(21:41, 1:20)\n",
    "is_100 <- is_subset(101:201, 1:100)\n",
    "is_200 <- is_subset(201:401, 1:200)\n",
    "is_1000 <- is_subset(1001:2001, 1:1000)"
   ]
  },
  {
   "cell_type": "markdown",
   "id": "ce11846e",
   "metadata": {
    "slideshow": {
     "slide_type": "slide"
    }
   },
   "source": [
    "## Graphic comparison: $O(n)$, $O(n \\log n)$, $O(n^2)$"
   ]
  },
  {
   "cell_type": "code",
   "execution_count": 26,
   "id": "c776f712",
   "metadata": {
    "slideshow": {
     "slide_type": "fragment"
    },
    "vscode": {
     "languageId": "r"
    }
   },
   "outputs": [],
   "source": [
    "log_linear_complexity <- x * log(x)\n",
    "quadratic_complexity <- c(is_10, is_20, is_100, is_200, is_1000)"
   ]
  },
  {
   "cell_type": "code",
   "execution_count": 27,
   "id": "87650eac",
   "metadata": {
    "slideshow": {
     "slide_type": "fragment"
    },
    "vscode": {
     "languageId": "r"
    }
   },
   "outputs": [
    {
     "data": {
      "image/png": "[encoded data removed]",
      "text/plain": [
       "Plot with title “O(n) vs O(nlog(n)) vs O(n^2)”"
      ]
     },
     "metadata": {
      "image/png": {
       "height": 420,
       "width": 420
      }
     },
     "output_type": "display_data"
    }
   ],
   "source": [
    "plot(x, quadratic_complexity, type = \"n\", main = \"O(n) vs O(nlog(n)) vs O(n^2)\", xlab = \"Input size\", ylab = \"Time\")\n",
    "lines(x, linear_complexity, type = \"l\", col = \"black\", lty = 1, lwd = 3)\n",
    "lines(x, log_linear_complexity, type = \"l\", col = \"red\", lty = 2, lwd = 3)\n",
    "lines(x, quadratic_complexity, type = \"l\", col = \"blue\", lty = 3, lwd = 3)\n",
    "legend(\"topleft\", legend = c(\"Linear\", \"Log-Linear\", \"Quadratic\"),\n",
    "       col = c(\"black\", \"red\", \"blue\"), lty = 1:3, cex = 1.5)"
   ]
  },
  {
   "cell_type": "markdown",
   "id": "86952373",
   "metadata": {
    "slideshow": {
     "slide_type": "slide"
    }
   },
   "source": [
    "## Exponential and factorial complexity: $O(c^n)$ and $O(n!)$\n",
    "\n",
    "- Many real-life problems have exponential or factorial solutions\n",
    "- E.g. [travelling salesman problem](https://en.wikipedia.org/wiki/Travelling_salesman_problem) (given the list of points and distances, what is the shortest path through all of them)\n",
    "- However, the general solutions with such complexity are usually impractical\n",
    "- For these problems either approximate solutions can be used\n",
    "- Or a problem is solved for specific cases"
   ]
  },
  {
   "cell_type": "markdown",
   "id": "df9b5002",
   "metadata": {
    "slideshow": {
     "slide_type": "slide"
    }
   },
   "source": [
    "## Graphic comparison: $O(n^2)$, $O(10^n)$, $O(n!)$"
   ]
  },
  {
   "cell_type": "code",
   "execution_count": 28,
   "id": "d8bc630f",
   "metadata": {
    "slideshow": {
     "slide_type": "fragment"
    },
    "vscode": {
     "languageId": "r"
    }
   },
   "outputs": [],
   "source": [
    "x <- 1:25\n",
    "quadratic_complexity <- x ^ 2\n",
    "exponential_complexity <- 10 ^ x\n",
    "factorial_complexity <- factorial(x)"
   ]
  },
  {
   "cell_type": "code",
   "execution_count": 29,
   "id": "c55224b9",
   "metadata": {
    "slideshow": {
     "slide_type": "fragment"
    },
    "vscode": {
     "languageId": "r"
    }
   },
   "outputs": [
    {
     "data": {
      "image/png": "[encoded data removed]",
      "text/plain": [
       "Plot with title “O(n^2) vs O(10^n) vs O(n!)”"
      ]
     },
     "metadata": {
      "image/png": {
       "height": 420,
       "width": 420
      }
     },
     "output_type": "display_data"
    }
   ],
   "source": [
    "plot(x, factorial_complexity, type = \"n\", main = \"O(n^2) vs O(10^n) vs O(n!)\", xlab = \"Input size\", ylab = \"Time\")\n",
    "lines(x, quadratic_complexity, type = \"l\", col = \"black\", lty = 1, lwd = 3)\n",
    "lines(x, exponential_complexity, type = \"l\", col = \"red\", lty = 2, lwd = 3)\n",
    "lines(x, factorial_complexity, type = \"l\", col = \"blue\", lty = 3, lwd = 3)\n",
    "legend(\"topleft\", legend = c(\"Quadratic\", \"Exponential\", \"Factorial\"),\n",
    "       col = c(\"black\", \"red\", \"blue\"), lty = 1:3, cex = 1.5)"
   ]
  },
  {
   "cell_type": "markdown",
   "id": "9967b083",
   "metadata": {
    "slideshow": {
     "slide_type": "slide"
    }
   },
   "source": [
    "## Time complexity in practice\n",
    "\n",
    "- Check for loops, recursion.\n",
    "- Think about function calls, what is the complexity of underlying implementations?\n",
    "- The presented complexity cases are not exhaustive and are often 'idealised' cases.\n",
    "- Complexity can take any form (e.g. one of `sort()` methods in R is $O(n^{4/3})$).\n",
    "- Running time can be a function of more than one input (e.g. `is_subset()` function above).\n",
    "- Big-O ignores constants (multiplicative and additive), but they matter within implementation.\n",
    "- There is a tradeoff between conceptual and computational complexity (more efficient solutions are often harder to read and debug)."
   ]
  },
  {
   "cell_type": "markdown",
   "id": "d97d77f4",
   "metadata": {
    "slideshow": {
     "slide_type": "slide"
    }
   },
   "source": [
    "## Code optimisation tradeoff\n",
    "\n",
    "<div style=\"text-align: center;\">\n",
    "    <img width=\"500\" height=\"500\" src=\"../imgs/xkcd_1205.png\">\n",
    "</div>\n",
    "\n",
    "Source: [xkcd](https://xkcd.com/1205/)"
   ]
  },
  {
   "cell_type": "markdown",
   "id": "30b71b7f",
   "metadata": {
    "slideshow": {
     "slide_type": "slide"
    }
   },
   "source": [
    "## Benchmarking and profiling in R\n",
    "\n",
    "- Built-in function `system.time()` provides basic benchmarking functionality \n",
    "- One problem is it runs each code snippet once, which can be sensitive to other factors\n",
    "- Check `microbenchmark` for more advanced features (e.g. averaging over many runs)\n",
    "- *Profiling* allows more granular instruction-specific timing\n",
    "- RStudio has a built-in profiling functionality (through `profvis` package)\n",
    "\n",
    "Extra: [Profiling code with RStudio IDE](https://support.rstudio.com/hc/en-us/articles/218221837-Profiling-R-code-with-the-RStudio-IDE)"
   ]
  },
  {
   "cell_type": "markdown",
   "id": "b063b409",
   "metadata": {
    "slideshow": {
     "slide_type": "slide"
    }
   },
   "source": [
    "## Code optimisation in R\n",
    "\n",
    "- Find the biggest bottlenecks (parts of code that take most time to evaluate)\n",
    "- Look for existing solutions to your problem (including built-in R functions)\n",
    "- Avoid unnecessary copying\n",
    "- Vectorise your code (more below)\n",
    "- Parallelise your code\n",
    "- Do not start optimising prematurely"
   ]
  },
  {
   "cell_type": "markdown",
   "id": "1ddee539",
   "metadata": {
    "slideshow": {
     "slide_type": "slide"
    }
   },
   "source": [
    "## Vectorised operations in R\n",
    "\n",
    "- Many operations in R are *vectorized*\n",
    "- They take vectors as input and produce vectors as output\n",
    "- This is not just convenient, but often speeds up your code\n",
    "- It eliminates extra function calls by relying on built-in routines\n",
    "- Many base R functions are implemented in fast compiled C/Fortran code"
   ]
  },
  {
   "cell_type": "markdown",
   "id": "7b1ed54a",
   "metadata": {
    "slideshow": {
     "slide_type": "slide"
    }
   },
   "source": [
    "## Vectorised operations in R example"
   ]
  },
  {
   "cell_type": "code",
   "execution_count": 30,
   "id": "14934dd1",
   "metadata": {
    "slideshow": {
     "slide_type": "fragment"
    },
    "vscode": {
     "languageId": "r"
    }
   },
   "outputs": [],
   "source": [
    "# 1M can also be written as 1e6 in scientific notation (see above)\n",
    "# We draw a random sample of 1M elements from a uniform distribution\n",
    "# With min = 0 and max = 1\n",
    "x <- runif(1000000)\n",
    "y <- runif(1000000)\n",
    "# And a vector for storing the results\n",
    "z <- vector(\"double\", length = 1000000)"
   ]
  },
  {
   "cell_type": "code",
   "execution_count": 31,
   "id": "96e03863",
   "metadata": {
    "slideshow": {
     "slide_type": "fragment"
    },
    "vscode": {
     "languageId": "r"
    }
   },
   "outputs": [
    {
     "data": {
      "text/plain": [
       "   user  system elapsed \n",
       "  0.003   0.001   0.003 "
      ]
     },
     "metadata": {},
     "output_type": "display_data"
    }
   ],
   "source": [
    "# Using built-in vectorized summation with `+` operator\n",
    "system.time(z <- x + y)"
   ]
  },
  {
   "cell_type": "code",
   "execution_count": 32,
   "id": "2dd1a753",
   "metadata": {
    "slideshow": {
     "slide_type": "fragment"
    },
    "vscode": {
     "languageId": "r"
    }
   },
   "outputs": [
    {
     "data": {
      "text/plain": [
       "   user  system elapsed \n",
       "  0.052   0.000   0.053 "
      ]
     },
     "metadata": {},
     "output_type": "display_data"
    }
   ],
   "source": [
    "# Using an excplicit loop for summing up individual elements\n",
    "system.time(for (i in seq_along(x)) z[i] <- x[i] + y[i])"
   ]
  },
  {
   "cell_type": "markdown",
   "id": "d201427f",
   "metadata": {
    "slideshow": {
     "slide_type": "slide"
    }
   },
   "source": [
    "## Vectorised functions in R\n",
    "\n",
    "- All core arithmetic operators are vectorized (`+`, `-`, `*`, `^`, `/`, `%/%`, `%%`)\n",
    "- Relational operators (`==`, `!=`, `>`, `>=`, `<`, `<=`)\n",
    "- Matrix/data.frame summaries (`rowSums()`, `colSums()`, `rowMeans()`, `colMeans()`)\n",
    "- Some functionals (particularly, `lapply()`)\n",
    "- Some other functions for common operations (e.g. `ifelse()` , `which()`, `cumsum()`)"
   ]
  },
  {
   "cell_type": "markdown",
   "id": "7609221d",
   "metadata": {
    "slideshow": {
     "slide_type": "slide"
    }
   },
   "source": [
    "## Next\n",
    "\n",
    "- Tutorial: Benchmarking, analysis of function complexity and performance\n",
    "- Final project: Due at 12:00 on Monday, 19th December (submission on Blackboard)"
   ]
  },
  {
   "cell_type": "markdown",
   "id": "df45827c",
   "metadata": {
    "slideshow": {
     "slide_type": "slide"
    }
   },
   "source": [
    "## The End\n",
    "\n",
    "<div style=\"text-align: center;\">\n",
    "    <img width=\"500\" height=\"500\" src=\"../imgs/bsod.png\">\n",
    "</div>"
   ]
  }
 ],
 "metadata": {
  "celltoolbar": "Slideshow",
  "kernelspec": {
   "display_name": "R",
   "language": "R",
   "name": "ir"
  },
  "language_info": {
   "codemirror_mode": "r",
   "file_extension": ".r",
   "mimetype": "text/x-r-source",
   "name": "R",
   "pygments_lexer": "r",
   "version": "4.1.2"
  }
 },
 "nbformat": 4,
 "nbformat_minor": 5
}
